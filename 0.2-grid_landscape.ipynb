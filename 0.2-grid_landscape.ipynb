{
 "cells": [
  {
   "cell_type": "code",
   "execution_count": 1,
   "metadata": {},
   "outputs": [],
   "source": [
    "%load_ext autoreload\n",
    "%autoreload 2"
   ]
  },
  {
   "cell_type": "code",
   "execution_count": 2,
   "metadata": {},
   "outputs": [],
   "source": [
    "import numpy as np\n",
    "import matplotlib.pyplot as plt\n",
    "#from scipy import interpolate\n",
    "import networkx as nx\n",
    "\n",
    "import pandas as pd\n",
    "from sklearn.cluster import KMeans\n",
    "\n",
    "import landscape as ld\n",
    "from networkx.algorithms import approximation as apx\n",
    "\n",
    "from typing import List, Tuple"
   ]
  },
  {
   "cell_type": "code",
   "execution_count": 3,
   "metadata": {},
   "outputs": [],
   "source": [
    "Point = Tuple[int, int]"
   ]
  },
  {
   "cell_type": "markdown",
   "metadata": {},
   "source": [
    "# utils"
   ]
  },
  {
   "cell_type": "markdown",
   "metadata": {},
   "source": [
    "## terminals/points"
   ]
  },
  {
   "cell_type": "code",
   "execution_count": 4,
   "metadata": {},
   "outputs": [],
   "source": [
    "def set_terminals_in_graph(G: nx.Graph, points: List[Point]) -> None:\n",
    "    set_points(G, points)"
   ]
  },
  {
   "cell_type": "code",
   "execution_count": 5,
   "metadata": {},
   "outputs": [],
   "source": [
    "def set_points(G: nx.Graph, points: List[Point]) -> None:\n",
    "    \"\"\"\n",
    "    Set terminals/points to a graph G\n",
    "    \n",
    "    If a node is terminal, its attribute `type` is set to `terminal`. \n",
    "    \"\"\"\n",
    "    G = G.copy()\n",
    "    terminal_nodes_list = {node: \"terminal\" if node in points else None for node in G.nodes()}\n",
    "    nx.set_node_attributes(G, terminal_nodes_list, \"type\")\n",
    "    \n",
    "    return G"
   ]
  },
  {
   "cell_type": "code",
   "execution_count": 6,
   "metadata": {},
   "outputs": [],
   "source": [
    "def get_points(G: nx.graph) -> List[Point]:\n",
    "    \"\"\"Get terminal nodes from graph ``G``.\"\"\"\n",
    "    points = [k for k,v in nx.get_node_attributes(G, \"type\").items() \n",
    "              if v == \"terminal\"]\n",
    "    return points"
   ]
  },
  {
   "cell_type": "code",
   "execution_count": 7,
   "metadata": {},
   "outputs": [],
   "source": [
    "def convert_points_array_to_list(points_array):\n",
    "    return [(e[0], e[1]) for e in points_array]"
   ]
  },
  {
   "cell_type": "code",
   "execution_count": 8,
   "metadata": {},
   "outputs": [],
   "source": [
    "def get_Lx_Ly(G: nx.Graph, L: int=None) -> [int, int]:\n",
    "    # compute L wrt node coords\n",
    "    if L is None:\n",
    "        Lx, Ly = np.array([node for node in G.nodes()]).max(axis=0) + [1, 1]\n",
    "    else:\n",
    "        Lx = Ly = L\n",
    "    \n",
    "    return Lx, Ly"
   ]
  },
  {
   "cell_type": "markdown",
   "metadata": {},
   "source": [
    "## graphs"
   ]
  },
  {
   "cell_type": "code",
   "execution_count": 9,
   "metadata": {},
   "outputs": [],
   "source": [
    "def get_pos(g: nx.Graph) -> dict:\n",
    "    return dict( (n, n) for n in g.nodes() )"
   ]
  },
  {
   "cell_type": "code",
   "execution_count": 10,
   "metadata": {},
   "outputs": [],
   "source": [
    "def create_graph(L: int, points: List[Point]=None) -> nx.Graph:\n",
    "    \"\"\"\n",
    "    Descrption here.\n",
    "    \n",
    "    Args:    \n",
    "        L (int): size of the box. The number of nodes in the graph will be L*L\n",
    "        points (List[Point]): list of points where important nodes are\n",
    "    \n",
    "    Returns:\n",
    "        nx.Graph: networkx graph\n",
    "    \n",
    "    \"\"\"    \n",
    "    # create square grid graph\n",
    "    G = nx.grid_2d_graph(range(1,int(L)), range(1,int(L)))\n",
    "    \n",
    "    if points is not None:\n",
    "        G = set_points(G, points)\n",
    "    \n",
    "    return G"
   ]
  },
  {
   "cell_type": "markdown",
   "metadata": {},
   "source": [
    "## algos"
   ]
  },
  {
   "cell_type": "code",
   "execution_count": 11,
   "metadata": {},
   "outputs": [],
   "source": [
    "def remove_edges_landscape_method(G: nx.Graph, Nx0: int, alpha: float, A0: int=5000):\n",
    "    \"\"\"\n",
    "    Remove edges of graph ``G`` by using a landscape function.\n",
    "    \n",
    "    Args:\n",
    "        G (nx.Graph): networkx graph\n",
    "        alpha (float): threshold parameter to remove edges. Delete edges \n",
    "            where the landscape function > alpha \n",
    "        A0 (int): A0 parameter to be used by the landscape function.\n",
    "    \"\"\"\n",
    "    G = G.copy()\n",
    "    \n",
    "    points = get_points(G)\n",
    "    Lx, Ly = get_Lx_Ly(G)\n",
    "    if Lx != Ly:\n",
    "        raise NotImplementedError(\"Only implemented for squared grids\")\n",
    "    L = Lx\n",
    "    \n",
    "    #compute landscape function\n",
    "    fLand = ld.find_landscape(Nx0 = Nx0, L = L, A0 = 5000, points = points)\n",
    "\n",
    "    print( 'number of original edges {}'.format(len(G.edges))) \n",
    "    \n",
    "    # delete edges where the landscape function > alpha \n",
    "    for e in G.edges:\n",
    "        x, y = 0.5*(np.array(e[0]) + np.array(e[1]))\n",
    "        if fLand(x,y) > alpha:\n",
    "            G.remove_edge(e[0],e[1])\n",
    "            \n",
    "    # delete nodes with degree 1\n",
    "    ends = [ x[0] for x in G.degree() if x[1] <= 1]\n",
    "    G.remove_nodes_from(ends)\n",
    "            \n",
    "    print( 'number of final edges {}'.format(len(G.edges)))\n",
    "            \n",
    "    return G"
   ]
  },
  {
   "cell_type": "code",
   "execution_count": 12,
   "metadata": {},
   "outputs": [],
   "source": [
    "def get_naive_steiner(G: nx.Graph, points: List[Point]=None) -> nx.Graph:\n",
    "    \"\"\"\n",
    "    Returns a Steiner Tree for a graph ``G`` withe terminals ``points``\n",
    "    \n",
    "    Note: The algorithm is an approximation of the optimal weighted \n",
    "        Steiner Tree problem.\n",
    "    \"\"\"\n",
    "    if points is None:\n",
    "        points = get_points(G)\n",
    "    # approximate steiner tree\n",
    "    G_st = apx.steinertree.steiner_tree(G, points, weight='length') \n",
    "    print('The number of edges of the Steiner tree is '+ str(G_st.number_of_edges()))\n",
    "    return G_st"
   ]
  },
  {
   "cell_type": "code",
   "execution_count": 13,
   "metadata": {},
   "outputs": [],
   "source": [
    "def get_improved_steiner_plot(G: nx.Graph, points: List[Point]=None):\n",
    "    \n",
    "    G_ld = G.copy()\n",
    "    if points is None:\n",
    "        points = get_points(G_ld)\n",
    "    \n",
    "    # all connected components of G after cutting edges\n",
    "    graphs = [G_ld.subgraph(c).copy() for c in nx.connected_components(G_ld)]\n",
    "    \n",
    "    # compute steiner for smaller G\n",
    "    count_edges = 0\n",
    "    ld_st_edges_set = set()\n",
    "    for graph in graphs:\n",
    "        G_ld_st = apx.steinertree.steiner_tree(graph, points, weight='length') \n",
    "        count_edges += G_ld_st.number_of_edges()\n",
    "        ld_st_edges_set.update(set(G_ld_st.edges()))\n",
    "    \n",
    "    print('The total number of edges of the Steiner trees is '+ str(count_edges))\n",
    "    \n",
    "    G_ld.remove_edges_from(list(set(G_ld.edges()) - ld_st_edges_set))\n",
    "    \n",
    "    return G_ld"
   ]
  },
  {
   "cell_type": "markdown",
   "metadata": {},
   "source": [
    "## plots"
   ]
  },
  {
   "cell_type": "code",
   "execution_count": 14,
   "metadata": {},
   "outputs": [],
   "source": [
    "def plot_graph(G: nx.Graph, L: int=None, tree=None):\n",
    "    \"\"\"\n",
    "    Plot graph with terminal nodes.\n",
    "    \n",
    "    Terminals correspond the nodes with attribute `type` equals to `terminal`\n",
    "    \"\"\"\n",
    "    \n",
    "    Lx, Ly = get_Lx_Ly(G, L)\n",
    "    \n",
    "    # plotology \n",
    "    fig, ax = plt.subplots(figsize=(6,6));\n",
    "\n",
    "    node_pos = dict( (n, n) for n in G.nodes() )\n",
    "\n",
    "    terminals_list = [k for k,v in nx.get_node_attributes(G, \"type\").items() \n",
    "                      if v == \"terminal\"]\n",
    "    xpoints, ypoints = np.array(terminals_list).T\n",
    "    \n",
    "    plt.xlim(0, Lx)\n",
    "    plt.ylim(0, Ly)\n",
    "\n",
    "    nx.draw_networkx_edges(G, node_pos, ax = ax, with_labels = False)\n",
    "    ax.tick_params(left=True, bottom=True, labelleft=True, labelbottom=True)\n",
    "\n",
    "    # add tree\n",
    "    if tree is not None:\n",
    "        nx.draw(tree, node_pos, ax=ax, node_size = 0, edge_color = 'r', width = 2.5)\n",
    "    \n",
    "    # add scatter plot\n",
    "    plt.scatter(xpoints, ypoints)\n",
    "    plt.show()"
   ]
  },
  {
   "cell_type": "markdown",
   "metadata": {},
   "source": [
    "# Example1"
   ]
  },
  {
   "cell_type": "markdown",
   "metadata": {},
   "source": [
    "## points"
   ]
  },
  {
   "cell_type": "code",
   "execution_count": 15,
   "metadata": {},
   "outputs": [],
   "source": [
    "# points we want to cluster and join\n",
    "points = [(1, 1), (2, 2), (3, 4), (5, 1), (5, 4), (8, 2), (7, 8), (6,  6), (2,8), (4,3) ]\n",
    "#points = [[1, 1], [2, 2], [3, 4], [5, 1], [5, 4], [8, 2], [7, 8], [6,  6] , [2, 8], [4,3] ]"
   ]
  },
  {
   "cell_type": "markdown",
   "metadata": {},
   "source": [
    "## different approach: algo & plot"
   ]
  },
  {
   "cell_type": "code",
   "execution_count": 16,
   "metadata": {},
   "outputs": [],
   "source": [
    "G = create_graph(L = 10, points = points)"
   ]
  },
  {
   "cell_type": "code",
   "execution_count": 17,
   "metadata": {},
   "outputs": [
    {
     "data": {
      "image/png": "[encoded data removed]",
      "text/plain": [
       "<Figure size 432x432 with 1 Axes>"
      ]
     },
     "metadata": {
      "needs_background": "light"
     },
     "output_type": "display_data"
    }
   ],
   "source": [
    "plot_graph(G)"
   ]
  },
  {
   "cell_type": "code",
   "execution_count": 18,
   "metadata": {},
   "outputs": [
    {
     "name": "stdout",
     "output_type": "stream",
     "text": [
      "number of original edges 144\n",
      "number of final edges 52\n"
     ]
    }
   ],
   "source": [
    "G = remove_edges_landscape_method(G, Nx0=40, alpha=0.8)"
   ]
  },
  {
   "cell_type": "code",
   "execution_count": 19,
   "metadata": {},
   "outputs": [
    {
     "data": {
      "image/png": "[encoded data removed]",
      "text/plain": [
       "<Figure size 432x432 with 1 Axes>"
      ]
     },
     "metadata": {
      "needs_background": "light"
     },
     "output_type": "display_data"
    }
   ],
   "source": [
    "plot_graph(G)"
   ]
  },
  {
   "cell_type": "markdown",
   "metadata": {},
   "source": [
    "# Example 2\n",
    "Points selected at random. Try varying alpha for different results. Higher alpha includes more edges"
   ]
  },
  {
   "cell_type": "code",
   "execution_count": 20,
   "metadata": {},
   "outputs": [],
   "source": [
    "points2 = np.random.randint(18, size=(40, 2)) + 1"
   ]
  },
  {
   "cell_type": "code",
   "execution_count": 21,
   "metadata": {},
   "outputs": [],
   "source": [
    "G_ex2 = create_graph(L = 20, points=convert_points_array_to_list(points2))"
   ]
  },
  {
   "cell_type": "code",
   "execution_count": 22,
   "metadata": {},
   "outputs": [
    {
     "data": {
      "image/png": "[encoded data removed]",
      "text/plain": [
       "<Figure size 432x432 with 1 Axes>"
      ]
     },
     "metadata": {
      "needs_background": "light"
     },
     "output_type": "display_data"
    }
   ],
   "source": [
    "plot_graph(G_ex2)"
   ]
  },
  {
   "cell_type": "code",
   "execution_count": 23,
   "metadata": {},
   "outputs": [
    {
     "name": "stdout",
     "output_type": "stream",
     "text": [
      "number of original edges 684\n",
      "number of final edges 138\n"
     ]
    }
   ],
   "source": [
    "G_ex2_preprocessed = remove_edges_landscape_method(G_ex2, Nx0=40, alpha=0.8)"
   ]
  },
  {
   "cell_type": "code",
   "execution_count": 24,
   "metadata": {},
   "outputs": [
    {
     "data": {
      "image/png": "[encoded data removed]",
      "text/plain": [
       "<Figure size 432x432 with 1 Axes>"
      ]
     },
     "metadata": {
      "needs_background": "light"
     },
     "output_type": "display_data"
    }
   ],
   "source": [
    "plot_graph(G_ex2_preprocessed)"
   ]
  },
  {
   "cell_type": "markdown",
   "metadata": {},
   "source": [
    "# Steiner tree"
   ]
  },
  {
   "cell_type": "markdown",
   "metadata": {},
   "source": [
    "## Example 1"
   ]
  },
  {
   "cell_type": "code",
   "execution_count": 25,
   "metadata": {},
   "outputs": [],
   "source": [
    "points = [(1, 1), (2, 2), (3, 4), (5, 1), (5, 4), (8, 2), (7, 8), (6,  6), (2,8), (4,3) ]"
   ]
  },
  {
   "cell_type": "code",
   "execution_count": 26,
   "metadata": {},
   "outputs": [],
   "source": [
    "G = create_graph(L=10, points=points)"
   ]
  },
  {
   "cell_type": "code",
   "execution_count": 27,
   "metadata": {},
   "outputs": [
    {
     "data": {
      "image/png": "[encoded data removed]",
      "text/plain": [
       "<Figure size 432x432 with 1 Axes>"
      ]
     },
     "metadata": {
      "needs_background": "light"
     },
     "output_type": "display_data"
    }
   ],
   "source": [
    "plot_graph(G)"
   ]
  },
  {
   "cell_type": "code",
   "execution_count": 28,
   "metadata": {},
   "outputs": [
    {
     "name": "stdout",
     "output_type": "stream",
     "text": [
      "The number of edges of the Steiner tree is 26\n"
     ]
    }
   ],
   "source": [
    "G_st = get_naive_steiner(G)"
   ]
  },
  {
   "cell_type": "code",
   "execution_count": 29,
   "metadata": {},
   "outputs": [
    {
     "data": {
      "image/png": "[encoded data removed]",
      "text/plain": [
       "<Figure size 432x432 with 1 Axes>"
      ]
     },
     "metadata": {},
     "output_type": "display_data"
    }
   ],
   "source": [
    "plot_graph(G, tree=G_st)"
   ]
  },
  {
   "cell_type": "code",
   "execution_count": 30,
   "metadata": {},
   "outputs": [
    {
     "name": "stdout",
     "output_type": "stream",
     "text": [
      "The total number of edges of the Steiner trees is 26\n"
     ]
    }
   ],
   "source": [
    "G_ld_st = get_improved_steiner_plot(G)"
   ]
  },
  {
   "cell_type": "code",
   "execution_count": 31,
   "metadata": {},
   "outputs": [
    {
     "data": {
      "image/png": "[encoded data removed]",
      "text/plain": [
       "<Figure size 432x432 with 1 Axes>"
      ]
     },
     "metadata": {},
     "output_type": "display_data"
    }
   ],
   "source": [
    "plot_graph(G, tree=G_ld_st)"
   ]
  },
  {
   "cell_type": "markdown",
   "metadata": {},
   "source": [
    "## Example 2"
   ]
  },
  {
   "cell_type": "code",
   "execution_count": 32,
   "metadata": {},
   "outputs": [],
   "source": [
    "L = 40\n",
    "points2 = [(np.random.randint(L-2) + 1, np.random.randint(L-2) + 1) for i in range(250) ]"
   ]
  },
  {
   "cell_type": "code",
   "execution_count": 33,
   "metadata": {},
   "outputs": [],
   "source": [
    "G = create_graph(L, points=convert_points_array_to_list(points2))"
   ]
  },
  {
   "cell_type": "code",
   "execution_count": 34,
   "metadata": {},
   "outputs": [
    {
     "data": {
      "image/png": "[encoded data removed]",
      "text/plain": [
       "<Figure size 432x432 with 1 Axes>"
      ]
     },
     "metadata": {
      "needs_background": "light"
     },
     "output_type": "display_data"
    }
   ],
   "source": [
    "plot_graph(G)"
   ]
  },
  {
   "cell_type": "code",
   "execution_count": 35,
   "metadata": {},
   "outputs": [
    {
     "name": "stdout",
     "output_type": "stream",
     "text": [
      "The number of edges of the Steiner tree is 460\n"
     ]
    }
   ],
   "source": [
    "G_st = get_naive_steiner(G)"
   ]
  },
  {
   "cell_type": "code",
   "execution_count": 36,
   "metadata": {},
   "outputs": [
    {
     "data": {
      "image/png": "[encoded data removed]",
      "text/plain": [
       "<Figure size 432x432 with 1 Axes>"
      ]
     },
     "metadata": {},
     "output_type": "display_data"
    }
   ],
   "source": [
    "plot_graph(G, tree=G_st)"
   ]
  },
  {
   "cell_type": "code",
   "execution_count": 37,
   "metadata": {},
   "outputs": [
    {
     "name": "stdout",
     "output_type": "stream",
     "text": [
      "number of original edges 2964\n",
      "number of final edges 1130\n"
     ]
    }
   ],
   "source": [
    "G_ld = remove_edges_landscape_method(G, Nx0=40, alpha=1.5)"
   ]
  },
  {
   "cell_type": "code",
   "execution_count": 38,
   "metadata": {},
   "outputs": [
    {
     "data": {
      "image/png": "[encoded data removed]",
      "text/plain": [
       "<Figure size 432x432 with 1 Axes>"
      ]
     },
     "metadata": {
      "needs_background": "light"
     },
     "output_type": "display_data"
    }
   ],
   "source": [
    "plot_graph(G_ld)"
   ]
  },
  {
   "cell_type": "code",
   "execution_count": 39,
   "metadata": {},
   "outputs": [
    {
     "name": "stdout",
     "output_type": "stream",
     "text": [
      "The total number of edges of the Steiner trees is 394\n"
     ]
    }
   ],
   "source": [
    "G_ld_st = get_improved_steiner_plot(G_ld)"
   ]
  },
  {
   "cell_type": "code",
   "execution_count": 40,
   "metadata": {},
   "outputs": [
    {
     "data": {
      "image/png": "[encoded data removed]",
      "text/plain": [
       "<Figure size 432x432 with 1 Axes>"
      ]
     },
     "metadata": {
      "needs_background": "light"
     },
     "output_type": "display_data"
    }
   ],
   "source": [
    "plot_graph(G_ld_st)"
   ]
  },
  {
   "cell_type": "code",
   "execution_count": 41,
   "metadata": {},
   "outputs": [
    {
     "data": {
      "image/png": "[encoded data removed]",
      "text/plain": [
       "<Figure size 432x432 with 1 Axes>"
      ]
     },
     "metadata": {},
     "output_type": "display_data"
    }
   ],
   "source": [
    "plot_graph(G_ld, tree=G_ld_st)"
   ]
  }
 ],
 "metadata": {
  "kernelspec": {
   "display_name": "Python (landscape_steiner)",
   "language": "python",
   "name": "landscape_steiner"
  },
  "language_info": {
   "codemirror_mode": {
    "name": "ipython",
    "version": 3
   },
   "file_extension": ".py",
   "mimetype": "text/x-python",
   "name": "python",
   "nbconvert_exporter": "python",
   "pygments_lexer": "ipython3",
   "version": "3.8.2"
  },
  "toc-autonumbering": true
 },
 "nbformat": 4,
 "nbformat_minor": 4
}
