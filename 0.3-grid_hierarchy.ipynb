{
 "cells": [
  {
   "cell_type": "code",
   "execution_count": 1,
   "metadata": {},
   "outputs": [],
   "source": [
    "%load_ext autoreload\n",
    "%autoreload 2"
   ]
  },
  {
   "cell_type": "code",
   "execution_count": 2,
   "metadata": {},
   "outputs": [],
   "source": [
    "import numpy as np\n",
    "import matplotlib.pyplot as plt\n",
    "#from scipy import interpolate\n",
    "import networkx as nx\n",
    "\n",
    "import pandas as pd\n",
    "from sklearn.cluster import KMeans\n",
    "\n",
    "from sknetwork.hierarchy import cut_straight, Paris\n",
    "from sknetwork.visualization import svg_dendrogram, svg_graph\n",
    "\n",
    "import landscape as ld\n",
    "from networkx.algorithms import approximation as apx\n",
    "\n",
    "from IPython.display import SVG\n",
    "\n",
    "from typing import List, Tuple"
   ]
  },
  {
   "cell_type": "code",
   "execution_count": 3,
   "metadata": {},
   "outputs": [],
   "source": [
    "Point = Tuple[int, int]"
   ]
  },
  {
   "cell_type": "markdown",
   "metadata": {},
   "source": [
    "# utils"
   ]
  },
  {
   "cell_type": "markdown",
   "metadata": {},
   "source": [
    "## terminals/points"
   ]
  },
  {
   "cell_type": "code",
   "execution_count": 4,
   "metadata": {},
   "outputs": [],
   "source": [
    "def set_terminals_in_graph(G: nx.Graph, points: List[Point]) -> None:\n",
    "    set_points(G, points)"
   ]
  },
  {
   "cell_type": "code",
   "execution_count": 5,
   "metadata": {},
   "outputs": [],
   "source": [
    "def set_points(G: nx.Graph, points: List[Point]) -> None:\n",
    "    \"\"\"\n",
    "    Set terminals/points to a graph G\n",
    "    \n",
    "    If a node is terminal, its attribute `type` is set to `terminal`. \n",
    "    \"\"\"\n",
    "    G = G.copy()\n",
    "    terminal_nodes_list = {node: \"terminal\" if node in points else None for node in G.nodes()}\n",
    "    nx.set_node_attributes(G, terminal_nodes_list, \"type\")\n",
    "    \n",
    "    return G"
   ]
  },
  {
   "cell_type": "code",
   "execution_count": 6,
   "metadata": {},
   "outputs": [],
   "source": [
    "def get_points(G: nx.graph) -> List[Point]:\n",
    "    \"\"\"Get terminal nodes from graph ``G``.\"\"\"\n",
    "    points = [k for k,v in nx.get_node_attributes(G, \"type\").items() \n",
    "              if v == \"terminal\"]\n",
    "    return points"
   ]
  },
  {
   "cell_type": "code",
   "execution_count": 7,
   "metadata": {},
   "outputs": [],
   "source": [
    "def convert_points_array_to_list(points_array):\n",
    "    return [(e[0], e[1]) for e in points_array]"
   ]
  },
  {
   "cell_type": "code",
   "execution_count": 8,
   "metadata": {},
   "outputs": [],
   "source": [
    "def get_Lx_Ly(G: nx.Graph, L: int=None) -> [int, int]:\n",
    "    # compute L wrt node coords\n",
    "    if L is None:\n",
    "        Lx, Ly = np.array([node for node in G.nodes()]).max(axis=0) + [1, 1]\n",
    "    else:\n",
    "        Lx = Ly = L\n",
    "    \n",
    "    return Lx, Ly"
   ]
  },
  {
   "cell_type": "markdown",
   "metadata": {},
   "source": [
    "## graphs"
   ]
  },
  {
   "cell_type": "code",
   "execution_count": 9,
   "metadata": {},
   "outputs": [],
   "source": [
    "def get_pos(g: nx.Graph) -> dict:\n",
    "    return dict( (n, n) for n in g.nodes() )"
   ]
  },
  {
   "cell_type": "code",
   "execution_count": 10,
   "metadata": {},
   "outputs": [],
   "source": [
    "def create_graph(L: int, points: List[Point]=None) -> nx.Graph:\n",
    "    \"\"\"\n",
    "    Create a graph based on a squared 2D-grid of L*L nodes.\n",
    "    \n",
    "    Args:    \n",
    "        L (int): size of the box. The number of nodes in the graph will be L*L\n",
    "        points (List[Point]): list of points where important nodes are\n",
    "    \n",
    "    Returns:\n",
    "        nx.Graph: networkx graph\n",
    "    \n",
    "    \"\"\"    \n",
    "    # create square grid graph\n",
    "    G = nx.grid_2d_graph(range(1,int(L)), range(1,int(L)))\n",
    "    \n",
    "    if points is not None:\n",
    "        G = set_points(G, points)\n",
    "    \n",
    "    return G"
   ]
  },
  {
   "cell_type": "markdown",
   "metadata": {},
   "source": [
    "## algos"
   ]
  },
  {
   "cell_type": "code",
   "execution_count": 11,
   "metadata": {},
   "outputs": [],
   "source": [
    "def remove_edges_landscape_method(G: nx.Graph, Nx0: int, alpha: float, A0: int=5000):\n",
    "    \"\"\"\n",
    "    Remove edges of graph ``G`` by using a landscape function.\n",
    "    \n",
    "    Args:\n",
    "        G (nx.Graph): networkx graph\n",
    "        Nx0 (int): number of  grid points\n",
    "        alpha (float): threshold parameter to remove edges. Delete edges \n",
    "            where the landscape function > alpha \n",
    "        A0 (int): A0 parameter to be used by the landscape function.\n",
    "    \"\"\"\n",
    "    G = G.copy()\n",
    "    \n",
    "    points = get_points(G)\n",
    "    Lx, Ly = get_Lx_Ly(G)\n",
    "    if Lx != Ly:\n",
    "        raise NotImplementedError(\"Only implemented for squared grids\")\n",
    "    L = Lx\n",
    "    \n",
    "    #compute landscape function\n",
    "    fLand = ld.find_landscape(Nx0 = Nx0, L = L, A0 = 5000, points = points)\n",
    "\n",
    "    print( 'number of original edges {}'.format(len(G.edges))) \n",
    "    \n",
    "    # delete edges where the landscape function > alpha \n",
    "    for e in G.edges:\n",
    "        x, y = 0.5*(np.array(e[0]) + np.array(e[1]))\n",
    "        if fLand(x,y) > alpha:\n",
    "            G.remove_edge(e[0],e[1])\n",
    "            \n",
    "    # delete nodes with degree 1\n",
    "    ends = [ x[0] for x in G.degree() if x[1] <= 1]\n",
    "    G.remove_nodes_from(ends)\n",
    "            \n",
    "    print( 'number of final edges {}'.format(len(G.edges)))\n",
    "            \n",
    "    return G"
   ]
  },
  {
   "cell_type": "code",
   "execution_count": 12,
   "metadata": {},
   "outputs": [],
   "source": [
    "def get_naive_steiner(G: nx.Graph, points: List[Point]=None) -> nx.Graph:\n",
    "    \"\"\"\n",
    "    Returns a Steiner Tree for a graph ``G`` withe terminals ``points``\n",
    "    \n",
    "    Note: The algorithm is an approximation of the optimal weighted \n",
    "        Steiner Tree problem.\n",
    "    \"\"\"\n",
    "    if points is None:\n",
    "        points = get_points(G)\n",
    "    # approximate steiner tree\n",
    "    G_st = apx.steinertree.steiner_tree(G, points, weight='length') \n",
    "    print('The number of edges of the Steiner tree is '+ str(G_st.number_of_edges()))\n",
    "    return G_st"
   ]
  },
  {
   "cell_type": "code",
   "execution_count": 13,
   "metadata": {},
   "outputs": [],
   "source": [
    "def get_steiner_per_component(G: nx.Graph, points: List[Point]=None):\n",
    "\n",
    "    def _add_symmetric_edges(edges_set):\n",
    "        return edges_set.union(set([(e[1], e[0]) for e in edges_set]))\n",
    "    \n",
    "    G = G.copy()\n",
    "    if points is None:\n",
    "        points = get_points(G)\n",
    "    \n",
    "    # all connected components of G after cutting edges\n",
    "    graphs = [G.subgraph(c).copy() for c in nx.connected_components(G)]\n",
    "        \n",
    "    # compute steiner for smaller G\n",
    "    count_edges = 0\n",
    "    ld_st_edges_set = set()\n",
    "    for graph in graphs:\n",
    "        points_in_subgraph = [p for p in graph.nodes() if p in points]\n",
    "        G_st = apx.steinertree.steiner_tree(graph, points_in_subgraph, weight='length') \n",
    "        count_edges += G_st.number_of_edges()\n",
    "        ld_st_edges_set = ld_st_edges_set.union(set(list(G_st.edges())))\n",
    "            \n",
    "    print('The total number of edges of the Steiner trees is '+ str(count_edges))\n",
    "    \n",
    "    G.remove_edges_from(list(set(list(G.edges())) - _add_symmetric_edges(ld_st_edges_set)))\n",
    "    \n",
    "    return G"
   ]
  },
  {
   "cell_type": "markdown",
   "metadata": {},
   "source": [
    "## plots"
   ]
  },
  {
   "cell_type": "code",
   "execution_count": 14,
   "metadata": {},
   "outputs": [],
   "source": [
    "def plot_graph(G: nx.Graph, L: int=None, tree=None):\n",
    "    \"\"\"\n",
    "    Plot graph with terminal nodes.\n",
    "    \n",
    "    Terminals correspond the nodes with attribute `type` equals to `terminal`\n",
    "    \"\"\"\n",
    "    \n",
    "    Lx, Ly = get_Lx_Ly(G, L)\n",
    "    \n",
    "    # plotology \n",
    "    fig, ax = plt.subplots(figsize=(6,6));\n",
    "\n",
    "    node_pos = dict( (n, n) for n in G.nodes() )\n",
    "\n",
    "    terminals_list = [k for k,v in nx.get_node_attributes(G, \"type\").items() \n",
    "                      if v == \"terminal\"]\n",
    "    xpoints, ypoints = np.array(terminals_list).T\n",
    "    \n",
    "    plt.xlim(0, Lx)\n",
    "    plt.ylim(0, Ly)\n",
    "\n",
    "    nx.draw_networkx_edges(G, node_pos, ax=ax, with_labels=False)\n",
    "\n",
    "    # add tree\n",
    "    if tree is not None:\n",
    "        nx.draw(tree, node_pos, ax=ax, node_size=0, edge_color='r', width=2.5)\n",
    "\n",
    "    # add scatter plot\n",
    "    plt.scatter(xpoints, ypoints)\n",
    "    \n",
    "    ax.tick_params(left=True, bottom=True, labelleft=True, labelbottom=True)\n",
    "    plt.axis('on')\n",
    "    plt.show()"
   ]
  },
  {
   "cell_type": "markdown",
   "metadata": {},
   "source": [
    "# Hierarchy"
   ]
  },
  {
   "cell_type": "markdown",
   "metadata": {},
   "source": [
    "Based on [the scikit network example](https://scikit-network.readthedocs.io/en/latest/tutorials/hierarchy/paris.html#Graphs)"
   ]
  },
  {
   "cell_type": "markdown",
   "metadata": {},
   "source": [
    "## points"
   ]
  },
  {
   "cell_type": "code",
   "execution_count": 15,
   "metadata": {},
   "outputs": [],
   "source": [
    "# points we want to cluster and join\n",
    "points = [(1, 1), (2, 2), (3, 4), (5, 1), (5, 4), (8, 2), (7, 8), (6,  6), (2,8), (4,3) ]\n",
    "#points = [[1, 1], [2, 2], [3, 4], [5, 1], [5, 4], [8, 2], [7, 8], [6,  6] , [2, 8], [4,3] ]"
   ]
  },
  {
   "cell_type": "code",
   "execution_count": 16,
   "metadata": {},
   "outputs": [],
   "source": [
    "G = create_graph(L = 10, points = points)"
   ]
  },
  {
   "cell_type": "code",
   "execution_count": 17,
   "metadata": {},
   "outputs": [
    {
     "name": "stdout",
     "output_type": "stream",
     "text": [
      "The number of edges of the Steiner tree is 26\n"
     ]
    }
   ],
   "source": [
    "G_st = get_naive_steiner(G)"
   ]
  },
  {
   "cell_type": "code",
   "execution_count": 18,
   "metadata": {},
   "outputs": [
    {
     "data": {
      "image/png": "[encoded data removed]",
      "text/plain": [
       "<Figure size 432x432 with 1 Axes>"
      ]
     },
     "metadata": {},
     "output_type": "display_data"
    }
   ],
   "source": [
    "plot_graph(G, tree=G_st)"
   ]
  },
  {
   "cell_type": "markdown",
   "metadata": {},
   "source": [
    "## Hierarchy"
   ]
  },
  {
   "cell_type": "code",
   "execution_count": 19,
   "metadata": {},
   "outputs": [],
   "source": [
    "adjacency = nx.adjacency_matrix(G_st)"
   ]
  },
  {
   "cell_type": "code",
   "execution_count": 20,
   "metadata": {},
   "outputs": [],
   "source": [
    "paris = Paris()"
   ]
  },
  {
   "cell_type": "code",
   "execution_count": 21,
   "metadata": {},
   "outputs": [],
   "source": [
    "dendrogram = paris.fit_transform(adjacency)"
   ]
  },
  {
   "cell_type": "markdown",
   "metadata": {},
   "source": [
    "## main dendrogram"
   ]
  },
  {
   "cell_type": "code",
   "execution_count": 22,
   "metadata": {},
   "outputs": [
    {
     "data": {
      "image/svg+xml": [
       "<svg xmlns=\"http://www.w3.org/2000/svg\" width=\"420\" height=\"320\"><path stroke-width=\"2\" stroke=\"blue\" d=\"M 172.96296296296296 310 172.96296296296296 308.9189189787094\"/><path stroke-width=\"2\" stroke=\"blue\" d=\"M 187.77777777777777 310 187.77777777777777 308.9189189787094\"/><path stroke-width=\"2\" stroke=\"blue\" d=\"M 172.96296296296296 308.9189189787094 187.77777777777777 308.9189189787094\"/><path stroke-width=\"2\" stroke=\"blue\" d=\"M 261.85185185185185 310 261.85185185185185 308.9189189787094\"/><path stroke-width=\"2\" stroke=\"blue\" d=\"M 276.6666666666667 310 276.6666666666667 308.9189189787094\"/><path stroke-width=\"2\" stroke=\"blue\" d=\"M 261.85185185185185 308.9189189787094 276.6666666666667 308.9189189787094\"/><path stroke-width=\"2\" stroke=\"red\" d=\"M 291.48148148148147 310 291.48148148148147 308.9189189787094\"/><path stroke-width=\"2\" stroke=\"red\" d=\"M 306.2962962962963 310 306.2962962962963 308.9189189787094\"/><path stroke-width=\"2\" stroke=\"red\" d=\"M 291.48148148148147 308.9189189787094 306.2962962962963 308.9189189787094\"/><path stroke-width=\"2\" stroke=\"blue\" d=\"M 39.62962962962963 310 39.62962962962963 308.9189189787094\"/><path stroke-width=\"2\" stroke=\"blue\" d=\"M 54.44444444444444 310 54.44444444444444 308.9189189787094\"/><path stroke-width=\"2\" stroke=\"blue\" d=\"M 39.62962962962963 308.9189189787094 54.44444444444444 308.9189189787094\"/><path stroke-width=\"2\" stroke=\"red\" d=\"M 335.9259259259259 310 335.9259259259259 307.83783795741886\"/><path stroke-width=\"2\" stroke=\"red\" d=\"M 350.74074074074076 310 350.74074074074076 307.83783795741886\"/><path stroke-width=\"2\" stroke=\"red\" d=\"M 335.9259259259259 307.83783795741886 350.74074074074076 307.83783795741886\"/><path stroke-width=\"2\" stroke=\"blue\" d=\"M 69.25925925925927 310 69.25925925925927 307.83783795741886\"/><path stroke-width=\"2\" stroke=\"blue\" d=\"M 84.07407407407408 310 84.07407407407408 307.83783795741886\"/><path stroke-width=\"2\" stroke=\"blue\" d=\"M 69.25925925925927 307.83783795741886 84.07407407407408 307.83783795741886\"/><path stroke-width=\"2\" stroke=\"blue\" d=\"M 217.40740740740742 310 217.40740740740742 307.83783795741886\"/><path stroke-width=\"2\" stroke=\"blue\" d=\"M 232.22222222222223 310 232.22222222222223 307.83783795741886\"/><path stroke-width=\"2\" stroke=\"blue\" d=\"M 217.40740740740742 307.83783795741886 232.22222222222223 307.83783795741886\"/><path stroke-width=\"2\" stroke=\"blue\" d=\"M 143.33333333333334 310 143.33333333333334 307.83783795741886\"/><path stroke-width=\"2\" stroke=\"blue\" d=\"M 158.14814814814815 310 158.14814814814815 307.83783795741886\"/><path stroke-width=\"2\" stroke=\"blue\" d=\"M 143.33333333333334 307.83783795741886 158.14814814814815 307.83783795741886\"/><path stroke-width=\"2\" stroke=\"red\" d=\"M 365.55555555555554 310 365.55555555555554 307.83783795741886\"/><path stroke-width=\"2\" stroke=\"red\" d=\"M 380.3703703703704 310 380.3703703703704 307.83783795741886\"/><path stroke-width=\"2\" stroke=\"red\" d=\"M 365.55555555555554 307.83783795741886 380.3703703703704 307.83783795741886\"/><path stroke-width=\"2\" stroke=\"blue\" d=\"M 10.0 310 10.0 307.83783795741886\"/><path stroke-width=\"2\" stroke=\"blue\" d=\"M 24.814814814814817 310 24.814814814814817 307.83783795741886\"/><path stroke-width=\"2\" stroke=\"blue\" d=\"M 10.0 307.83783795741886 24.814814814814817 307.83783795741886\"/><path stroke-width=\"2\" stroke=\"blue\" d=\"M 113.70370370370371 310 113.70370370370371 306.7567570550898\"/><path stroke-width=\"2\" stroke=\"blue\" d=\"M 128.51851851851853 310 128.51851851851853 306.7567570550898\"/><path stroke-width=\"2\" stroke=\"blue\" d=\"M 113.70370370370371 306.7567570550898 128.51851851851853 306.7567570550898\"/><path stroke-width=\"2\" stroke=\"blue\" d=\"M 180.37037037037038 308.9189189787094 180.37037037037038 306.7567570550898\"/><path stroke-width=\"2\" stroke=\"blue\" d=\"M 202.59259259259258 310 202.59259259259258 306.7567570550898\"/><path stroke-width=\"2\" stroke=\"blue\" d=\"M 180.37037037037038 306.7567570550898 202.59259259259258 306.7567570550898\"/><path stroke-width=\"2\" stroke=\"red\" d=\"M 298.8888888888889 308.9189189787094 298.8888888888889 306.7567570550898\"/><path stroke-width=\"2\" stroke=\"red\" d=\"M 321.1111111111111 310 321.1111111111111 306.7567570550898\"/><path stroke-width=\"2\" stroke=\"red\" d=\"M 298.8888888888889 306.7567570550898 321.1111111111111 306.7567570550898\"/><path stroke-width=\"2\" stroke=\"blue\" d=\"M 76.66666666666667 307.83783795741886 76.66666666666667 305.67567591483777\"/><path stroke-width=\"2\" stroke=\"blue\" d=\"M 98.88888888888889 310 98.88888888888889 305.67567591483777\"/><path stroke-width=\"2\" stroke=\"blue\" d=\"M 76.66666666666667 305.67567591483777 98.88888888888889 305.67567591483777\"/><path stroke-width=\"2\" stroke=\"red\" d=\"M 372.96296296296293 307.83783795741886 372.96296296296293 305.67567591483777\"/><path stroke-width=\"2\" stroke=\"red\" d=\"M 395.18518518518516 310 395.18518518518516 305.67567591483777\"/><path stroke-width=\"2\" stroke=\"red\" d=\"M 372.96296296296293 305.67567591483777 395.18518518518516 305.67567591483777\"/><path stroke-width=\"2\" stroke=\"blue\" d=\"M 17.40740740740741 307.83783795741886 17.40740740740741 303.5135141101795\"/><path stroke-width=\"2\" stroke=\"blue\" d=\"M 47.03703703703704 308.9189189787094 47.03703703703704 303.5135141101795\"/><path stroke-width=\"2\" stroke=\"blue\" d=\"M 17.40740740740741 303.5135141101795 47.03703703703704 303.5135141101795\"/><path stroke-width=\"2\" stroke=\"blue\" d=\"M 224.81481481481484 307.83783795741886 224.81481481481484 303.5135141101795\"/><path stroke-width=\"2\" stroke=\"blue\" d=\"M 247.03703703703704 310 247.03703703703704 303.5135141101795\"/><path stroke-width=\"2\" stroke=\"blue\" d=\"M 224.81481481481484 303.5135141101795 247.03703703703704 303.5135141101795\"/><path stroke-width=\"2\" stroke=\"blue\" d=\"M 121.11111111111111 306.7567570550898 121.11111111111111 299.18918939055624\"/><path stroke-width=\"2\" stroke=\"blue\" d=\"M 150.74074074074076 307.83783795741886 150.74074074074076 299.18918939055624\"/><path stroke-width=\"2\" stroke=\"blue\" d=\"M 121.11111111111111 299.18918939055624 150.74074074074076 299.18918939055624\"/><path stroke-width=\"2\" stroke=\"red\" d=\"M 310.0 306.7567570550898 310.0 299.18918939055624\"/><path stroke-width=\"2\" stroke=\"red\" d=\"M 343.33333333333337 307.83783795741886 343.33333333333337 299.18918939055624\"/><path stroke-width=\"2\" stroke=\"red\" d=\"M 310.0 299.18918939055624 343.33333333333337 299.18918939055624\"/><path stroke-width=\"2\" stroke=\"blue\" d=\"M 235.92592592592592 303.5135141101795 235.92592592592592 298.64864859985585\"/><path stroke-width=\"2\" stroke=\"blue\" d=\"M 269.25925925925924 308.9189189787094 269.25925925925924 298.64864859985585\"/><path stroke-width=\"2\" stroke=\"blue\" d=\"M 235.92592592592592 298.64864859985585 269.25925925925924 298.64864859985585\"/><path stroke-width=\"2\" stroke=\"blue\" d=\"M 32.22222222222222 303.5135141101795 32.22222222222222 287.2972971997117\"/><path stroke-width=\"2\" stroke=\"blue\" d=\"M 87.77777777777777 305.67567591483777 87.77777777777777 287.2972971997117\"/><path stroke-width=\"2\" stroke=\"blue\" d=\"M 32.22222222222222 287.2972971997117 87.77777777777777 287.2972971997117\"/><path stroke-width=\"2\" stroke=\"blue\" d=\"M 135.92592592592592 299.18918939055624 135.92592592592592 285.6756780804628\"/><path stroke-width=\"2\" stroke=\"blue\" d=\"M 191.48148148148147 306.7567570550898 191.48148148148147 285.6756780804628\"/><path stroke-width=\"2\" stroke=\"blue\" d=\"M 135.92592592592592 285.6756780804628 191.48148148148147 285.6756780804628\"/><path stroke-width=\"2\" stroke=\"red\" d=\"M 326.6666666666667 299.18918939055624 326.6666666666667 280.810813094313\"/><path stroke-width=\"2\" stroke=\"red\" d=\"M 384.074074074074 305.67567591483777 384.074074074074 280.810813094313\"/><path stroke-width=\"2\" stroke=\"red\" d=\"M 326.6666666666667 280.810813094313 384.074074074074 280.810813094313\"/><path stroke-width=\"2\" stroke=\"blue\" d=\"M 163.7037037037037 285.6756780804628 163.7037037037037 234.3243300710298\"/><path stroke-width=\"2\" stroke=\"blue\" d=\"M 252.59259259259258 298.64864859985585 252.59259259259258 234.3243300710298\"/><path stroke-width=\"2\" stroke=\"blue\" d=\"M 163.7037037037037 234.3243300710298 252.59259259259258 234.3243300710298\"/><path stroke-width=\"2\" stroke=\"blue\" d=\"M 60.0 287.2972971997117 60.0 141.35136570479375\"/><path stroke-width=\"2\" stroke=\"blue\" d=\"M 208.14814814814815 234.3243300710298 208.14814814814815 141.35136570479375\"/><path stroke-width=\"2\" stroke=\"blue\" d=\"M 60.0 141.35136570479375 208.14814814814815 141.35136570479375\"/><path stroke-width=\"2\" stroke=\"black\" d=\"M 134.07407407407408 141.35136570479375 134.07407407407408 10.0\"/><path stroke-width=\"2\" stroke=\"black\" d=\"M 355.3703703703703 280.810813094313 355.3703703703703 10.0\"/><path stroke-width=\"2\" stroke=\"black\" d=\"M 134.07407407407408 10.0 355.3703703703703 10.0\"/></svg>"
      ],
      "text/plain": [
       "<IPython.core.display.SVG object>"
      ]
     },
     "execution_count": 22,
     "metadata": {},
     "output_type": "execute_result"
    }
   ],
   "source": [
    "SVG(svg_dendrogram(dendrogram))"
   ]
  },
  {
   "cell_type": "markdown",
   "metadata": {},
   "source": [
    "## dendrogram with a specific threshold/clusters"
   ]
  },
  {
   "cell_type": "code",
   "execution_count": 23,
   "metadata": {},
   "outputs": [
    {
     "name": "stdout",
     "output_type": "stream",
     "text": [
      "[2 2 7 5 3 0 4 0 4 1 6 6 2 5 3 2 0 1 4 0 7 5 6 3 1 0 1]\n"
     ]
    }
   ],
   "source": [
    "labels, dendrogram_aggregate = cut_straight(dendrogram, \n",
    "                                            #n_clusters=5, \n",
    "                                            threshold=0.2,\n",
    "                                            return_dendrogram=True\n",
    "                                           )\n",
    "print(labels)"
   ]
  },
  {
   "cell_type": "code",
   "execution_count": 24,
   "metadata": {},
   "outputs": [],
   "source": [
    "_, counts = np.unique(labels, return_counts=True)"
   ]
  },
  {
   "cell_type": "code",
   "execution_count": 25,
   "metadata": {},
   "outputs": [
    {
     "data": {
      "image/svg+xml": [
       "<svg xmlns=\"http://www.w3.org/2000/svg\" width=\"420\" height=\"331.0\"><text x=\"305.0\" y=\"320\" font-size=\"12\">5</text><text x=\"5.0\" y=\"320\" font-size=\"12\">4</text><text x=\"105.0\" y=\"320\" font-size=\"12\">4</text><text x=\"155.0\" y=\"320\" font-size=\"12\">3</text><text x=\"55.0\" y=\"320\" font-size=\"12\">3</text><text x=\"355.0\" y=\"320\" font-size=\"12\">3</text><text x=\"205.0\" y=\"320\" font-size=\"12\">3</text><text x=\"255.0\" y=\"320\" font-size=\"12\">2</text><path stroke-width=\"2\" stroke=\"blue\" d=\"M 210.0 310 210.0 298.64864859985585\"/><path stroke-width=\"2\" stroke=\"blue\" d=\"M 260.0 310 260.0 298.64864859985585\"/><path stroke-width=\"2\" stroke=\"blue\" d=\"M 210.0 298.64864859985585 260.0 298.64864859985585\"/><path stroke-width=\"2\" stroke=\"blue\" d=\"M 10.0 310 10.0 287.2972971997117\"/><path stroke-width=\"2\" stroke=\"blue\" d=\"M 60.0 310 60.0 287.2972971997117\"/><path stroke-width=\"2\" stroke=\"blue\" d=\"M 10.0 287.2972971997117 60.0 287.2972971997117\"/><path stroke-width=\"2\" stroke=\"blue\" d=\"M 110.0 310 110.0 285.6756780804628\"/><path stroke-width=\"2\" stroke=\"blue\" d=\"M 160.0 310 160.0 285.6756780804628\"/><path stroke-width=\"2\" stroke=\"blue\" d=\"M 110.0 285.6756780804628 160.0 285.6756780804628\"/><path stroke-width=\"2\" stroke=\"red\" d=\"M 310.0 310 310.0 280.810813094313\"/><path stroke-width=\"2\" stroke=\"red\" d=\"M 360.0 310 360.0 280.810813094313\"/><path stroke-width=\"2\" stroke=\"red\" d=\"M 310.0 280.810813094313 360.0 280.810813094313\"/><path stroke-width=\"2\" stroke=\"blue\" d=\"M 135.0 285.6756780804628 135.0 234.3243300710298\"/><path stroke-width=\"2\" stroke=\"blue\" d=\"M 235.0 298.64864859985585 235.0 234.3243300710298\"/><path stroke-width=\"2\" stroke=\"blue\" d=\"M 135.0 234.3243300710298 235.0 234.3243300710298\"/><path stroke-width=\"2\" stroke=\"blue\" d=\"M 35.0 287.2972971997117 35.0 141.35136570479375\"/><path stroke-width=\"2\" stroke=\"blue\" d=\"M 185.0 234.3243300710298 185.0 141.35136570479375\"/><path stroke-width=\"2\" stroke=\"blue\" d=\"M 35.0 141.35136570479375 185.0 141.35136570479375\"/><path stroke-width=\"2\" stroke=\"black\" d=\"M 110.0 141.35136570479375 110.0 10.0\"/><path stroke-width=\"2\" stroke=\"black\" d=\"M 335.0 280.810813094313 335.0 10.0\"/><path stroke-width=\"2\" stroke=\"black\" d=\"M 110.0 10.0 335.0 10.0\"/></svg>"
      ],
      "text/plain": [
       "<IPython.core.display.SVG object>"
      ]
     },
     "execution_count": 25,
     "metadata": {},
     "output_type": "execute_result"
    }
   ],
   "source": [
    "SVG(svg_dendrogram(dendrogram_aggregate, \n",
    "                   names=counts, \n",
    "                   rotate_names=False\n",
    "                  )\n",
    ")"
   ]
  },
  {
   "cell_type": "markdown",
   "metadata": {},
   "source": [
    "## plot graph with clusters"
   ]
  },
  {
   "cell_type": "code",
   "execution_count": 26,
   "metadata": {},
   "outputs": [],
   "source": [
    "position = np.array(G_st.nodes())"
   ]
  },
  {
   "cell_type": "code",
   "execution_count": 27,
   "metadata": {},
   "outputs": [
    {
     "data": {
      "image/svg+xml": [
       "<svg xmlns=\"http://www.w3.org/2000/svg\" width=\"440\" height=\"340\"><path stroke-width=\"1\" stroke=\"black\" d=\"M 77 191 134 191\"/><path stroke-width=\"1\" stroke=\"black\" d=\"M 77 191 77 148\"/><path stroke-width=\"1\" stroke=\"black\" d=\"M 134 191 77 191\"/><path stroke-width=\"1\" stroke=\"black\" d=\"M 134 191 191 191\"/><path stroke-width=\"1\" stroke=\"black\" d=\"M 134 191 134 234\"/><path stroke-width=\"1\" stroke=\"black\" d=\"M 77 320 77 277\"/><path stroke-width=\"1\" stroke=\"black\" d=\"M 77 320 20 320\"/><path stroke-width=\"1\" stroke=\"black\" d=\"M 191 234 191 277\"/><path stroke-width=\"1\" stroke=\"black\" d=\"M 191 234 134 234\"/><path stroke-width=\"1\" stroke=\"black\" d=\"M 77 62 77 20\"/><path stroke-width=\"1\" stroke=\"black\" d=\"M 77 62 77 105\"/><path stroke-width=\"1\" stroke=\"black\" d=\"M 305 320 248 320\"/><path stroke-width=\"1\" stroke=\"black\" d=\"M 305 320 362 320\"/><path stroke-width=\"1\" stroke=\"black\" d=\"M 248 191 305 191\"/><path stroke-width=\"1\" stroke=\"black\" d=\"M 248 191 191 191\"/><path stroke-width=\"1\" stroke=\"black\" d=\"M 248 320 305 320\"/><path stroke-width=\"1\" stroke=\"black\" d=\"M 248 320 191 320\"/><path stroke-width=\"1\" stroke=\"black\" d=\"M 305 191 248 191\"/><path stroke-width=\"1\" stroke=\"black\" d=\"M 305 191 305 148\"/><path stroke-width=\"1\" stroke=\"black\" d=\"M 362 105 362 62\"/><path stroke-width=\"1\" stroke=\"black\" d=\"M 362 105 305 105\"/><path stroke-width=\"1\" stroke=\"black\" d=\"M 77 277 77 320\"/><path stroke-width=\"1\" stroke=\"black\" d=\"M 77 277 134 277\"/><path stroke-width=\"1\" stroke=\"black\" d=\"M 134 277 77 277\"/><path stroke-width=\"1\" stroke=\"black\" d=\"M 134 277 134 234\"/><path stroke-width=\"1\" stroke=\"black\" d=\"M 77 148 77 191\"/><path stroke-width=\"1\" stroke=\"black\" d=\"M 77 148 77 105\"/><path stroke-width=\"1\" stroke=\"black\" d=\"M 191 320 248 320\"/><path stroke-width=\"1\" stroke=\"black\" d=\"M 191 320 191 277\"/><path stroke-width=\"1\" stroke=\"black\" d=\"M 77 20 77 62\"/><path stroke-width=\"1\" stroke=\"black\" d=\"M 191 191 134 191\"/><path stroke-width=\"1\" stroke=\"black\" d=\"M 191 191 248 191\"/><path stroke-width=\"1\" stroke=\"black\" d=\"M 362 320 305 320\"/><path stroke-width=\"1\" stroke=\"black\" d=\"M 362 320 420 320\"/><path stroke-width=\"1\" stroke=\"black\" d=\"M 362 62 362 105\"/><path stroke-width=\"1\" stroke=\"black\" d=\"M 362 62 362 20\"/><path stroke-width=\"1\" stroke=\"black\" d=\"M 305 148 305 191\"/><path stroke-width=\"1\" stroke=\"black\" d=\"M 305 148 305 105\"/><path stroke-width=\"1\" stroke=\"black\" d=\"M 420 320 362 320\"/><path stroke-width=\"1\" stroke=\"black\" d=\"M 420 320 420 277\"/><path stroke-width=\"1\" stroke=\"black\" d=\"M 20 320 77 320\"/><path stroke-width=\"1\" stroke=\"black\" d=\"M 191 277 191 234\"/><path stroke-width=\"1\" stroke=\"black\" d=\"M 191 277 191 320\"/><path stroke-width=\"1\" stroke=\"black\" d=\"M 134 234 134 191\"/><path stroke-width=\"1\" stroke=\"black\" d=\"M 134 234 191 234\"/><path stroke-width=\"1\" stroke=\"black\" d=\"M 134 234 134 277\"/><path stroke-width=\"1\" stroke=\"black\" d=\"M 77 105 77 62\"/><path stroke-width=\"1\" stroke=\"black\" d=\"M 77 105 77 148\"/><path stroke-width=\"1\" stroke=\"black\" d=\"M 305 105 362 105\"/><path stroke-width=\"1\" stroke=\"black\" d=\"M 305 105 305 148\"/><path stroke-width=\"1\" stroke=\"black\" d=\"M 420 277 420 320\"/><path stroke-width=\"1\" stroke=\"black\" d=\"M 362 20 362 62\"/><circle cx=\"77\" cy=\"191\" r=\"7.0\" style=\"fill:green;stroke:black;stroke-width:1.0\"/><circle cx=\"134\" cy=\"191\" r=\"7.0\" style=\"fill:green;stroke:black;stroke-width:1.0\"/><circle cx=\"77\" cy=\"320\" r=\"7.0\" style=\"fill:olive;stroke:black;stroke-width:1.0\"/><circle cx=\"191\" cy=\"234\" r=\"7.0\" style=\"fill:yellow;stroke:black;stroke-width:1.0\"/><circle cx=\"77\" cy=\"62\" r=\"7.0\" style=\"fill:orange;stroke:black;stroke-width:1.0\"/><circle cx=\"305\" cy=\"320\" r=\"7.0\" style=\"fill:blue;stroke:black;stroke-width:1.0\"/><circle cx=\"248\" cy=\"191\" r=\"7.0\" style=\"fill:purple;stroke:black;stroke-width:1.0\"/><circle cx=\"248\" cy=\"320\" r=\"7.0\" style=\"fill:blue;stroke:black;stroke-width:1.0\"/><circle cx=\"305\" cy=\"191\" r=\"7.0\" style=\"fill:purple;stroke:black;stroke-width:1.0\"/><circle cx=\"362\" cy=\"105\" r=\"7.0\" style=\"fill:red;stroke:black;stroke-width:1.0\"/><circle cx=\"77\" cy=\"277\" r=\"7.0\" style=\"fill:fuchsia;stroke:black;stroke-width:1.0\"/><circle cx=\"134\" cy=\"277\" r=\"7.0\" style=\"fill:fuchsia;stroke:black;stroke-width:1.0\"/><circle cx=\"77\" cy=\"148\" r=\"7.0\" style=\"fill:green;stroke:black;stroke-width:1.0\"/><circle cx=\"191\" cy=\"320\" r=\"7.0\" style=\"fill:yellow;stroke:black;stroke-width:1.0\"/><circle cx=\"77\" cy=\"20\" r=\"7.0\" style=\"fill:orange;stroke:black;stroke-width:1.0\"/><circle cx=\"191\" cy=\"191\" r=\"7.0\" style=\"fill:green;stroke:black;stroke-width:1.0\"/><circle cx=\"362\" cy=\"320\" r=\"7.0\" style=\"fill:blue;stroke:black;stroke-width:1.0\"/><circle cx=\"362\" cy=\"62\" r=\"7.0\" style=\"fill:red;stroke:black;stroke-width:1.0\"/><circle cx=\"305\" cy=\"148\" r=\"7.0\" style=\"fill:purple;stroke:black;stroke-width:1.0\"/><circle cx=\"420\" cy=\"320\" r=\"7.0\" style=\"fill:blue;stroke:black;stroke-width:1.0\"/><circle cx=\"20\" cy=\"320\" r=\"7.0\" style=\"fill:olive;stroke:black;stroke-width:1.0\"/><circle cx=\"191\" cy=\"277\" r=\"7.0\" style=\"fill:yellow;stroke:black;stroke-width:1.0\"/><circle cx=\"134\" cy=\"234\" r=\"7.0\" style=\"fill:fuchsia;stroke:black;stroke-width:1.0\"/><circle cx=\"77\" cy=\"105\" r=\"7.0\" style=\"fill:orange;stroke:black;stroke-width:1.0\"/><circle cx=\"305\" cy=\"105\" r=\"7.0\" style=\"fill:red;stroke:black;stroke-width:1.0\"/><circle cx=\"420\" cy=\"277\" r=\"7.0\" style=\"fill:blue;stroke:black;stroke-width:1.0\"/><circle cx=\"362\" cy=\"20\" r=\"7.0\" style=\"fill:red;stroke:black;stroke-width:1.0\"/></svg>"
      ],
      "text/plain": [
       "<IPython.core.display.SVG object>"
      ]
     },
     "execution_count": 27,
     "metadata": {},
     "output_type": "execute_result"
    }
   ],
   "source": [
    "SVG(svg_graph(adjacency, position, labels=labels))"
   ]
  }
 ],
 "metadata": {
  "kernelspec": {
   "display_name": "Python (landscape_steiner)",
   "language": "python",
   "name": "landscape_steiner"
  },
  "language_info": {
   "codemirror_mode": {
    "name": "ipython",
    "version": 3
   },
   "file_extension": ".py",
   "mimetype": "text/x-python",
   "name": "python",
   "nbconvert_exporter": "python",
   "pygments_lexer": "ipython3",
   "version": "3.8.3"
  },
  "toc-autonumbering": true
 },
 "nbformat": 4,
 "nbformat_minor": 4
}
