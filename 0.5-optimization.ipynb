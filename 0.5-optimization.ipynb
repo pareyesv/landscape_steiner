{
 "cells": [
  {
   "cell_type": "code",
   "execution_count": 1,
   "metadata": {},
   "outputs": [],
   "source": [
    "%load_ext autoreload\n",
    "%autoreload 2"
   ]
  },
  {
   "cell_type": "code",
   "execution_count": 2,
   "metadata": {},
   "outputs": [],
   "source": [
    "import os\n",
    "from pathlib import Path\n",
    "from typing import List, Tuple\n",
    "\n",
    "import matplotlib.pyplot as plt\n",
    "import numpy as np\n",
    "import pandas as pd\n",
    "\n",
    "import networkx as nx\n",
    "import stp_parser as stparser\n",
    "from pyomo.environ import (\n",
    "    Binary,\n",
    "    ConcreteModel,\n",
    "    Constraint,\n",
    "    ConstraintList,\n",
    "    Objective,\n",
    "    Param,\n",
    "    Set,\n",
    "    SolverFactory,\n",
    "    Var,\n",
    "    minimize,\n",
    ")"
   ]
  },
  {
   "cell_type": "code",
   "execution_count": 3,
   "metadata": {},
   "outputs": [],
   "source": [
    "%matplotlib inline"
   ]
  },
  {
   "cell_type": "markdown",
   "metadata": {},
   "source": [
    "# Init"
   ]
  },
  {
   "cell_type": "code",
   "execution_count": 4,
   "metadata": {},
   "outputs": [],
   "source": [
    "ENV_PATH = Path(os.environ.get(\"CONDA_PREFIX\"))\n",
    "SOLVER_DIR = ENV_PATH / \"envs/landscape_steiner/bin\"  # set your path to the env"
   ]
  },
  {
   "cell_type": "markdown",
   "metadata": {},
   "source": [
    "# Optimization Model"
   ]
  },
  {
   "cell_type": "markdown",
   "metadata": {},
   "source": [
    "TODO List\n",
    "\n",
    "- [ ] add cut constraints"
   ]
  },
  {
   "cell_type": "code",
   "execution_count": 5,
   "metadata": {},
   "outputs": [],
   "source": [
    "class MPPCST:\n",
    "    \"\"\"Multi-period Prize Collecting Steiner Tree Problem.\n",
    "    \n",
    "    Ref: https://chairelogistique.hec.ca/wp-content/uploads/2020/09/Steiner.pdf\n",
    "    \n",
    "    TODO: \n",
    "        * refactor var/arg v0\n",
    "        * add cut constraints\n",
    "    \"\"\"\n",
    "    def __init__(\n",
    "        self,\n",
    "        stp: stparser.SteinerTreeProblem,\n",
    "        verbose: bool=False,\n",
    "        v0: int=None,  # TODO: refactor\n",
    "        update_factor: dict={1: 0.5, 2: 1.0},  # TODO: refactor\n",
    "        distance_limit: dict={1: 20, 2: 10},  # TODO: refactor\n",
    "    ):\n",
    "        self.verbose = verbose\n",
    "        self.create_relaxed_model(v0, update_factor, distance_limit)\n",
    "    \n",
    "    def create_relaxed_model(self, v0, update_factor, distance_limit):  # TODO: refactor\n",
    "        m = ConcreteModel(doc=(\"MPPCST\"\n",
    "            \" Ref: [Faria2020]:\"\n",
    "            \" https://chairelogistique.hec.ca/wp-content/uploads/2020/09/Steiner.pdf\"))\n",
    "        \n",
    "        edge_set = list(stp.edge_attributes_df().index.unique())\n",
    "        node_set = list(stp.node_attributes_df().index.unique())\n",
    "\n",
    "        m.EDGES = Set(initialize=edge_set, dimen=2)\n",
    "        m.NODES = Set(initialize=node_set)\n",
    "        m.PERIODS = Set(initialize=list(stp.iter_periods()))\n",
    "        \n",
    "        m.v0 = Param(initialize=v0, doc=\"original network contracted in one node\")\n",
    "        m.update_factor = Param(m.PERIODS, initialize=update_factor)\n",
    "        m.prize = Param(m.NODES, initialize=stp.node_attributes_df()[\"prize\"].to_dict())\n",
    "        m.distance_limit = Param(m.PERIODS, initialize=distance_limit)  # TODO: refactor\n",
    "        \n",
    "        edge_weight_dict = {(*k, t): v \n",
    "                            for k,v in stp.edge_attributes_df()[\"weight\"].to_dict().items() \n",
    "                            for t in set(stp.iter_periods())}\n",
    "        m.edge_weight = Param(m.EDGES * m.PERIODS, initialize=edge_weight_dict)\n",
    "        m.edge_distance = Param(m.EDGES, initialize=stp.edge_attributes_df()[\"distance\"].to_dict())\n",
    "        \n",
    "        m.YT = Var(m.NODES * m.PERIODS, domain=Binary)\n",
    "        m.XT = Var(m.EDGES * m.PERIODS, domain=Binary)\n",
    "        \n",
    "        m.cutConstraints = ConstraintList(doc=\"Faria2020 eq 5\")\n",
    "\n",
    "        def multiPeriodConstraintX_rule(m, e):\n",
    "            return sum(m.XT[e,t] for e in m.EDGES for t in m.PERIODS) <= 1\n",
    "        m.multiPeriodConstraintX = Constraint(m.EDGES, doc=\"Faria2020 eq 6\")\n",
    "        \n",
    "        def multiPeriodConstraintY_rule(m, e):\n",
    "            return sum(m.YT[n,t] for n in m.NODES for t in m.PERIODS) <= 1\n",
    "        m.multiPeriodConstraintY = Constraint(m.NODES, doc=\"Faria2018 eq 7\")\n",
    "        \n",
    "        def distance_limit_rule(m, t):\n",
    "            return sum(m.edge_distance[e] * m.XT[e,t] \n",
    "                       for e in m.EDGES \n",
    "                       for t in m.PERIODS) <= m.distance_limit[t]\n",
    "        m.distanceLimitConstraint = Constraint(m.PERIODS, \n",
    "                                               rule=distance_limit_rule, \n",
    "                                               doc=\"Faria2020 eq 9\")\n",
    "\n",
    "        def connectivityConstraint_rule(m, t):\n",
    "            return (sum(m.XT[e, tp] \n",
    "                        for e in m.EDGES \n",
    "                        for tp in m.PERIODS if tp <= t) \n",
    "            >=\n",
    "            sum(m.YT[n, tp] for n in m.NODES if n != m.v0 \n",
    "                for tp in m.PERIODS if tp <= t)\n",
    "           )\n",
    "        m.connectivityConstraint = Constraint(m.PERIODS, \n",
    "                                      rule=connectivityConstraint_rule, \n",
    "                                      doc=\"Faria2020 eq 10\")\n",
    "        \n",
    "        m.obj = Objective(expr=sum(m.update_factor[t] \n",
    "                           * m.prize[n] \n",
    "                           * (1 - m.YT[n, t]) \n",
    "                           for t in m.PERIODS \n",
    "                           for n in m.NODES\n",
    "                          )\n",
    "                 + sum(m.edge_weight[e,t] * m.XT[e,t] \n",
    "                       for t in m.PERIODS \n",
    "                       for e in m.EDGES), sense=minimize,\n",
    "                  doc=\"Faria2020 MPPCST eq 4\"\n",
    "                 )\n",
    "        \n",
    "        self.m = m\n",
    "        \n",
    "    def solve(self, *args, **kwargs):\n",
    "        solver = SolverFactory(\"cbc\", executable=SOLVER_DIR / \"cbc\")\n",
    "        if \"tee\" not in kwargs:\n",
    "            kwargs[\"tee\"] = self.verbose\n",
    "        results = solver.solve(self.m, *args, **kwargs)\n",
    "        return results\n",
    "    \n",
    "    @staticmethod\n",
    "    def print_results(results: dict):\n",
    "        \"\"\"Pretty print the results (or any dictionary)\"\"\"\n",
    "        def pretty(d, indent=0):\n",
    "           for key, value in d.items():\n",
    "              print('\\t' * indent + str(key))\n",
    "              if isinstance(value, dict):\n",
    "                 pretty(value, indent+1)\n",
    "              else:\n",
    "                 print('\\t' * (indent+1) + str(value))\n",
    "                    \n",
    "        pretty(results)"
   ]
  },
  {
   "cell_type": "code",
   "execution_count": 6,
   "metadata": {},
   "outputs": [],
   "source": [
    "stp = stparser.SteinerTreeProblem(stp_file=\"data/raw/ES10FST/es10fst02.stp\", \n",
    "                                  update_factors=[0.5, 1.0], \n",
    "                                  default_prize=1.0)"
   ]
  },
  {
   "cell_type": "code",
   "execution_count": 7,
   "metadata": {},
   "outputs": [],
   "source": [
    "mppcst = MPPCST(stp, v0=1, update_factor={1: 1.0, 2: 0.8}, distance_limit={1: 20.0, 2: 15})"
   ]
  },
  {
   "cell_type": "code",
   "execution_count": 8,
   "metadata": {},
   "outputs": [],
   "source": [
    "results = mppcst.solve()"
   ]
  },
  {
   "cell_type": "code",
   "execution_count": 9,
   "metadata": {},
   "outputs": [
    {
     "name": "stdout",
     "output_type": "stream",
     "text": [
      "Model unknown\n",
      "\n",
      "  Variables:\n",
      "    YT : Size=28, Index=YT_index\n",
      "        Key     : Lower : Value : Upper : Fixed : Stale : Domain\n",
      "         (1, 1) :     0 :   1.0 :     1 : False : False : Binary\n",
      "         (1, 2) :     0 :   1.0 :     1 : False : False : Binary\n",
      "         (2, 1) :     0 :   0.0 :     1 : False : False : Binary\n",
      "         (2, 2) :     0 :   0.0 :     1 : False : False : Binary\n",
      "         (3, 1) :     0 :   0.0 :     1 : False : False : Binary\n",
      "         (3, 2) :     0 :   0.0 :     1 : False : False : Binary\n",
      "         (4, 1) :     0 :   0.0 :     1 : False : False : Binary\n",
      "         (4, 2) :     0 :   0.0 :     1 : False : False : Binary\n",
      "         (5, 1) :     0 :   0.0 :     1 : False : False : Binary\n",
      "         (5, 2) :     0 :   0.0 :     1 : False : False : Binary\n",
      "         (6, 1) :     0 :   0.0 :     1 : False : False : Binary\n",
      "         (6, 2) :     0 :   0.0 :     1 : False : False : Binary\n",
      "         (7, 1) :     0 :   0.0 :     1 : False : False : Binary\n",
      "         (7, 2) :     0 :   0.0 :     1 : False : False : Binary\n",
      "         (8, 1) :     0 :   0.0 :     1 : False : False : Binary\n",
      "         (8, 2) :     0 :   0.0 :     1 : False : False : Binary\n",
      "         (9, 1) :     0 :   0.0 :     1 : False : False : Binary\n",
      "         (9, 2) :     0 :   0.0 :     1 : False : False : Binary\n",
      "        (10, 1) :     0 :   0.0 :     1 : False : False : Binary\n",
      "        (10, 2) :     0 :   0.0 :     1 : False : False : Binary\n",
      "        (11, 1) :     0 :   0.0 :     1 : False : False : Binary\n",
      "        (11, 2) :     0 :   0.0 :     1 : False : False : Binary\n",
      "        (12, 1) :     0 :   0.0 :     1 : False : False : Binary\n",
      "        (12, 2) :     0 :   0.0 :     1 : False : False : Binary\n",
      "        (13, 1) :     0 :   0.0 :     1 : False : False : Binary\n",
      "        (13, 2) :     0 :   0.0 :     1 : False : False : Binary\n",
      "        (14, 1) :     0 :   0.0 :     1 : False : False : Binary\n",
      "        (14, 2) :     0 :   0.0 :     1 : False : False : Binary\n",
      "    XT : Size=26, Index=XT_index\n",
      "        Key         : Lower : Value : Upper : Fixed : Stale : Domain\n",
      "         (1, 12, 1) :     0 :   0.0 :     1 : False : False : Binary\n",
      "         (1, 12, 2) :     0 :   0.0 :     1 : False : False : Binary\n",
      "         (2, 12, 1) :     0 :   0.0 :     1 : False : False : Binary\n",
      "         (2, 12, 2) :     0 :   0.0 :     1 : False : False : Binary\n",
      "         (3, 13, 1) :     0 :   0.0 :     1 : False : False : Binary\n",
      "         (3, 13, 2) :     0 :   0.0 :     1 : False : False : Binary\n",
      "         (4, 14, 1) :     0 :   0.0 :     1 : False : False : Binary\n",
      "         (4, 14, 2) :     0 :   0.0 :     1 : False : False : Binary\n",
      "         (5, 11, 1) :     0 :   0.0 :     1 : False : False : Binary\n",
      "         (5, 11, 2) :     0 :   0.0 :     1 : False : False : Binary\n",
      "         (5, 12, 1) :     0 :   0.0 :     1 : False : False : Binary\n",
      "         (5, 12, 2) :     0 :   0.0 :     1 : False : False : Binary\n",
      "          (6, 7, 1) :     0 :   0.0 :     1 : False : False : Binary\n",
      "          (6, 7, 2) :     0 :   0.0 :     1 : False : False : Binary\n",
      "         (7, 14, 1) :     0 :   0.0 :     1 : False : False : Binary\n",
      "         (7, 14, 2) :     0 :   0.0 :     1 : False : False : Binary\n",
      "         (8, 10, 1) :     0 :   0.0 :     1 : False : False : Binary\n",
      "         (8, 10, 2) :     0 :   0.0 :     1 : False : False : Binary\n",
      "         (8, 13, 1) :     0 :   0.0 :     1 : False : False : Binary\n",
      "         (8, 13, 2) :     0 :   0.0 :     1 : False : False : Binary\n",
      "         (9, 11, 1) :     0 :   0.0 :     1 : False : False : Binary\n",
      "         (9, 11, 2) :     0 :   0.0 :     1 : False : False : Binary\n",
      "        (10, 11, 1) :     0 :   0.0 :     1 : False : False : Binary\n",
      "        (10, 11, 2) :     0 :   0.0 :     1 : False : False : Binary\n",
      "        (13, 14, 1) :     0 :   0.0 :     1 : False : False : Binary\n",
      "        (13, 14, 2) :     0 :   0.0 :     1 : False : False : Binary\n",
      "\n",
      "  Objectives:\n",
      "    obj : Size=1, Index=None, Active=True\n",
      "        Key  : Active : Value\n",
      "        None :   True : 23.40000000000001\n",
      "\n",
      "  Constraints:\n",
      "    cutConstraints : Size=0\n",
      "        Key : Lower : Body : Upper\n",
      "    multiPeriodConstraintX : Size=0\n",
      "        Key : Lower : Body : Upper\n",
      "    multiPeriodConstraintY : Size=0\n",
      "        Key : Lower : Body : Upper\n",
      "    distanceLimitConstraint : Size=2\n",
      "        Key : Lower : Body : Upper\n",
      "          1 :  None :  0.0 :  20.0\n",
      "          2 :  None :  0.0 :  15.0\n",
      "    connectivityConstraint : Size=2\n",
      "        Key : Lower : Body : Upper\n",
      "          1 :  None :  0.0 :   0.0\n",
      "          2 :  None :  0.0 :   0.0\n"
     ]
    }
   ],
   "source": [
    "mppcst.m.display()"
   ]
  },
  {
   "cell_type": "code",
   "execution_count": 10,
   "metadata": {},
   "outputs": [
    {
     "name": "stdout",
     "output_type": "stream",
     "text": [
      "Problem\n",
      "\t\n",
      "- Name: unknown\n",
      "  Lower bound: 23.4\n",
      "  Upper bound: 23.4\n",
      "  Number of objectives: 1\n",
      "  Number of constraints: 3\n",
      "  Number of variables: 52\n",
      "  Number of binary variables: 54\n",
      "  Number of integer variables: 54\n",
      "  Number of nonzeros: 52\n",
      "  Sense: minimize\n",
      "\n",
      "Solver\n",
      "\t\n",
      "- Status: ok\n",
      "  User time: -1.0\n",
      "  System time: 0.06\n",
      "  Wallclock time: 0.01\n",
      "  Termination condition: optimal\n",
      "  Termination message: Model was solved to optimality (subject to tolerances), and an optimal solution is available.\n",
      "  Statistics: \n",
      "    Branch and bound: \n",
      "      Number of bounded subproblems: 0\n",
      "      Number of created subproblems: 0\n",
      "    Black box: \n",
      "      Number of iterations: 0\n",
      "  Error rc: 0\n",
      "  Time: 0.04965686798095703\n",
      "\n",
      "Solution\n",
      "\t\n",
      "- number of solutions: 0\n",
      "  number of solutions displayed: 0\n",
      "\n"
     ]
    }
   ],
   "source": [
    "MPPCST.print_results(results)"
   ]
  },
  {
   "cell_type": "markdown",
   "metadata": {},
   "source": [
    "# Read/Write GraphML"
   ]
  },
  {
   "cell_type": "code",
   "execution_count": 11,
   "metadata": {},
   "outputs": [],
   "source": [
    "stp.write_graphml(\"test_graph.graphml\")"
   ]
  },
  {
   "cell_type": "code",
   "execution_count": 12,
   "metadata": {},
   "outputs": [],
   "source": [
    "gml = nx.read_graphml(\"test_graph.graphml\")"
   ]
  },
  {
   "cell_type": "code",
   "execution_count": 13,
   "metadata": {},
   "outputs": [
    {
     "data": {
      "text/plain": [
       "NodeDataView({'1': {'prize': 1.0, 'is_terminal': 1, 'x': 1470158, 'y': 6131368}, '2': {'prize': 1.0, 'is_terminal': 1, 'x': 1251936, 'y': 2125058}, '3': {'prize': 1.0, 'is_terminal': 1, 'x': 7411042, 'y': 2036110}, '4': {'prize': 1.0, 'is_terminal': 1, 'x': 8044316, 'y': 4252316}, '5': {'prize': 1.0, 'is_terminal': 1, 'x': 2116787, 'y': 2721307}, '6': {'prize': 1.0, 'is_terminal': 1, 'x': 6624317, 'y': 7419167}, '7': {'prize': 1.0, 'is_terminal': 1, 'x': 8043960, 'y': 5698598}, '8': {'prize': 1.0, 'is_terminal': 1, 'x': 6684968, 'y': 2824909}, '9': {'prize': 1.0, 'is_terminal': 1, 'x': 4043257, 'y': 1895910}, '10': {'prize': 1.0, 'is_terminal': 1, 'x': 4978816, 'y': 2117592}, '11': {'prize': 1.0, 'is_terminal': 0, 'x': 4043257, 'y': 2117592}, '12': {'prize': 1.0, 'is_terminal': 0, 'x': 1470158, 'y': 2721307}, '13': {'prize': 1.0, 'is_terminal': 0, 'x': 7411042, 'y': 2824909}, '14': {'prize': 1.0, 'is_terminal': 0, 'x': 8043960, 'y': 4252316}})"
      ]
     },
     "execution_count": 13,
     "metadata": {},
     "output_type": "execute_result"
    }
   ],
   "source": [
    "gml.nodes(data=True)"
   ]
  },
  {
   "cell_type": "markdown",
   "metadata": {},
   "source": [
    "# draft"
   ]
  },
  {
   "cell_type": "code",
   "execution_count": 14,
   "metadata": {},
   "outputs": [
    {
     "data": {
      "text/plain": [
       "{'periods': 2, 'update_factor-01': 0.5, 'update_factor-02': 1.0}"
      ]
     },
     "execution_count": 14,
     "metadata": {},
     "output_type": "execute_result"
    }
   ],
   "source": [
    "stp.graph_attributes()"
   ]
  },
  {
   "cell_type": "code",
   "execution_count": 15,
   "metadata": {},
   "outputs": [],
   "source": [
    "def refactor_attribute_periods(self,\n",
    "                               attribute_list=[\"update_factor\"],\n",
    "                               stp_attributes_dict=None,\n",
    "                               attribute_format=None,\n",
    "                               ):\n",
    "    \"\"\"Refactor multi-period attributes into one list-valued attribute.\n",
    "    \n",
    "    The list order corresponds to the values for different periods.\n",
    "    \"\"\"\n",
    "    if stp_attributes_dict is None:\n",
    "        stp_attributes_dict=self.graph_attributes()\n",
    "    if attribute_format is None:\n",
    "        attribute_format = self.graph_attribute_format\n",
    "        \n",
    "    updated_attributes = dict.fromkeys(attribute_list, \n",
    "                                       [None] * stp.num_periods()\n",
    "                                       )\n",
    "    for attribute in attribute_list:\n",
    "        attribute_value_list = []\n",
    "        for t in stp.iter_periods():\n",
    "            attribute_name = (attribute_format.format(attribute) \n",
    "                              + stp.period_suffix_format.format(t))\n",
    "            attribute_value_list.append(stp_attributes_dict.get(attribute_name, None))\n",
    "        updated_attributes[attribute] = attribute_value_list\n",
    "    return updated_attributes"
   ]
  },
  {
   "cell_type": "code",
   "execution_count": 16,
   "metadata": {},
   "outputs": [
    {
     "data": {
      "text/plain": [
       "{'update_factor': [0.5, 1.0]}"
      ]
     },
     "execution_count": 16,
     "metadata": {},
     "output_type": "execute_result"
    }
   ],
   "source": [
    "stp.refactor_attribute_periods()"
   ]
  }
 ],
 "metadata": {
  "kernelspec": {
   "display_name": "Python (landscape_steiner)",
   "language": "python",
   "name": "landscape_steiner"
  },
  "language_info": {
   "codemirror_mode": {
    "name": "ipython",
    "version": 3
   },
   "file_extension": ".py",
   "mimetype": "text/x-python",
   "name": "python",
   "nbconvert_exporter": "python",
   "pygments_lexer": "ipython3",
   "version": "3.8.3"
  },
  "toc-autonumbering": true
 },
 "nbformat": 4,
 "nbformat_minor": 4
}
