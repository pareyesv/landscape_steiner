{
 "cells": [
  {
   "cell_type": "code",
   "execution_count": 1,
   "metadata": {},
   "outputs": [],
   "source": [
    "%load_ext autoreload\n",
    "%autoreload 2"
   ]
  },
  {
   "cell_type": "code",
   "execution_count": 2,
   "metadata": {},
   "outputs": [],
   "source": [
    "import numpy as np\n",
    "import matplotlib.pyplot as plt\n",
    "#from scipy import interpolate\n",
    "import networkx as nx\n",
    "\n",
    "import pandas as pd\n",
    "from sklearn.cluster import KMeans\n",
    "\n",
    "from sknetwork.hierarchy import cut_straight, cut_balanced, Paris\n",
    "from sknetwork.visualization import svg_dendrogram, svg_graph\n",
    "\n",
    "import landscape as ld\n",
    "from networkx.algorithms import approximation as apx\n",
    "\n",
    "from IPython.display import SVG\n",
    "\n",
    "from typing import List, Tuple"
   ]
  },
  {
   "cell_type": "code",
   "execution_count": 3,
   "metadata": {},
   "outputs": [],
   "source": [
    "%matplotlib inline"
   ]
  },
  {
   "cell_type": "markdown",
   "metadata": {},
   "source": [
    "# Init"
   ]
  },
  {
   "cell_type": "code",
   "execution_count": 4,
   "metadata": {},
   "outputs": [],
   "source": [
    "import os\n",
    "from pathlib import Path\n",
    "ENV_PATH = Path(os.environ.get(\"CONDA_PREFIX\"))\n",
    "SOLVER_DIR = ENV_PATH / \"envs/landscape_steiner/bin\""
   ]
  },
  {
   "cell_type": "markdown",
   "metadata": {},
   "source": [
    "# Optimization Model"
   ]
  },
  {
   "cell_type": "code",
   "execution_count": 5,
   "metadata": {},
   "outputs": [],
   "source": [
    "from pyomo.environ import (\n",
    "    ConcreteModel,\n",
    "    Var,\n",
    "    Set,\n",
    "    Binary,\n",
    "    Objective,\n",
    "    SolverFactory,\n",
    "    minimize,\n",
    ")"
   ]
  },
  {
   "cell_type": "code",
   "execution_count": 25,
   "metadata": {},
   "outputs": [],
   "source": [
    "def pyomo_demo(verbose=False):\n",
    "    m = ConcreteModel()\n",
    "\n",
    "    # sets\n",
    "    m.NODES = Set(initialize=[0,1,2])\n",
    "\n",
    "    # variables\n",
    "    m.x = Var(m.NODES, domain=Binary)\n",
    "    \n",
    "    # obj\n",
    "    m.obj = Objective(expr=sum(m.x[node] for node in m.NODES), sense=minimize)\n",
    "    \n",
    "    # results\n",
    "    results = SolverFactory(\"cbc\", executable=SOLVER_DIR / \"cbc\").solve(m, tee=verbose)\n",
    "    return (\n",
    "        m.obj.expr(),\n",
    "        m,\n",
    "    )"
   ]
  },
  {
   "cell_type": "code",
   "execution_count": 28,
   "metadata": {},
   "outputs": [
    {
     "name": "stdout",
     "output_type": "stream",
     "text": [
      "WARNING: Empty constraint block written in LP format - solver may error\n"
     ]
    }
   ],
   "source": [
    "value, m = pyomo_demo()"
   ]
  }
 ],
 "metadata": {
  "kernelspec": {
   "display_name": "Python (landscape_steiner)",
   "language": "python",
   "name": "landscape_steiner"
  },
  "language_info": {
   "codemirror_mode": {
    "name": "ipython",
    "version": 3
   },
   "file_extension": ".py",
   "mimetype": "text/x-python",
   "name": "python",
   "nbconvert_exporter": "python",
   "pygments_lexer": "ipython3",
   "version": "3.8.3"
  },
  "toc-autonumbering": true
 },
 "nbformat": 4,
 "nbformat_minor": 4
}
