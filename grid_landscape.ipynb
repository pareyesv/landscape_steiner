{
 "cells": [
  {
   "cell_type": "code",
   "execution_count": 1,
   "metadata": {},
   "outputs": [],
   "source": [
    "%load_ext autoreload\n",
    "%autoreload 2"
   ]
  },
  {
   "cell_type": "code",
   "execution_count": 2,
   "metadata": {},
   "outputs": [],
   "source": [
    "import numpy as np\n",
    "import matplotlib.pyplot as plt\n",
    "#from scipy import interpolate\n",
    "import networkx as nx\n",
    "\n",
    "import pandas as pd\n",
    "from sklearn.cluster import KMeans\n",
    "\n",
    "import landscape as ld\n",
    "from networkx.algorithms import approximation as apx"
   ]
  },
  {
   "cell_type": "markdown",
   "metadata": {},
   "source": [
    "# utils"
   ]
  },
  {
   "cell_type": "code",
   "execution_count": 3,
   "metadata": {},
   "outputs": [],
   "source": [
    "def make_graph(Nx0, L, alpha, points):\n",
    "    \n",
    "    #compute landscape function\n",
    "    fLand = ld.find_landscape(Nx0 = Nx0, L = L, A0 = 5000, points = points)\n",
    "    \n",
    "    # create square grid graph\n",
    "    G = nx.grid_2d_graph(range(1,int(L)), range(1,int(L))) \n",
    "\n",
    "    print( 'number of original edges {}'.format(len(G.edges))) \n",
    "    \n",
    "    # delete edges where the landscape function > alpha \n",
    "    for e in G.edges:\n",
    "        x, y = 0.5*(np.array(e[0]) + np.array(e[1]))\n",
    "        if fLand(x,y) > alpha:\n",
    "            G.remove_edge(e[0],e[1])\n",
    "            \n",
    "    # delete nodes with degree 1\n",
    "    ends = [ x[0] for x in G.degree() if x[1] <= 1]\n",
    "    G.remove_nodes_from(ends)\n",
    "            \n",
    "    print( 'number of final edges {}'.format(len(G.edges)))\n",
    "            \n",
    "    return G"
   ]
  },
  {
   "cell_type": "code",
   "execution_count": 4,
   "metadata": {},
   "outputs": [],
   "source": [
    "def get_pos(g):\n",
    "    return dict( (n, n) for n in g.nodes() )"
   ]
  },
  {
   "cell_type": "code",
   "execution_count": 5,
   "metadata": {},
   "outputs": [],
   "source": [
    "def make_graph_plot(Nx0, L, alpha, points):\n",
    "    #make graph \n",
    "    G = make_graph(Nx0, L, alpha, points)\n",
    "    pos = dict( (n, n) for n in G.nodes() )\n",
    "    \n",
    "    # get points for scatter plot\n",
    "    xpoints = [point[0] for point in points]\n",
    "    ypoints = [point[1] for point in points]\n",
    "    \n",
    "    # plotology \n",
    "    fig, ax = plt.subplots(figsize=(4,4));\n",
    "\n",
    "    plt.xlim(0, L)\n",
    "    plt.ylim(0, L)\n",
    "\n",
    "    nx.draw_networkx_edges(G, pos, ax = ax, with_labels = False)\n",
    "    ax.tick_params(left=True, bottom=True, labelleft=True, labelbottom=True)\n",
    "\n",
    "    # add scatter plot\n",
    "    plt.scatter(xpoints, ypoints)\n",
    "    plt.show()"
   ]
  },
  {
   "cell_type": "code",
   "execution_count": 6,
   "metadata": {},
   "outputs": [],
   "source": [
    "def make_naive_steiner_plot(G, L, points):\n",
    "    \n",
    "    # approximate steiner tree\n",
    "    G_st = apx.steinertree.steiner_tree(G, points, weight='length') \n",
    "    print('The number of edges of the Steiner tree is '+ str(G_st.number_of_edges()))\n",
    "    \n",
    "    xpoints = [point[0] for point in points]\n",
    "    ypoints = [point[1] for point in points]\n",
    "\n",
    "    fig, ax = plt.subplots(figsize=(6,6)); plt.xlim(0, L); plt.ylim(0, L);\n",
    "    \n",
    "    nx.draw(G, pos = get_pos(G), node_size = 0)\n",
    "    nx.draw(G_st, pos = get_pos(G_st), node_size = 0, edge_color = 'r', width = 2.5)\n",
    "    plt.scatter(xpoints, ypoints);"
   ]
  },
  {
   "cell_type": "code",
   "execution_count": 7,
   "metadata": {},
   "outputs": [],
   "source": [
    "def make_improved_steiner_plot(G, L, alpha, points):\n",
    "    \n",
    "    # cut edges with landscape function. This gives a series of non-connected graphs. Pick largest and compute\n",
    "    # Steiner tree\n",
    "    G_ld = make_graph(40, L, alpha, points)\n",
    "    \n",
    "    # all connected components of G after cutting edges\n",
    "    graphs = [G_ld.subgraph(c).copy() for c in nx.connected_components(G_ld)]\n",
    "\n",
    "    fig, ax = plt.subplots(figsize=(6,6)); plt.xlim(0, L); plt.ylim(0, L);\n",
    "    nx.draw(G_ld, pos = get_pos(G_ld), node_size = 0)\n",
    "    \n",
    "    # compute steiner for smaller G\n",
    "    count_edges = 0\n",
    "    for graph in graphs:\n",
    "        G_ld_st = apx.steinertree.steiner_tree(graph, points, weight='length') \n",
    "        count_edges += G_ld_st.number_of_edges()\n",
    "        \n",
    "        nx.draw(G_ld_st, pos = get_pos(G_ld_st), node_size = 0, edge_color = 'r', width = 2.5)\n",
    "    \n",
    "    print('The total number of edges of the Steiner trees is '+ str(count_edges))\n",
    "    \n",
    "    xpoints = [point[0] for point in points]\n",
    "    ypoints = [point[1] for point in points]\n",
    "    \n",
    "    plt.scatter(xpoints, ypoints);"
   ]
  },
  {
   "cell_type": "markdown",
   "metadata": {},
   "source": [
    "# Example 1:\n",
    "Precooked example, fixed points"
   ]
  },
  {
   "cell_type": "code",
   "execution_count": 8,
   "metadata": {},
   "outputs": [],
   "source": [
    "# points we want to cluster and join\n",
    "points = [(1, 1), (2, 2), (3, 4), (5, 1), (5, 4), (8, 2), (7, 8), (6,  6), (2,8), (4,3) ]\n",
    "#points = [[1, 1], [2, 2], [3, 4], [5, 1], [5, 4], [8, 2], [7, 8], [6,  6] , [2, 8], [4,3] ]"
   ]
  },
  {
   "cell_type": "code",
   "execution_count": 9,
   "metadata": {
    "scrolled": false
   },
   "outputs": [
    {
     "name": "stdout",
     "output_type": "stream",
     "text": [
      "number of original edges 144\n",
      "number of final edges 52\n"
     ]
    },
    {
     "data": {
      "image/png": "[encoded data removed]",
      "text/plain": [
       "<Figure size 288x288 with 1 Axes>"
      ]
     },
     "metadata": {
      "needs_background": "light"
     },
     "output_type": "display_data"
    }
   ],
   "source": [
    "make_graph_plot(Nx0 = 40, L = 10, alpha = 0.8, points = points)"
   ]
  },
  {
   "cell_type": "markdown",
   "metadata": {},
   "source": [
    "# Example 2\n",
    "Points selected at random. Try varying alpha for different results. Higher alpha includes more edges"
   ]
  },
  {
   "cell_type": "code",
   "execution_count": 24,
   "metadata": {},
   "outputs": [],
   "source": [
    "points2 = np.random.randint(18, size=(40, 2)) + 1"
   ]
  },
  {
   "cell_type": "code",
   "execution_count": 25,
   "metadata": {},
   "outputs": [
    {
     "name": "stdout",
     "output_type": "stream",
     "text": [
      "number of original edges 684\n",
      "number of final edges 146\n"
     ]
    },
    {
     "data": {
      "image/png": "[encoded data removed]",
      "text/plain": [
       "<Figure size 288x288 with 1 Axes>"
      ]
     },
     "metadata": {
      "needs_background": "light"
     },
     "output_type": "display_data"
    }
   ],
   "source": [
    "make_graph_plot(Nx0 = 40, L = 20, alpha = 0.8, points = points2)"
   ]
  },
  {
   "cell_type": "markdown",
   "metadata": {},
   "source": [
    "## K-means clustering\n",
    "\n",
    "Example taken from \n",
    "\n",
    "https://benalexkeen.com/k-means-clustering-in-python/"
   ]
  },
  {
   "cell_type": "code",
   "execution_count": 26,
   "metadata": {},
   "outputs": [],
   "source": [
    "def make_clusters(k, points):\n",
    "    xpoints = [point[0] for point in points]\n",
    "    ypoints = [point[1] for point in points]\n",
    "\n",
    "    df = pd.DataFrame({\n",
    "        'x': xpoints,\n",
    "        'y': ypoints\n",
    "    })\n",
    "    \n",
    "    kmeans = KMeans(n_clusters = k)\n",
    "    kmeans.fit(df);\n",
    "\n",
    "    labels = kmeans.predict(df)\n",
    "    centroids = kmeans.cluster_centers_\n",
    "    \n",
    "    return df, labels, centroids"
   ]
  },
  {
   "cell_type": "code",
   "execution_count": 27,
   "metadata": {
    "scrolled": true
   },
   "outputs": [
    {
     "name": "stdout",
     "output_type": "stream",
     "text": [
      "number of original edges 144\n",
      "number of final edges 52\n"
     ]
    },
    {
     "data": {
      "text/plain": [
       "<matplotlib.collections.PathCollection at 0x1a1e77ca10>"
      ]
     },
     "execution_count": 27,
     "metadata": {},
     "output_type": "execute_result"
    },
    {
     "data": {
      "image/png": "[encoded data removed]",
      "text/plain": [
       "<Figure size 288x288 with 1 Axes>"
      ]
     },
     "metadata": {
      "needs_background": "light"
     },
     "output_type": "display_data"
    }
   ],
   "source": [
    "points = [[1, 1], [2, 2], [3, 4], [5, 1], [5, 4], [8, 2], [7, 8], [6,  6] , [2, 8], [4,3] ]\n",
    "\n",
    "# k-means clustering\n",
    "df, labels, centroids = make_clusters(3, points)\n",
    "colmap = {1: 'r', 2: 'g', 3: 'b', 4: 'y', 5: 'k', 6: 'm'}\n",
    "colors = list(map(lambda x: colmap[x+1], labels))\n",
    "\n",
    "# landscape clustering\n",
    "G = make_graph(40, 10, 0.8, points)\n",
    "pos = dict( (n, n) for n in G.nodes() )\n",
    "\n",
    "# make plots\n",
    "fig, ax = plt.subplots(figsize=(4,4)); plt.xlim(0, 10); plt.ylim(0, 10);\n",
    "\n",
    "nx.draw_networkx_edges(G, pos, ax = ax, with_labels = False)\n",
    "plt.scatter(df['x'], df['y'], c = colors, alpha=0.8, edgecolor='k')"
   ]
  },
  {
   "cell_type": "code",
   "execution_count": 28,
   "metadata": {},
   "outputs": [],
   "source": [
    "L0 = 25; Npts = 120; \n",
    "points2 = np.random.randint(L0 - 2, size=(Npts, 2)) + 1"
   ]
  },
  {
   "cell_type": "code",
   "execution_count": 30,
   "metadata": {},
   "outputs": [
    {
     "name": "stdout",
     "output_type": "stream",
     "text": [
      "number of original edges 1104\n",
      "number of final edges 423\n"
     ]
    },
    {
     "data": {
      "text/plain": [
       "<matplotlib.collections.PathCollection at 0x1a17bf3f50>"
      ]
     },
     "execution_count": 30,
     "metadata": {},
     "output_type": "execute_result"
    },
    {
     "data": {
      "image/png": "[encoded data removed]",
      "text/plain": [
       "<Figure size 576x576 with 1 Axes>"
      ]
     },
     "metadata": {
      "needs_background": "light"
     },
     "output_type": "display_data"
    }
   ],
   "source": [
    "kcluster = 6; alpha_cutoff = 0.7;\n",
    "\n",
    "# k-means clustering\n",
    "df, labels, centroids = make_clusters(kcluster, points2)\n",
    "colmap = {1: 'r', 2: 'g', 3: 'b', 4: 'y', 5: 'k', 6: 'm'}\n",
    "colors = list(map(lambda x: colmap[x+1], labels))\n",
    "\n",
    "# landscape clustering\n",
    "G = make_graph(60, L0, alpha_cutoff, points2)\n",
    "pos = dict((n, n) for n in G.nodes() )\n",
    "\n",
    "# make plots\n",
    "fig, ax = plt.subplots(figsize=(8,8)); plt.xlim(0, L0); plt.ylim(0, L0);\n",
    "\n",
    "nx.draw_networkx_edges(G, pos, ax = ax, with_labels = False)\n",
    "plt.scatter(df['x'], df['y'], c = colors, alpha = 0.8, edgecolor='k')"
   ]
  },
  {
   "cell_type": "markdown",
   "metadata": {},
   "source": [
    "advantages of landscape vs k-means:\n",
    "\n",
    "- takes care of edges, ensuring that each cluste is always connected\n",
    "\n",
    "- takes into account 'local density', so it naturally avoids holes. This can be alleviated in k-means by adding more clusters, but then we have to combine the clusters by some other means"
   ]
  },
  {
   "cell_type": "markdown",
   "metadata": {},
   "source": [
    "guidelines:\n",
    "\n",
    "- at high density, take alpha_cutoff small"
   ]
  },
  {
   "cell_type": "markdown",
   "metadata": {},
   "source": [
    "things to try:\n",
    "\n",
    "- add/remove edges with the mouse? "
   ]
  },
  {
   "cell_type": "markdown",
   "metadata": {},
   "source": [
    "# Steiner tree"
   ]
  },
  {
   "cell_type": "markdown",
   "metadata": {},
   "source": [
    "## Example 1"
   ]
  },
  {
   "cell_type": "code",
   "execution_count": 31,
   "metadata": {},
   "outputs": [],
   "source": [
    "points = [(1, 1), (2, 2), (3, 4), (5, 1), (5, 4), (8, 2), (7, 8), (6,  6), (2,8), (4,3) ]"
   ]
  },
  {
   "cell_type": "code",
   "execution_count": 32,
   "metadata": {},
   "outputs": [],
   "source": [
    "G = nx.grid_2d_graph(range(1,int(10)), range(1,int(10))) "
   ]
  },
  {
   "cell_type": "code",
   "execution_count": 33,
   "metadata": {},
   "outputs": [
    {
     "name": "stdout",
     "output_type": "stream",
     "text": [
      "The number of edges of the Steiner tree is 26\n"
     ]
    },
    {
     "data": {
      "image/png": "[encoded data removed]",
      "text/plain": [
       "<Figure size 432x432 with 1 Axes>"
      ]
     },
     "metadata": {},
     "output_type": "display_data"
    }
   ],
   "source": [
    "make_naive_steiner_plot(G, L = 10, points = points)"
   ]
  },
  {
   "cell_type": "code",
   "execution_count": 34,
   "metadata": {
    "scrolled": false
   },
   "outputs": [
    {
     "name": "stdout",
     "output_type": "stream",
     "text": [
      "number of original edges 144\n",
      "number of final edges 52\n",
      "The total number of edges of the Steiner trees is 21\n"
     ]
    },
    {
     "data": {
      "image/png": "[encoded data removed]",
      "text/plain": [
       "<Figure size 432x432 with 1 Axes>"
      ]
     },
     "metadata": {},
     "output_type": "display_data"
    }
   ],
   "source": [
    "make_improved_steiner_plot(G, 10, 0.8, points)"
   ]
  },
  {
   "cell_type": "markdown",
   "metadata": {},
   "source": [
    "## Example 2"
   ]
  },
  {
   "cell_type": "code",
   "execution_count": 34,
   "metadata": {},
   "outputs": [],
   "source": [
    "L = 40\n",
    "points2 = [(np.random.randint(L-2) + 1, np.random.randint(L-2) + 1) for i in range(250) ]\n",
    "G = nx.grid_2d_graph(range(1,int(L)), range(1,int(L))) "
   ]
  },
  {
   "cell_type": "code",
   "execution_count": 35,
   "metadata": {},
   "outputs": [
    {
     "name": "stdout",
     "output_type": "stream",
     "text": [
      "The number of edges of the Steiner tree is 472\n"
     ]
    },
    {
     "data": {
      "image/png": "[encoded data removed]",
      "text/plain": [
       "<Figure size 432x432 with 1 Axes>"
      ]
     },
     "metadata": {},
     "output_type": "display_data"
    }
   ],
   "source": [
    "make_naive_steiner_plot(G, L, points = points2)"
   ]
  },
  {
   "cell_type": "code",
   "execution_count": 37,
   "metadata": {},
   "outputs": [
    {
     "name": "stdout",
     "output_type": "stream",
     "text": [
      "number of original edges 2964\n",
      "number of final edges 1287\n",
      "The total number of edges of the Steiner trees is 424\n"
     ]
    },
    {
     "data": {
      "image/png": "[encoded data removed]",
      "text/plain": [
       "<Figure size 432x432 with 1 Axes>"
      ]
     },
     "metadata": {},
     "output_type": "display_data"
    }
   ],
   "source": [
    "make_improved_steiner_plot(G, L, 1.5, points2)"
   ]
  },
  {
   "cell_type": "code",
   "execution_count": null,
   "metadata": {},
   "outputs": [],
   "source": []
  }
 ],
 "metadata": {
  "kernelspec": {
   "display_name": "Python [conda env:networks]",
   "language": "python",
   "name": "conda-env-networks-py"
  },
  "language_info": {
   "codemirror_mode": {
    "name": "ipython",
    "version": 3
   },
   "file_extension": ".py",
   "mimetype": "text/x-python",
   "name": "python",
   "nbconvert_exporter": "python",
   "pygments_lexer": "ipython3",
   "version": "3.7.7"
  }
 },
 "nbformat": 4,
 "nbformat_minor": 2
}
