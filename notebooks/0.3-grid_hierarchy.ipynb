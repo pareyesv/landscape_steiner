{
 "cells": [
  {
   "cell_type": "code",
   "execution_count": 1,
   "metadata": {},
   "outputs": [],
   "source": [
    "%load_ext autoreload\n",
    "%autoreload 2"
   ]
  },
  {
   "cell_type": "code",
   "execution_count": 2,
   "metadata": {},
   "outputs": [],
   "source": [
    "import numpy as np\n",
    "import matplotlib.pyplot as plt\n",
    "#from scipy import interpolate\n",
    "import networkx as nx\n",
    "\n",
    "import pandas as pd\n",
    "from sklearn.cluster import KMeans\n",
    "\n",
    "from sknetwork.hierarchy import cut_straight, cut_balanced, Paris\n",
    "from sknetwork.visualization import svg_dendrogram, svg_graph\n",
    "\n",
    "from mpcstb import landscape as ld\n",
    "from networkx.algorithms import approximation as apx\n",
    "\n",
    "from IPython.display import SVG\n",
    "\n",
    "from typing import List, Tuple"
   ]
  },
  {
   "cell_type": "code",
   "execution_count": 3,
   "metadata": {},
   "outputs": [],
   "source": [
    "%matplotlib inline"
   ]
  },
  {
   "cell_type": "markdown",
   "metadata": {},
   "source": [
    "# utils"
   ]
  },
  {
   "cell_type": "markdown",
   "metadata": {},
   "source": [
    "## terminals/points"
   ]
  },
  {
   "cell_type": "code",
   "execution_count": 4,
   "metadata": {},
   "outputs": [],
   "source": [
    "Point = Tuple[int, int]"
   ]
  },
  {
   "cell_type": "code",
   "execution_count": 5,
   "metadata": {},
   "outputs": [],
   "source": [
    "def set_terminals_in_graph(G: nx.Graph, points: List[Point]) -> None:\n",
    "    set_points(G, points)"
   ]
  },
  {
   "cell_type": "code",
   "execution_count": 6,
   "metadata": {},
   "outputs": [],
   "source": [
    "def set_points(G: nx.Graph, points: List[Point]) -> None:\n",
    "    \"\"\"\n",
    "    Set terminals/points to a graph G\n",
    "    \n",
    "    If a node is terminal, its attribute `type` is set to `terminal`. \n",
    "    \"\"\"\n",
    "    G = G.copy()\n",
    "    terminal_nodes_list = {node: \"terminal\" if node in points else None for node in G.nodes()}\n",
    "    nx.set_node_attributes(G, terminal_nodes_list, \"type\")\n",
    "    \n",
    "    return G"
   ]
  },
  {
   "cell_type": "code",
   "execution_count": 7,
   "metadata": {},
   "outputs": [],
   "source": [
    "def get_points(G: nx.graph) -> List[Point]:\n",
    "    \"\"\"Get terminal nodes from graph ``G``.\"\"\"\n",
    "    points = [k for k,v in nx.get_node_attributes(G, \"type\").items() \n",
    "              if v == \"terminal\"]\n",
    "    return points"
   ]
  },
  {
   "cell_type": "code",
   "execution_count": 8,
   "metadata": {},
   "outputs": [],
   "source": [
    "def convert_points_array_to_list(points_array):\n",
    "    return [(e[0], e[1]) for e in points_array]"
   ]
  },
  {
   "cell_type": "code",
   "execution_count": 9,
   "metadata": {},
   "outputs": [],
   "source": [
    "def get_Lx_Ly(G: nx.Graph, L: int=None) -> [int, int]:\n",
    "    # compute L wrt node coords\n",
    "    if L is None:\n",
    "        Lx, Ly = np.array([node for node in G.nodes()]).max(axis=0) + [1, 1]\n",
    "    else:\n",
    "        Lx = Ly = L\n",
    "    \n",
    "    return Lx, Ly"
   ]
  },
  {
   "cell_type": "markdown",
   "metadata": {},
   "source": [
    "## graphs"
   ]
  },
  {
   "cell_type": "code",
   "execution_count": 10,
   "metadata": {},
   "outputs": [],
   "source": [
    "def get_pos(g: nx.Graph) -> dict:\n",
    "    return dict( (n, n) for n in g.nodes() )"
   ]
  },
  {
   "cell_type": "code",
   "execution_count": 11,
   "metadata": {},
   "outputs": [],
   "source": [
    "def create_graph(L: int, points: List[Point]=None) -> nx.Graph:\n",
    "    \"\"\"\n",
    "    Create a graph based on a squared 2D-grid of L*L nodes.\n",
    "    \n",
    "    Args:    \n",
    "        L (int): size of the box. The number of nodes in the graph will be L*L\n",
    "        points (List[Point]): list of points where important nodes are\n",
    "    \n",
    "    Returns:\n",
    "        nx.Graph: networkx graph\n",
    "    \n",
    "    \"\"\"    \n",
    "    # create square grid graph\n",
    "    G = nx.grid_2d_graph(range(1,int(L)), range(1,int(L)))\n",
    "    \n",
    "    if points is not None:\n",
    "        G = set_points(G, points)\n",
    "    \n",
    "    return G"
   ]
  },
  {
   "cell_type": "markdown",
   "metadata": {},
   "source": [
    "## algos"
   ]
  },
  {
   "cell_type": "code",
   "execution_count": 12,
   "metadata": {},
   "outputs": [],
   "source": [
    "def remove_edges_landscape_method(G: nx.Graph, Nx0: int, alpha: float, A0: int=5000):\n",
    "    \"\"\"\n",
    "    Remove edges of graph ``G`` by using a landscape function.\n",
    "    \n",
    "    Args:\n",
    "        G (nx.Graph): networkx graph\n",
    "        Nx0 (int): number of  grid points\n",
    "        alpha (float): threshold parameter to remove edges. Delete edges \n",
    "            where the landscape function > alpha \n",
    "        A0 (int): A0 parameter to be used by the landscape function.\n",
    "    \"\"\"\n",
    "    G = G.copy()\n",
    "    \n",
    "    points = get_points(G)\n",
    "    Lx, Ly = get_Lx_Ly(G)\n",
    "    if Lx != Ly:\n",
    "        raise NotImplementedError(\"Only implemented for squared grids\")\n",
    "    L = Lx\n",
    "    \n",
    "    #compute landscape function\n",
    "    fLand = ld.find_landscape(Nx0 = Nx0, L = L, A0 = 5000, points = points)\n",
    "\n",
    "    print( 'number of original edges {}'.format(len(G.edges))) \n",
    "    \n",
    "    # delete edges where the landscape function > alpha \n",
    "    for e in G.edges:\n",
    "        x, y = 0.5*(np.array(e[0]) + np.array(e[1]))\n",
    "        if fLand(x,y) > alpha:\n",
    "            G.remove_edge(e[0],e[1])\n",
    "            \n",
    "    # delete nodes with degree 1\n",
    "    ends = [ x[0] for x in G.degree() if x[1] <= 1]\n",
    "    G.remove_nodes_from(ends)\n",
    "            \n",
    "    print( 'number of final edges {}'.format(len(G.edges)))\n",
    "            \n",
    "    return G"
   ]
  },
  {
   "cell_type": "code",
   "execution_count": 13,
   "metadata": {},
   "outputs": [],
   "source": [
    "def get_naive_steiner(G: nx.Graph, points: List[Point]=None) -> nx.Graph:\n",
    "    \"\"\"\n",
    "    Returns a Steiner Tree for a graph ``G`` withe terminals ``points``\n",
    "    \n",
    "    Note: The algorithm is an approximation of the optimal weighted \n",
    "        Steiner Tree problem.\n",
    "    \"\"\"\n",
    "    if points is None:\n",
    "        points = get_points(G)\n",
    "    # approximate steiner tree\n",
    "    G_st = apx.steinertree.steiner_tree(G, points, weight='length') \n",
    "    print('The number of edges of the Steiner tree is '+ str(G_st.number_of_edges()))\n",
    "    return G_st"
   ]
  },
  {
   "cell_type": "code",
   "execution_count": 14,
   "metadata": {},
   "outputs": [],
   "source": [
    "def get_steiner_per_component(G: nx.Graph, points: List[Point]=None):\n",
    "\n",
    "    def _add_symmetric_edges(edges_set):\n",
    "        return edges_set.union(set([(e[1], e[0]) for e in edges_set]))\n",
    "    \n",
    "    G = G.copy()\n",
    "    if points is None:\n",
    "        points = get_points(G)\n",
    "    \n",
    "    # all connected components of G after cutting edges\n",
    "    graphs = [G.subgraph(c).copy() for c in nx.connected_components(G)]\n",
    "        \n",
    "    # compute steiner for smaller G\n",
    "    count_edges = 0\n",
    "    ld_st_edges_set = set()\n",
    "    for graph in graphs:\n",
    "        points_in_subgraph = [p for p in graph.nodes() if p in points]\n",
    "        G_st = apx.steinertree.steiner_tree(graph, points_in_subgraph, weight='length') \n",
    "        count_edges += G_st.number_of_edges()\n",
    "        ld_st_edges_set = ld_st_edges_set.union(set(list(G_st.edges())))\n",
    "            \n",
    "    print('The total number of edges of the Steiner trees is '+ str(count_edges))\n",
    "    \n",
    "    G.remove_edges_from(list(set(list(G.edges())) - _add_symmetric_edges(ld_st_edges_set)))\n",
    "    \n",
    "    return G"
   ]
  },
  {
   "cell_type": "markdown",
   "metadata": {},
   "source": [
    "## plots"
   ]
  },
  {
   "cell_type": "code",
   "execution_count": 15,
   "metadata": {},
   "outputs": [],
   "source": [
    "def plot_graph(G: nx.Graph, L: int=None, tree=None):\n",
    "    \"\"\"\n",
    "    Plot graph with terminal nodes.\n",
    "    \n",
    "    Terminals correspond the nodes with attribute `type` equals to `terminal`\n",
    "    \"\"\"\n",
    "    \n",
    "    Lx, Ly = get_Lx_Ly(G, L)\n",
    "    \n",
    "    # plotology \n",
    "    fig, ax = plt.subplots(figsize=(6,6));\n",
    "\n",
    "    node_pos = dict( (n, n) for n in G.nodes() )\n",
    "\n",
    "    terminals_list = [k for k,v in nx.get_node_attributes(G, \"type\").items() \n",
    "                      if v == \"terminal\"]\n",
    "    xpoints, ypoints = np.array(terminals_list).T\n",
    "    \n",
    "    plt.xlim(0, Lx)\n",
    "    plt.ylim(0, Ly)\n",
    "\n",
    "    nx.draw_networkx_edges(G, node_pos, ax=ax)\n",
    "\n",
    "    # add tree\n",
    "    if tree is not None:\n",
    "        nx.draw(tree, node_pos, ax=ax, node_size=0, edge_color='r', width=2.5)\n",
    "\n",
    "    # add scatter plot\n",
    "    plt.scatter(xpoints, ypoints)\n",
    "    \n",
    "    ax.tick_params(left=True, bottom=True, labelleft=True, labelbottom=True)\n",
    "    plt.axis('on')\n",
    "    plt.show()"
   ]
  },
  {
   "cell_type": "markdown",
   "metadata": {},
   "source": [
    "# Hierarchy"
   ]
  },
  {
   "cell_type": "markdown",
   "metadata": {},
   "source": [
    "Based on [the scikit network example](https://scikit-network.readthedocs.io/en/latest/tutorials/hierarchy/paris.html#Graphs)"
   ]
  },
  {
   "cell_type": "markdown",
   "metadata": {},
   "source": [
    "## points"
   ]
  },
  {
   "cell_type": "code",
   "execution_count": 16,
   "metadata": {},
   "outputs": [],
   "source": [
    "# points we want to cluster and join\n",
    "points = [(1, 1), (2, 2), (3, 4), (5, 1), (5, 4), (8, 2), (7, 8), (6,  6), (2,8), (4,3) ]\n",
    "#points = [[1, 1], [2, 2], [3, 4], [5, 1], [5, 4], [8, 2], [7, 8], [6,  6] , [2, 8], [4,3] ]"
   ]
  },
  {
   "cell_type": "code",
   "execution_count": 17,
   "metadata": {},
   "outputs": [],
   "source": [
    "G = create_graph(L = 10, points = points)"
   ]
  },
  {
   "cell_type": "code",
   "execution_count": 18,
   "metadata": {},
   "outputs": [
    {
     "name": "stdout",
     "output_type": "stream",
     "text": [
      "The number of edges of the Steiner tree is 26\n"
     ]
    }
   ],
   "source": [
    "G_st = get_naive_steiner(G)"
   ]
  },
  {
   "cell_type": "code",
   "execution_count": 19,
   "metadata": {},
   "outputs": [
    {
     "data": {
      "image/png": "[encoded data removed]",
      "text/plain": [
       "<Figure size 432x432 with 1 Axes>"
      ]
     },
     "metadata": {},
     "output_type": "display_data"
    }
   ],
   "source": [
    "plot_graph(G, tree=G_st)"
   ]
  },
  {
   "cell_type": "markdown",
   "metadata": {},
   "source": [
    "## Hierarchy"
   ]
  },
  {
   "cell_type": "code",
   "execution_count": 20,
   "metadata": {},
   "outputs": [
    {
     "data": {
      "text/plain": [
       "<81x81 sparse matrix of type '<class 'numpy.int64'>'\n",
       "\twith 288 stored elements in Compressed Sparse Row format>"
      ]
     },
     "execution_count": 20,
     "metadata": {},
     "output_type": "execute_result"
    }
   ],
   "source": [
    "nx.adjacency_matrix(G)"
   ]
  },
  {
   "cell_type": "code",
   "execution_count": 21,
   "metadata": {},
   "outputs": [],
   "source": [
    "adjacency = nx.adjacency_matrix(G)"
   ]
  },
  {
   "cell_type": "code",
   "execution_count": 22,
   "metadata": {},
   "outputs": [],
   "source": [
    "paris = Paris()"
   ]
  },
  {
   "cell_type": "code",
   "execution_count": 23,
   "metadata": {},
   "outputs": [],
   "source": [
    "dendrogram = paris.fit_transform(adjacency)"
   ]
  },
  {
   "cell_type": "markdown",
   "metadata": {},
   "source": [
    "## main dendrogram"
   ]
  },
  {
   "cell_type": "code",
   "execution_count": 24,
   "metadata": {},
   "outputs": [
    {
     "data": {
      "image/svg+xml": [
       "<svg xmlns=\"http://www.w3.org/2000/svg\" width=\"420\" height=\"320\"><path stroke-width=\"2\" stroke=\"blue\" d=\"M 98.88888888888889 310 98.88888888888889 309.0978348068893\"/><path stroke-width=\"2\" stroke=\"blue\" d=\"M 103.82716049382715 310 103.82716049382715 309.0978348068893\"/><path stroke-width=\"2\" stroke=\"blue\" d=\"M 98.88888888888889 309.0978348068893 103.82716049382715 309.0978348068893\"/><path stroke-width=\"2\" stroke=\"red\" d=\"M 247.037037037037 310 247.037037037037 309.0978348068893\"/><path stroke-width=\"2\" stroke=\"red\" d=\"M 251.9753086419753 310 251.9753086419753 309.0978348068893\"/><path stroke-width=\"2\" stroke=\"red\" d=\"M 247.037037037037 309.0978348068893 251.9753086419753 309.0978348068893\"/><path stroke-width=\"2\" stroke=\"blue\" d=\"M 148.2716049382716 310 148.2716049382716 309.0978348068893\"/><path stroke-width=\"2\" stroke=\"blue\" d=\"M 153.20987654320987 310 153.20987654320987 309.0978348068893\"/><path stroke-width=\"2\" stroke=\"blue\" d=\"M 148.2716049382716 309.0978348068893 153.20987654320987 309.0978348068893\"/><path stroke-width=\"2\" stroke=\"red\" d=\"M 355.679012345679 310 355.679012345679 309.0978348068893\"/><path stroke-width=\"2\" stroke=\"red\" d=\"M 360.61728395061726 310 360.61728395061726 309.0978348068893\"/><path stroke-width=\"2\" stroke=\"red\" d=\"M 355.679012345679 309.0978348068893 360.61728395061726 309.0978348068893\"/><path stroke-width=\"2\" stroke=\"blue\" d=\"M 89.01234567901234 310 89.01234567901234 308.64675221033394\"/><path stroke-width=\"2\" stroke=\"blue\" d=\"M 93.9506172839506 310 93.9506172839506 308.64675221033394\"/><path stroke-width=\"2\" stroke=\"blue\" d=\"M 89.01234567901234 308.64675221033394 93.9506172839506 308.64675221033394\"/><path stroke-width=\"2\" stroke=\"blue\" d=\"M 19.876543209876544 310 19.876543209876544 308.64675221033394\"/><path stroke-width=\"2\" stroke=\"blue\" d=\"M 24.814814814814813 310 24.814814814814813 308.64675221033394\"/><path stroke-width=\"2\" stroke=\"blue\" d=\"M 19.876543209876544 308.64675221033394 24.814814814814813 308.64675221033394\"/><path stroke-width=\"2\" stroke=\"blue\" d=\"M 138.39506172839506 310 138.39506172839506 308.64675221033394\"/><path stroke-width=\"2\" stroke=\"blue\" d=\"M 143.33333333333331 310 143.33333333333331 308.64675221033394\"/><path stroke-width=\"2\" stroke=\"blue\" d=\"M 138.39506172839506 308.64675221033394 143.33333333333331 308.64675221033394\"/><path stroke-width=\"2\" stroke=\"red\" d=\"M 276.66666666666663 310 276.66666666666663 308.64675221033394\"/><path stroke-width=\"2\" stroke=\"red\" d=\"M 281.6049382716049 310 281.6049382716049 308.64675221033394\"/><path stroke-width=\"2\" stroke=\"red\" d=\"M 276.66666666666663 308.64675221033394 281.6049382716049 308.64675221033394\"/><path stroke-width=\"2\" stroke=\"blue\" d=\"M 128.5185185185185 310 128.5185185185185 308.64675221033394\"/><path stroke-width=\"2\" stroke=\"blue\" d=\"M 133.45679012345678 310 133.45679012345678 308.64675221033394\"/><path stroke-width=\"2\" stroke=\"blue\" d=\"M 128.5185185185185 308.64675221033394 133.45679012345678 308.64675221033394\"/><path stroke-width=\"2\" stroke=\"red\" d=\"M 296.41975308641975 310 296.41975308641975 308.64675221033394\"/><path stroke-width=\"2\" stroke=\"red\" d=\"M 301.358024691358 310 301.358024691358 308.64675221033394\"/><path stroke-width=\"2\" stroke=\"red\" d=\"M 296.41975308641975 308.64675221033394 301.358024691358 308.64675221033394\"/><path stroke-width=\"2\" stroke=\"blue\" d=\"M 158.14814814814815 310 158.14814814814815 308.64675221033394\"/><path stroke-width=\"2\" stroke=\"blue\" d=\"M 163.0864197530864 310 163.0864197530864 308.64675221033394\"/><path stroke-width=\"2\" stroke=\"blue\" d=\"M 158.14814814814815 308.64675221033394 163.0864197530864 308.64675221033394\"/><path stroke-width=\"2\" stroke=\"red\" d=\"M 375.4320987654321 310 375.4320987654321 308.64675221033394\"/><path stroke-width=\"2\" stroke=\"red\" d=\"M 380.3703703703703 310 380.3703703703703 308.64675221033394\"/><path stroke-width=\"2\" stroke=\"red\" d=\"M 375.4320987654321 308.64675221033394 380.3703703703703 308.64675221033394\"/><path stroke-width=\"2\" stroke=\"blue\" d=\"M 177.9012345679012 310 177.9012345679012 308.64675221033394\"/><path stroke-width=\"2\" stroke=\"blue\" d=\"M 182.8395061728395 310 182.8395061728395 308.64675221033394\"/><path stroke-width=\"2\" stroke=\"blue\" d=\"M 177.9012345679012 308.64675221033394 182.8395061728395 308.64675221033394\"/><path stroke-width=\"2\" stroke=\"blue\" d=\"M 217.4074074074074 310 217.4074074074074 308.64675221033394\"/><path stroke-width=\"2\" stroke=\"blue\" d=\"M 222.34567901234567 310 222.34567901234567 308.64675221033394\"/><path stroke-width=\"2\" stroke=\"blue\" d=\"M 217.4074074074074 308.64675221033394 222.34567901234567 308.64675221033394\"/><path stroke-width=\"2\" stroke=\"red\" d=\"M 385.3086419753086 310 385.3086419753086 308.64675221033394\"/><path stroke-width=\"2\" stroke=\"red\" d=\"M 390.2469135802469 310 390.2469135802469 308.64675221033394\"/><path stroke-width=\"2\" stroke=\"red\" d=\"M 385.3086419753086 308.64675221033394 390.2469135802469 308.64675221033394\"/><path stroke-width=\"2\" stroke=\"red\" d=\"M 256.91358024691357 310 256.91358024691357 308.1956696137786\"/><path stroke-width=\"2\" stroke=\"red\" d=\"M 261.85185185185185 310 261.85185185185185 308.1956696137786\"/><path stroke-width=\"2\" stroke=\"red\" d=\"M 256.91358024691357 308.1956696137786 261.85185185185185 308.1956696137786\"/><path stroke-width=\"2\" stroke=\"red\" d=\"M 345.8024691358024 310 345.8024691358024 308.1956696137786\"/><path stroke-width=\"2\" stroke=\"red\" d=\"M 350.7407407407407 310 350.7407407407407 308.1956696137786\"/><path stroke-width=\"2\" stroke=\"red\" d=\"M 345.8024691358024 308.1956696137786 350.7407407407407 308.1956696137786\"/><path stroke-width=\"2\" stroke=\"blue\" d=\"M 79.1358024691358 310 79.1358024691358 307.5942261517048\"/><path stroke-width=\"2\" stroke=\"blue\" d=\"M 84.07407407407408 310 84.07407407407408 307.5942261517048\"/><path stroke-width=\"2\" stroke=\"blue\" d=\"M 79.1358024691358 307.5942261517048 84.07407407407408 307.5942261517048\"/><path stroke-width=\"2\" stroke=\"blue\" d=\"M 39.629629629629626 310 39.629629629629626 307.5942261517048\"/><path stroke-width=\"2\" stroke=\"blue\" d=\"M 44.5679012345679 310 44.5679012345679 307.5942261517048\"/><path stroke-width=\"2\" stroke=\"blue\" d=\"M 39.629629629629626 307.5942261517048 44.5679012345679 307.5942261517048\"/><path stroke-width=\"2\" stroke=\"blue\" d=\"M 69.25925925925925 310 69.25925925925925 307.5942261517048\"/><path stroke-width=\"2\" stroke=\"blue\" d=\"M 74.19753086419753 310 74.19753086419753 307.5942261517048\"/><path stroke-width=\"2\" stroke=\"blue\" d=\"M 69.25925925925925 307.5942261517048 74.19753086419753 307.5942261517048\"/><path stroke-width=\"2\" stroke=\"blue\" d=\"M 29.753086419753085 310 29.753086419753085 307.5942261517048\"/><path stroke-width=\"2\" stroke=\"blue\" d=\"M 34.691358024691354 310 34.691358024691354 307.5942261517048\"/><path stroke-width=\"2\" stroke=\"blue\" d=\"M 29.753086419753085 307.5942261517048 34.691358024691354 307.5942261517048\"/><path stroke-width=\"2\" stroke=\"blue\" d=\"M 10.0 310 10.0 307.5942261517048\"/><path stroke-width=\"2\" stroke=\"blue\" d=\"M 14.938271604938272 310 14.938271604938272 307.5942261517048\"/><path stroke-width=\"2\" stroke=\"blue\" d=\"M 10.0 307.5942261517048 14.938271604938272 307.5942261517048\"/><path stroke-width=\"2\" stroke=\"red\" d=\"M 266.7901234567901 310 266.7901234567901 307.5942261517048\"/><path stroke-width=\"2\" stroke=\"red\" d=\"M 271.7283950617284 310 271.7283950617284 307.5942261517048\"/><path stroke-width=\"2\" stroke=\"red\" d=\"M 266.7901234567901 307.5942261517048 271.7283950617284 307.5942261517048\"/><path stroke-width=\"2\" stroke=\"blue\" d=\"M 118.64197530864197 310 118.64197530864197 307.5942261517048\"/><path stroke-width=\"2\" stroke=\"blue\" d=\"M 123.58024691358024 310 123.58024691358024 307.5942261517048\"/><path stroke-width=\"2\" stroke=\"blue\" d=\"M 118.64197530864197 307.5942261517048 123.58024691358024 307.5942261517048\"/><path stroke-width=\"2\" stroke=\"blue\" d=\"M 59.382716049382715 310 59.382716049382715 307.5942261517048\"/><path stroke-width=\"2\" stroke=\"blue\" d=\"M 64.32098765432099 310 64.32098765432099 307.5942261517048\"/><path stroke-width=\"2\" stroke=\"blue\" d=\"M 59.382716049382715 307.5942261517048 64.32098765432099 307.5942261517048\"/><path stroke-width=\"2\" stroke=\"red\" d=\"M 335.9259259259259 310 335.9259259259259 307.5942261517048\"/><path stroke-width=\"2\" stroke=\"red\" d=\"M 340.8641975308642 310 340.8641975308642 307.5942261517048\"/><path stroke-width=\"2\" stroke=\"red\" d=\"M 335.9259259259259 307.5942261517048 340.8641975308642 307.5942261517048\"/><path stroke-width=\"2\" stroke=\"blue\" d=\"M 108.76543209876543 310 108.76543209876543 307.5942261517048\"/><path stroke-width=\"2\" stroke=\"blue\" d=\"M 113.7037037037037 310 113.7037037037037 307.5942261517048\"/><path stroke-width=\"2\" stroke=\"blue\" d=\"M 108.76543209876543 307.5942261517048 113.7037037037037 307.5942261517048\"/><path stroke-width=\"2\" stroke=\"blue\" d=\"M 49.50617283950617 310 49.50617283950617 307.5942261517048\"/><path stroke-width=\"2\" stroke=\"blue\" d=\"M 54.44444444444444 310 54.44444444444444 307.5942261517048\"/><path stroke-width=\"2\" stroke=\"blue\" d=\"M 49.50617283950617 307.5942261517048 54.44444444444444 307.5942261517048\"/><path stroke-width=\"2\" stroke=\"red\" d=\"M 326.04938271604937 310 326.04938271604937 307.5942261517048\"/><path stroke-width=\"2\" stroke=\"red\" d=\"M 330.98765432098764 310 330.98765432098764 307.5942261517048\"/><path stroke-width=\"2\" stroke=\"red\" d=\"M 326.04938271604937 307.5942261517048 330.98765432098764 307.5942261517048\"/><path stroke-width=\"2\" stroke=\"red\" d=\"M 286.5432098765432 310 286.5432098765432 307.5942261517048\"/><path stroke-width=\"2\" stroke=\"red\" d=\"M 291.48148148148147 310 291.48148148148147 307.5942261517048\"/><path stroke-width=\"2\" stroke=\"red\" d=\"M 286.5432098765432 307.5942261517048 291.48148148148147 307.5942261517048\"/><path stroke-width=\"2\" stroke=\"blue\" d=\"M 197.6543209876543 310 197.6543209876543 307.5942261517048\"/><path stroke-width=\"2\" stroke=\"blue\" d=\"M 202.59259259259258 310 202.59259259259258 307.5942261517048\"/><path stroke-width=\"2\" stroke=\"blue\" d=\"M 197.6543209876543 307.5942261517048 202.59259259259258 307.5942261517048\"/><path stroke-width=\"2\" stroke=\"blue\" d=\"M 237.16049382716048 310 237.16049382716048 307.5942261517048\"/><path stroke-width=\"2\" stroke=\"blue\" d=\"M 242.09876543209876 310 242.09876543209876 307.5942261517048\"/><path stroke-width=\"2\" stroke=\"blue\" d=\"M 237.16049382716048 307.5942261517048 242.09876543209876 307.5942261517048\"/><path stroke-width=\"2\" stroke=\"red\" d=\"M 316.1728395061728 310 316.1728395061728 307.5942261517048\"/><path stroke-width=\"2\" stroke=\"red\" d=\"M 321.1111111111111 310 321.1111111111111 307.5942261517048\"/><path stroke-width=\"2\" stroke=\"red\" d=\"M 316.1728395061728 307.5942261517048 321.1111111111111 307.5942261517048\"/><path stroke-width=\"2\" stroke=\"blue\" d=\"M 187.77777777777777 310 187.77777777777777 307.5942261517048\"/><path stroke-width=\"2\" stroke=\"blue\" d=\"M 192.71604938271605 310 192.71604938271605 307.5942261517048\"/><path stroke-width=\"2\" stroke=\"blue\" d=\"M 187.77777777777777 307.5942261517048 192.71604938271605 307.5942261517048\"/><path stroke-width=\"2\" stroke=\"blue\" d=\"M 227.28395061728395 310 227.28395061728395 307.5942261517048\"/><path stroke-width=\"2\" stroke=\"blue\" d=\"M 232.2222222222222 310 232.2222222222222 307.5942261517048\"/><path stroke-width=\"2\" stroke=\"blue\" d=\"M 227.28395061728395 307.5942261517048 232.2222222222222 307.5942261517048\"/><path stroke-width=\"2\" stroke=\"red\" d=\"M 306.2962962962963 310 306.2962962962963 307.5942261517048\"/><path stroke-width=\"2\" stroke=\"red\" d=\"M 311.2345679012345 310 311.2345679012345 307.5942261517048\"/><path stroke-width=\"2\" stroke=\"red\" d=\"M 306.2962962962963 307.5942261517048 311.2345679012345 307.5942261517048\"/><path stroke-width=\"2\" stroke=\"red\" d=\"M 365.55555555555554 310 365.55555555555554 307.5942261517048\"/><path stroke-width=\"2\" stroke=\"red\" d=\"M 370.4938271604938 310 370.4938271604938 307.5942261517048\"/><path stroke-width=\"2\" stroke=\"red\" d=\"M 365.55555555555554 307.5942261517048 370.4938271604938 307.5942261517048\"/><path stroke-width=\"2\" stroke=\"blue\" d=\"M 168.02469135802468 310 168.02469135802468 307.5942261517048\"/><path stroke-width=\"2\" stroke=\"blue\" d=\"M 172.96296296296296 310 172.96296296296296 307.5942261517048\"/><path stroke-width=\"2\" stroke=\"blue\" d=\"M 168.02469135802468 307.5942261517048 172.96296296296296 307.5942261517048\"/><path stroke-width=\"2\" stroke=\"blue\" d=\"M 207.53086419753086 310 207.53086419753086 307.5942261517048\"/><path stroke-width=\"2\" stroke=\"blue\" d=\"M 212.4691358024691 310 212.4691358024691 307.5942261517048\"/><path stroke-width=\"2\" stroke=\"blue\" d=\"M 207.53086419753086 307.5942261517048 212.4691358024691 307.5942261517048\"/><path stroke-width=\"2\" stroke=\"red\" d=\"M 400.12345679012344 310 400.12345679012344 307.5942261517048\"/><path stroke-width=\"2\" stroke=\"red\" d=\"M 405.0617283950617 310 405.0617283950617 307.5942261517048\"/><path stroke-width=\"2\" stroke=\"red\" d=\"M 400.12345679012344 307.5942261517048 405.0617283950617 307.5942261517048\"/><path stroke-width=\"2\" stroke=\"red\" d=\"M 348.2716049382716 308.1956696137786 348.2716049382716 307.3686846965885\"/><path stroke-width=\"2\" stroke=\"red\" d=\"M 358.14814814814815 309.0978348068893 358.14814814814815 307.3686846965885\"/><path stroke-width=\"2\" stroke=\"red\" d=\"M 348.2716049382716 307.3686846965885 358.14814814814815 307.3686846965885\"/><path stroke-width=\"2\" stroke=\"red\" d=\"M 269.25925925925924 307.5942261517048 269.25925925925924 306.3913392275572\"/><path stroke-width=\"2\" stroke=\"red\" d=\"M 279.1358024691358 308.64675221033394 279.1358024691358 306.3913392275572\"/><path stroke-width=\"2\" stroke=\"red\" d=\"M 269.25925925925924 306.3913392275572 279.1358024691358 306.3913392275572\"/><path stroke-width=\"2\" stroke=\"red\" d=\"M 289.01234567901236 307.5942261517048 289.01234567901236 306.3913392275572\"/><path stroke-width=\"2\" stroke=\"red\" d=\"M 298.8888888888889 308.64675221033394 298.8888888888889 306.3913392275572\"/><path stroke-width=\"2\" stroke=\"red\" d=\"M 289.01234567901236 306.3913392275572 298.8888888888889 306.3913392275572\"/><path stroke-width=\"2\" stroke=\"red\" d=\"M 368.0246913580247 307.5942261517048 368.0246913580247 306.3913392275572\"/><path stroke-width=\"2\" stroke=\"red\" d=\"M 377.9012345679012 308.64675221033394 377.9012345679012 306.3913392275572\"/><path stroke-width=\"2\" stroke=\"red\" d=\"M 368.0246913580247 306.3913392275572 377.9012345679012 306.3913392275572\"/><path stroke-width=\"2\" stroke=\"red\" d=\"M 387.7777777777777 308.64675221033394 387.7777777777777 306.3913392275572\"/><path stroke-width=\"2\" stroke=\"red\" d=\"M 395.18518518518516 310 395.18518518518516 306.3913392275572\"/><path stroke-width=\"2\" stroke=\"red\" d=\"M 387.7777777777777 306.3913392275572 395.18518518518516 306.3913392275572\"/><path stroke-width=\"2\" stroke=\"blue\" d=\"M 170.49382716049382 307.5942261517048 170.49382716049382 306.3913392275572\"/><path stroke-width=\"2\" stroke=\"blue\" d=\"M 180.37037037037035 308.64675221033394 180.37037037037035 306.3913392275572\"/><path stroke-width=\"2\" stroke=\"blue\" d=\"M 170.49382716049382 306.3913392275572 180.37037037037035 306.3913392275572\"/><path stroke-width=\"2\" stroke=\"blue\" d=\"M 210.0 307.5942261517048 210.0 306.3913392275572\"/><path stroke-width=\"2\" stroke=\"blue\" d=\"M 219.87654320987653 308.64675221033394 219.87654320987653 306.3913392275572\"/><path stroke-width=\"2\" stroke=\"blue\" d=\"M 210.0 306.3913392275572 219.87654320987653 306.3913392275572\"/><path stroke-width=\"2\" stroke=\"blue\" d=\"M 91.48148148148147 308.64675221033394 91.48148148148147 305.4891742136906\"/><path stroke-width=\"2\" stroke=\"blue\" d=\"M 101.35802469135803 309.0978348068893 101.35802469135803 305.4891742136906\"/><path stroke-width=\"2\" stroke=\"blue\" d=\"M 91.48148148148147 305.4891742136906 101.35802469135803 305.4891742136906\"/><path stroke-width=\"2\" stroke=\"blue\" d=\"M 150.74074074074073 309.0978348068893 150.74074074074073 305.4891742136906\"/><path stroke-width=\"2\" stroke=\"blue\" d=\"M 160.61728395061726 308.64675221033394 160.61728395061726 305.4891742136906\"/><path stroke-width=\"2\" stroke=\"blue\" d=\"M 150.74074074074073 305.4891742136906 160.61728395061726 305.4891742136906\"/><path stroke-width=\"2\" stroke=\"blue\" d=\"M 71.72839506172839 307.5942261517048 71.72839506172839 305.1884523034096\"/><path stroke-width=\"2\" stroke=\"blue\" d=\"M 81.60493827160494 307.5942261517048 81.60493827160494 305.1884523034096\"/><path stroke-width=\"2\" stroke=\"blue\" d=\"M 71.72839506172839 305.1884523034096 81.60493827160494 305.1884523034096\"/><path stroke-width=\"2\" stroke=\"blue\" d=\"M 32.22222222222222 307.5942261517048 32.22222222222222 305.1884523034096\"/><path stroke-width=\"2\" stroke=\"blue\" d=\"M 42.09876543209876 307.5942261517048 42.09876543209876 305.1884523034096\"/><path stroke-width=\"2\" stroke=\"blue\" d=\"M 32.22222222222222 305.1884523034096 42.09876543209876 305.1884523034096\"/><path stroke-width=\"2\" stroke=\"blue\" d=\"M 111.23456790123456 307.5942261517048 111.23456790123456 305.1884523034096\"/><path stroke-width=\"2\" stroke=\"blue\" d=\"M 121.11111111111111 307.5942261517048 121.11111111111111 305.1884523034096\"/><path stroke-width=\"2\" stroke=\"blue\" d=\"M 111.23456790123456 305.1884523034096 121.11111111111111 305.1884523034096\"/><path stroke-width=\"2\" stroke=\"blue\" d=\"M 51.9753086419753 307.5942261517048 51.9753086419753 305.1884523034096\"/><path stroke-width=\"2\" stroke=\"blue\" d=\"M 61.85185185185185 307.5942261517048 61.85185185185185 305.1884523034096\"/><path stroke-width=\"2\" stroke=\"blue\" d=\"M 51.9753086419753 305.1884523034096 61.85185185185185 305.1884523034096\"/><path stroke-width=\"2\" stroke=\"blue\" d=\"M 190.2469135802469 307.5942261517048 190.2469135802469 305.1884523034096\"/><path stroke-width=\"2\" stroke=\"blue\" d=\"M 200.12345679012344 307.5942261517048 200.12345679012344 305.1884523034096\"/><path stroke-width=\"2\" stroke=\"blue\" d=\"M 190.2469135802469 305.1884523034096 200.12345679012344 305.1884523034096\"/><path stroke-width=\"2\" stroke=\"blue\" d=\"M 229.75308641975306 307.5942261517048 229.75308641975306 305.1884523034096\"/><path stroke-width=\"2\" stroke=\"blue\" d=\"M 239.62962962962962 307.5942261517048 239.62962962962962 305.1884523034096\"/><path stroke-width=\"2\" stroke=\"blue\" d=\"M 229.75308641975306 305.1884523034096 239.62962962962962 305.1884523034096\"/><path stroke-width=\"2\" stroke=\"red\" d=\"M 249.50617283950615 309.0978348068893 249.50617283950615 304.737369393177\"/><path stroke-width=\"2\" stroke=\"red\" d=\"M 259.3827160493827 308.1956696137786 259.3827160493827 304.737369393177\"/><path stroke-width=\"2\" stroke=\"red\" d=\"M 249.50617283950615 304.737369393177 259.3827160493827 304.737369393177\"/><path stroke-width=\"2\" stroke=\"blue\" d=\"M 130.98765432098764 308.64675221033394 130.98765432098764 304.5870088413358\"/><path stroke-width=\"2\" stroke=\"blue\" d=\"M 140.8641975308642 308.64675221033394 140.8641975308642 304.5870088413358\"/><path stroke-width=\"2\" stroke=\"blue\" d=\"M 130.98765432098764 304.5870088413358 140.8641975308642 304.5870088413358\"/><path stroke-width=\"2\" stroke=\"red\" d=\"M 391.4814814814814 306.3913392275572 391.4814814814814 303.98556521993385\"/><path stroke-width=\"2\" stroke=\"red\" d=\"M 402.5925925925926 307.5942261517048 402.5925925925926 303.98556521993385\"/><path stroke-width=\"2\" stroke=\"red\" d=\"M 391.4814814814814 303.98556521993385 402.5925925925926 303.98556521993385\"/><path stroke-width=\"2\" stroke=\"blue\" d=\"M 12.469135802469136 307.5942261517048 12.469135802469136 302.78267845511436\"/><path stroke-width=\"2\" stroke=\"blue\" d=\"M 22.345679012345677 308.64675221033394 22.345679012345677 302.78267845511436\"/><path stroke-width=\"2\" stroke=\"blue\" d=\"M 12.469135802469136 302.78267845511436 22.345679012345677 302.78267845511436\"/><path stroke-width=\"2\" stroke=\"red\" d=\"M 254.4444444444444 304.737369393177 254.4444444444444 301.5797914194371\"/><path stroke-width=\"2\" stroke=\"red\" d=\"M 274.1975308641975 306.3913392275572 274.1975308641975 301.5797914194371\"/><path stroke-width=\"2\" stroke=\"red\" d=\"M 254.4444444444444 301.5797914194371 274.1975308641975 301.5797914194371\"/><path stroke-width=\"2\" stroke=\"red\" d=\"M 328.5185185185185 307.5942261517048 328.5185185185185 300.37690460681915\"/><path stroke-width=\"2\" stroke=\"red\" d=\"M 338.39506172839504 307.5942261517048 338.39506172839504 300.37690460681915\"/><path stroke-width=\"2\" stroke=\"red\" d=\"M 328.5185185185185 300.37690460681915 338.39506172839504 300.37690460681915\"/><path stroke-width=\"2\" stroke=\"red\" d=\"M 308.7654320987654 307.5942261517048 308.7654320987654 300.37690460681915\"/><path stroke-width=\"2\" stroke=\"red\" d=\"M 318.6419753086419 307.5942261517048 318.6419753086419 300.37690460681915\"/><path stroke-width=\"2\" stroke=\"red\" d=\"M 308.7654320987654 300.37690460681915 318.6419753086419 300.37690460681915\"/><path stroke-width=\"2\" stroke=\"blue\" d=\"M 17.407407407407405 302.78267845511436 17.407407407407405 298.7730555728973\"/><path stroke-width=\"2\" stroke=\"blue\" d=\"M 37.160493827160494 305.1884523034096 37.160493827160494 298.7730555728973\"/><path stroke-width=\"2\" stroke=\"blue\" d=\"M 17.407407407407405 298.7730555728973 37.160493827160494 298.7730555728973\"/><path stroke-width=\"2\" stroke=\"blue\" d=\"M 155.67901234567898 305.4891742136906 155.67901234567898 298.42221306754186\"/><path stroke-width=\"2\" stroke=\"blue\" d=\"M 175.4320987654321 306.3913392275572 175.4320987654321 298.42221306754186\"/><path stroke-width=\"2\" stroke=\"blue\" d=\"M 155.67901234567898 298.42221306754186 175.4320987654321 298.42221306754186\"/><path stroke-width=\"2\" stroke=\"red\" d=\"M 353.2098765432099 307.3686846965885 353.2098765432099 297.369687421921\"/><path stroke-width=\"2\" stroke=\"red\" d=\"M 372.96296296296293 306.3913392275572 372.96296296296293 297.369687421921\"/><path stroke-width=\"2\" stroke=\"red\" d=\"M 353.2098765432099 297.369687421921 372.96296296296293 297.369687421921\"/><path stroke-width=\"2\" stroke=\"red\" d=\"M 313.7037037037037 300.37690460681915 313.7037037037037 297.16920614242554\"/><path stroke-width=\"2\" stroke=\"red\" d=\"M 333.45679012345676 300.37690460681915 333.45679012345676 297.16920614242554\"/><path stroke-width=\"2\" stroke=\"red\" d=\"M 313.7037037037037 297.16920614242554 333.45679012345676 297.16920614242554\"/><path stroke-width=\"2\" stroke=\"blue\" d=\"M 76.66666666666666 305.1884523034096 76.66666666666666 296.76824471068085\"/><path stroke-width=\"2\" stroke=\"blue\" d=\"M 96.41975308641975 305.4891742136906 96.41975308641975 296.76824471068085\"/><path stroke-width=\"2\" stroke=\"blue\" d=\"M 76.66666666666666 296.76824471068085 96.41975308641975 296.76824471068085\"/><path stroke-width=\"2\" stroke=\"blue\" d=\"M 116.17283950617283 305.1884523034096 116.17283950617283 295.56535691022873\"/><path stroke-width=\"2\" stroke=\"blue\" d=\"M 135.92592592592592 304.5870088413358 135.92592592592592 295.56535691022873\"/><path stroke-width=\"2\" stroke=\"blue\" d=\"M 116.17283950617283 295.56535691022873 135.92592592592592 295.56535691022873\"/><path stroke-width=\"2\" stroke=\"blue\" d=\"M 165.55555555555554 298.42221306754186 165.55555555555554 294.9639140456353\"/><path stroke-width=\"2\" stroke=\"blue\" d=\"M 195.18518518518516 305.1884523034096 195.18518518518516 294.9639140456353\"/><path stroke-width=\"2\" stroke=\"blue\" d=\"M 165.55555555555554 294.9639140456353 195.18518518518516 294.9639140456353\"/><path stroke-width=\"2\" stroke=\"blue\" d=\"M 214.93827160493828 306.3913392275572 214.93827160493828 293.15958283887414\"/><path stroke-width=\"2\" stroke=\"blue\" d=\"M 234.69135802469134 305.1884523034096 234.69135802469134 293.15958283887414\"/><path stroke-width=\"2\" stroke=\"blue\" d=\"M 214.93827160493828 293.15958283887414 234.69135802469134 293.15958283887414\"/><path stroke-width=\"2\" stroke=\"blue\" d=\"M 86.5432098765432 296.76824471068085 86.5432098765432 287.26543720136453\"/><path stroke-width=\"2\" stroke=\"blue\" d=\"M 126.04938271604938 295.56535691022873 126.04938271604938 287.26543720136453\"/><path stroke-width=\"2\" stroke=\"blue\" d=\"M 86.5432098765432 287.26543720136453 126.04938271604938 287.26543720136453\"/><path stroke-width=\"2\" stroke=\"red\" d=\"M 363.0864197530864 297.369687421921 363.0864197530864 286.54370509563034\"/><path stroke-width=\"2\" stroke=\"red\" d=\"M 397.037037037037 303.98556521993385 397.037037037037 286.54370509563034\"/><path stroke-width=\"2\" stroke=\"red\" d=\"M 363.0864197530864 286.54370509563034 397.037037037037 286.54370509563034\"/><path stroke-width=\"2\" stroke=\"red\" d=\"M 264.32098765432096 301.5797914194371 264.32098765432096 282.6343208445204\"/><path stroke-width=\"2\" stroke=\"red\" d=\"M 293.95061728395063 306.3913392275572 293.95061728395063 282.6343208445204\"/><path stroke-width=\"2\" stroke=\"red\" d=\"M 264.32098765432096 282.6343208445204 293.95061728395063 282.6343208445204\"/><path stroke-width=\"2\" stroke=\"blue\" d=\"M 27.28395061728395 298.7730555728973 27.28395061728395 273.9133937095247\"/><path stroke-width=\"2\" stroke=\"blue\" d=\"M 56.913580246913575 305.1884523034096 56.913580246913575 273.9133937095247\"/><path stroke-width=\"2\" stroke=\"blue\" d=\"M 27.28395061728395 273.9133937095247 56.913580246913575 273.9133937095247\"/><path stroke-width=\"2\" stroke=\"blue\" d=\"M 180.37037037037035 294.9639140456353 180.37037037037035 263.764033896137\"/><path stroke-width=\"2\" stroke=\"blue\" d=\"M 224.8148148148148 293.15958283887414 224.8148148148148 263.764033896137\"/><path stroke-width=\"2\" stroke=\"blue\" d=\"M 180.37037037037035 263.764033896137 224.8148148148148 263.764033896137\"/><path stroke-width=\"2\" stroke=\"red\" d=\"M 279.1358024691358 282.6343208445204 279.1358024691358 261.8845217594709\"/><path stroke-width=\"2\" stroke=\"red\" d=\"M 323.58024691358025 297.16920614242554 323.58024691358025 261.8845217594709\"/><path stroke-width=\"2\" stroke=\"red\" d=\"M 279.1358024691358 261.8845217594709 323.58024691358025 261.8845217594709\"/><path stroke-width=\"2\" stroke=\"blue\" d=\"M 42.09876543209876 273.9133937095247 42.09876543209876 246.59783591887705\"/><path stroke-width=\"2\" stroke=\"blue\" d=\"M 106.29629629629629 287.26543720136453 106.29629629629629 246.59783591887705\"/><path stroke-width=\"2\" stroke=\"blue\" d=\"M 42.09876543209876 246.59783591887705 106.29629629629629 246.59783591887705\"/><path stroke-width=\"2\" stroke=\"red\" d=\"M 301.358024691358 261.8845217594709 301.358024691358 230.6094653722803\"/><path stroke-width=\"2\" stroke=\"red\" d=\"M 380.06172839506166 286.54370509563034 380.06172839506166 230.6094653722803\"/><path stroke-width=\"2\" stroke=\"red\" d=\"M 301.358024691358 230.6094653722803 380.06172839506166 230.6094653722803\"/><path stroke-width=\"2\" stroke=\"blue\" d=\"M 74.19753086419752 246.59783591887705 74.19753086419752 94.35245723302344\"/><path stroke-width=\"2\" stroke=\"blue\" d=\"M 202.59259259259258 263.764033896137 202.59259259259258 94.35245723302344\"/><path stroke-width=\"2\" stroke=\"blue\" d=\"M 74.19753086419752 94.35245723302344 202.59259259259258 94.35245723302344\"/><path stroke-width=\"2\" stroke=\"black\" d=\"M 138.39506172839504 94.35245723302344 138.39506172839504 10.0\"/><path stroke-width=\"2\" stroke=\"black\" d=\"M 340.7098765432098 230.6094653722803 340.7098765432098 10.0\"/><path stroke-width=\"2\" stroke=\"black\" d=\"M 138.39506172839504 10.0 340.7098765432098 10.0\"/></svg>"
      ],
      "text/plain": [
       "<IPython.core.display.SVG object>"
      ]
     },
     "execution_count": 24,
     "metadata": {},
     "output_type": "execute_result"
    }
   ],
   "source": [
    "SVG(svg_dendrogram(dendrogram))"
   ]
  },
  {
   "cell_type": "markdown",
   "metadata": {},
   "source": [
    "## dendrogram with a specific threshold/clusters"
   ]
  },
  {
   "cell_type": "code",
   "execution_count": 25,
   "metadata": {},
   "outputs": [
    {
     "name": "stdout",
     "output_type": "stream",
     "text": [
      "[12 12 12 12  2  2  4  4  4  3 10 10  9  9  2  4 17 17  3 10 10  9  9  2\n",
      " 18 17 17  3  8  8  7  7 18 18 16 16  3  8  8  7  7 18 19 16 16 11  6  6\n",
      "  5  5 19 19 15 15 11  6  6  5  5 19  0 15 15 11 14 14 13 13  0  0  1  1\n",
      " 11 14 14 13 13  0  0  1  1]\n"
     ]
    }
   ],
   "source": [
    "labels, dendrogram_aggregate = cut_balanced(dendrogram, \n",
    "                                            #n_clusters=5, \n",
    "                                            max_cluster_size=5,\n",
    "                                            return_dendrogram=True\n",
    "                                           )\n",
    "print(labels)"
   ]
  },
  {
   "cell_type": "code",
   "execution_count": 26,
   "metadata": {},
   "outputs": [
    {
     "name": "stdout",
     "output_type": "stream",
     "text": [
      "[2 2 2 2 4 4 1 1 1 2 2 2 4 4 4 1 1 1 2 2 2 4 4 4 1 1 1 2 2 2 4 4 1 1 1 1 2\n",
      " 2 2 4 4 1 1 1 1 0 0 0 0 0 1 1 3 3 0 0 0 0 0 1 3 3 3 0 0 0 0 0 3 3 3 3 0 0\n",
      " 0 0 0 3 3 3 3]\n"
     ]
    }
   ],
   "source": [
    "labels, dendrogram_aggregate = cut_straight(dendrogram, \n",
    "                                            n_clusters=5, \n",
    "                                            #threshold=3,\n",
    "                                            return_dendrogram=True\n",
    "                                           )\n",
    "print(labels)"
   ]
  },
  {
   "cell_type": "code",
   "execution_count": 27,
   "metadata": {},
   "outputs": [],
   "source": [
    "_, counts = np.unique(labels, return_counts=True)"
   ]
  },
  {
   "cell_type": "code",
   "execution_count": 28,
   "metadata": {},
   "outputs": [
    {
     "data": {
      "image/svg+xml": [
       "<svg xmlns=\"http://www.w3.org/2000/svg\" width=\"420\" height=\"337.0\"><text x=\"165.0\" y=\"320\" font-size=\"12\">20</text><text x=\"245.0\" y=\"320\" font-size=\"12\">20</text><text x=\"85.0\" y=\"320\" font-size=\"12\">16</text><text x=\"325.0\" y=\"320\" font-size=\"12\">13</text><text x=\"5.0\" y=\"320\" font-size=\"12\">12</text><path stroke-width=\"2\" stroke=\"blue\" d=\"M 10.0 310 10.0 246.59783591887705\"/><path stroke-width=\"2\" stroke=\"blue\" d=\"M 90.0 310 90.0 246.59783591887705\"/><path stroke-width=\"2\" stroke=\"blue\" d=\"M 10.0 246.59783591887705 90.0 246.59783591887705\"/><path stroke-width=\"2\" stroke=\"red\" d=\"M 250.0 310 250.0 230.6094653722803\"/><path stroke-width=\"2\" stroke=\"red\" d=\"M 330.0 310 330.0 230.6094653722803\"/><path stroke-width=\"2\" stroke=\"red\" d=\"M 250.0 230.6094653722803 330.0 230.6094653722803\"/><path stroke-width=\"2\" stroke=\"blue\" d=\"M 50.0 246.59783591887705 50.0 94.35245723302344\"/><path stroke-width=\"2\" stroke=\"blue\" d=\"M 170.0 310 170.0 94.35245723302344\"/><path stroke-width=\"2\" stroke=\"blue\" d=\"M 50.0 94.35245723302344 170.0 94.35245723302344\"/><path stroke-width=\"2\" stroke=\"black\" d=\"M 110.0 94.35245723302344 110.0 10.0\"/><path stroke-width=\"2\" stroke=\"black\" d=\"M 290.0 230.6094653722803 290.0 10.0\"/><path stroke-width=\"2\" stroke=\"black\" d=\"M 110.0 10.0 290.0 10.0\"/></svg>"
      ],
      "text/plain": [
       "<IPython.core.display.SVG object>"
      ]
     },
     "execution_count": 28,
     "metadata": {},
     "output_type": "execute_result"
    }
   ],
   "source": [
    "SVG(svg_dendrogram(dendrogram_aggregate, \n",
    "                   names=counts, \n",
    "                   rotate_names=False\n",
    "                  )\n",
    ")"
   ]
  },
  {
   "cell_type": "code",
   "execution_count": 29,
   "metadata": {},
   "outputs": [
    {
     "data": {
      "image/svg+xml": [
       "<svg xmlns=\"http://www.w3.org/2000/svg\" width=\"420\" height=\"337.0\"><text x=\"165.0\" y=\"320\" font-size=\"12\">20</text><text x=\"245.0\" y=\"320\" font-size=\"12\">20</text><text x=\"85.0\" y=\"320\" font-size=\"12\">16</text><text x=\"325.0\" y=\"320\" font-size=\"12\">13</text><text x=\"5.0\" y=\"320\" font-size=\"12\">12</text><path stroke-width=\"2\" stroke=\"blue\" d=\"M 10.0 310 10.0 246.59783591887705\"/><path stroke-width=\"2\" stroke=\"blue\" d=\"M 90.0 310 90.0 246.59783591887705\"/><path stroke-width=\"2\" stroke=\"blue\" d=\"M 10.0 246.59783591887705 90.0 246.59783591887705\"/><path stroke-width=\"2\" stroke=\"red\" d=\"M 250.0 310 250.0 230.6094653722803\"/><path stroke-width=\"2\" stroke=\"red\" d=\"M 330.0 310 330.0 230.6094653722803\"/><path stroke-width=\"2\" stroke=\"red\" d=\"M 250.0 230.6094653722803 330.0 230.6094653722803\"/><path stroke-width=\"2\" stroke=\"blue\" d=\"M 50.0 246.59783591887705 50.0 94.35245723302344\"/><path stroke-width=\"2\" stroke=\"blue\" d=\"M 170.0 310 170.0 94.35245723302344\"/><path stroke-width=\"2\" stroke=\"blue\" d=\"M 50.0 94.35245723302344 170.0 94.35245723302344\"/><path stroke-width=\"2\" stroke=\"black\" d=\"M 110.0 94.35245723302344 110.0 10.0\"/><path stroke-width=\"2\" stroke=\"black\" d=\"M 290.0 230.6094653722803 290.0 10.0\"/><path stroke-width=\"2\" stroke=\"black\" d=\"M 110.0 10.0 290.0 10.0\"/></svg>"
      ],
      "text/plain": [
       "<IPython.core.display.SVG object>"
      ]
     },
     "execution_count": 29,
     "metadata": {},
     "output_type": "execute_result"
    }
   ],
   "source": [
    "SVG(svg_dendrogram(dendrogram_aggregate, \n",
    "                   names=counts, \n",
    "                   rotate_names=False\n",
    "                  )\n",
    ")"
   ]
  },
  {
   "cell_type": "markdown",
   "metadata": {},
   "source": [
    "## plot graph with clusters"
   ]
  },
  {
   "cell_type": "code",
   "execution_count": 30,
   "metadata": {},
   "outputs": [],
   "source": [
    "position = np.array(G.nodes())"
   ]
  },
  {
   "cell_type": "code",
   "execution_count": 31,
   "metadata": {},
   "outputs": [
    {
     "data": {
      "image/svg+xml": [
       "<svg xmlns=\"http://www.w3.org/2000/svg\" width=\"440\" height=\"340\">\n",
       "<path stroke-width=\"1\" stroke=\"black\" d=\"M 20 320 20 282\"/>\n",
       "<path stroke-width=\"1\" stroke=\"black\" d=\"M 320 320 270 320\"/>\n",
       "<path stroke-width=\"1\" stroke=\"black\" d=\"M 270 20 320 20\"/>\n",
       "<path stroke-width=\"1\" stroke=\"black\" d=\"M 270 20 270 57\"/>\n",
       "<path stroke-width=\"1\" stroke=\"black\" d=\"M 270 20 220 20\"/>\n",
       "<path stroke-width=\"1\" stroke=\"black\" d=\"M 270 57 320 57\"/>\n",
       "<path stroke-width=\"1\" stroke=\"black\" d=\"M 270 57 270 20\"/>\n",
       "<path stroke-width=\"1\" stroke=\"black\" d=\"M 320 320 320 282\"/>\n",
       "<path stroke-width=\"1\" stroke=\"black\" d=\"M 270 57 270 95\"/>\n",
       "<path stroke-width=\"1\" stroke=\"black\" d=\"M 270 95 320 95\"/>\n",
       "<path stroke-width=\"1\" stroke=\"black\" d=\"M 270 95 270 57\"/>\n",
       "<path stroke-width=\"1\" stroke=\"black\" d=\"M 270 95 270 132\"/>\n",
       "<path stroke-width=\"1\" stroke=\"black\" d=\"M 270 95 220 95\"/>\n",
       "<path stroke-width=\"1\" stroke=\"black\" d=\"M 270 132 320 132\"/>\n",
       "<path stroke-width=\"1\" stroke=\"black\" d=\"M 270 132 270 95\"/>\n",
       "<path stroke-width=\"1\" stroke=\"black\" d=\"M 270 57 220 57\"/>\n",
       "<path stroke-width=\"1\" stroke=\"black\" d=\"M 270 132 270 170\"/>\n",
       "<path stroke-width=\"1\" stroke=\"black\" d=\"M 320 320 370 320\"/>\n",
       "<path stroke-width=\"1\" stroke=\"black\" d=\"M 320 282 320 320\"/>\n",
       "<path stroke-width=\"1\" stroke=\"black\" d=\"M 320 170 370 170\"/>\n",
       "<path stroke-width=\"1\" stroke=\"black\" d=\"M 320 170 320 132\"/>\n",
       "<path stroke-width=\"1\" stroke=\"black\" d=\"M 320 170 320 207\"/>\n",
       "<path stroke-width=\"1\" stroke=\"black\" d=\"M 320 170 270 170\"/>\n",
       "<path stroke-width=\"1\" stroke=\"black\" d=\"M 320 207 370 207\"/>\n",
       "<path stroke-width=\"1\" stroke=\"black\" d=\"M 320 207 320 170\"/>\n",
       "<path stroke-width=\"1\" stroke=\"black\" d=\"M 320 282 270 282\"/>\n",
       "<path stroke-width=\"1\" stroke=\"black\" d=\"M 320 207 320 245\"/>\n",
       "<path stroke-width=\"1\" stroke=\"black\" d=\"M 320 245 370 245\"/>\n",
       "<path stroke-width=\"1\" stroke=\"black\" d=\"M 320 245 320 207\"/>\n",
       "<path stroke-width=\"1\" stroke=\"black\" d=\"M 320 245 320 282\"/>\n",
       "<path stroke-width=\"1\" stroke=\"black\" d=\"M 320 245 270 245\"/>\n",
       "<path stroke-width=\"1\" stroke=\"black\" d=\"M 320 282 370 282\"/>\n",
       "<path stroke-width=\"1\" stroke=\"black\" d=\"M 320 282 320 245\"/>\n",
       "<path stroke-width=\"1\" stroke=\"black\" d=\"M 320 207 270 207\"/>\n",
       "<path stroke-width=\"1\" stroke=\"black\" d=\"M 320 132 270 132\"/>\n",
       "<path stroke-width=\"1\" stroke=\"black\" d=\"M 270 132 220 132\"/>\n",
       "<path stroke-width=\"1\" stroke=\"black\" d=\"M 270 170 270 132\"/>\n",
       "<path stroke-width=\"1\" stroke=\"black\" d=\"M 220 20 220 57\"/>\n",
       "<path stroke-width=\"1\" stroke=\"black\" d=\"M 220 20 170 20\"/>\n",
       "<path stroke-width=\"1\" stroke=\"black\" d=\"M 220 57 270 57\"/>\n",
       "<path stroke-width=\"1\" stroke=\"black\" d=\"M 220 57 220 20\"/>\n",
       "<path stroke-width=\"1\" stroke=\"black\" d=\"M 220 57 220 95\"/>\n",
       "<path stroke-width=\"1\" stroke=\"black\" d=\"M 220 57 170 57\"/>\n",
       "<path stroke-width=\"1\" stroke=\"black\" d=\"M 220 20 270 20\"/>\n",
       "<path stroke-width=\"1\" stroke=\"black\" d=\"M 220 95 270 95\"/>\n",
       "<path stroke-width=\"1\" stroke=\"black\" d=\"M 220 95 220 132\"/>\n",
       "<path stroke-width=\"1\" stroke=\"black\" d=\"M 220 95 170 95\"/>\n",
       "<path stroke-width=\"1\" stroke=\"black\" d=\"M 220 132 270 132\"/>\n",
       "<path stroke-width=\"1\" stroke=\"black\" d=\"M 220 132 220 95\"/>\n",
       "<path stroke-width=\"1\" stroke=\"black\" d=\"M 220 132 220 170\"/>\n",
       "<path stroke-width=\"1\" stroke=\"black\" d=\"M 220 132 170 132\"/>\n",
       "<path stroke-width=\"1\" stroke=\"black\" d=\"M 220 95 220 57\"/>\n",
       "<path stroke-width=\"1\" stroke=\"black\" d=\"M 270 170 320 170\"/>\n",
       "<path stroke-width=\"1\" stroke=\"black\" d=\"M 270 320 220 320\"/>\n",
       "<path stroke-width=\"1\" stroke=\"black\" d=\"M 270 320 320 320\"/>\n",
       "<path stroke-width=\"1\" stroke=\"black\" d=\"M 270 170 270 207\"/>\n",
       "<path stroke-width=\"1\" stroke=\"black\" d=\"M 270 170 220 170\"/>\n",
       "<path stroke-width=\"1\" stroke=\"black\" d=\"M 270 207 320 207\"/>\n",
       "<path stroke-width=\"1\" stroke=\"black\" d=\"M 270 207 270 170\"/>\n",
       "<path stroke-width=\"1\" stroke=\"black\" d=\"M 270 207 270 245\"/>\n",
       "<path stroke-width=\"1\" stroke=\"black\" d=\"M 270 207 220 207\"/>\n",
       "<path stroke-width=\"1\" stroke=\"black\" d=\"M 270 320 270 282\"/>\n",
       "<path stroke-width=\"1\" stroke=\"black\" d=\"M 270 245 320 245\"/>\n",
       "<path stroke-width=\"1\" stroke=\"black\" d=\"M 270 245 270 282\"/>\n",
       "<path stroke-width=\"1\" stroke=\"black\" d=\"M 270 245 220 245\"/>\n",
       "<path stroke-width=\"1\" stroke=\"black\" d=\"M 270 282 320 282\"/>\n",
       "<path stroke-width=\"1\" stroke=\"black\" d=\"M 270 282 270 245\"/>\n",
       "<path stroke-width=\"1\" stroke=\"black\" d=\"M 270 282 270 320\"/>\n",
       "<path stroke-width=\"1\" stroke=\"black\" d=\"M 270 282 220 282\"/>\n",
       "<path stroke-width=\"1\" stroke=\"black\" d=\"M 270 245 270 207\"/>\n",
       "<path stroke-width=\"1\" stroke=\"black\" d=\"M 220 170 270 170\"/>\n",
       "<path stroke-width=\"1\" stroke=\"black\" d=\"M 320 132 320 170\"/>\n",
       "<path stroke-width=\"1\" stroke=\"black\" d=\"M 320 132 370 132\"/>\n",
       "<path stroke-width=\"1\" stroke=\"black\" d=\"M 420 282 420 245\"/>\n",
       "<path stroke-width=\"1\" stroke=\"black\" d=\"M 420 282 420 320\"/>\n",
       "<path stroke-width=\"1\" stroke=\"black\" d=\"M 420 282 370 282\"/>\n",
       "<path stroke-width=\"1\" stroke=\"black\" d=\"M 420 320 420 282\"/>\n",
       "<path stroke-width=\"1\" stroke=\"black\" d=\"M 420 320 370 320\"/>\n",
       "<path stroke-width=\"1\" stroke=\"black\" d=\"M 370 20 420 20\"/>\n",
       "<path stroke-width=\"1\" stroke=\"black\" d=\"M 420 245 370 245\"/>\n",
       "<path stroke-width=\"1\" stroke=\"black\" d=\"M 370 20 370 57\"/>\n",
       "<path stroke-width=\"1\" stroke=\"black\" d=\"M 370 57 420 57\"/>\n",
       "<path stroke-width=\"1\" stroke=\"black\" d=\"M 370 57 370 20\"/>\n",
       "<path stroke-width=\"1\" stroke=\"black\" d=\"M 370 57 370 95\"/>\n",
       "<path stroke-width=\"1\" stroke=\"black\" d=\"M 370 57 320 57\"/>\n",
       "<path stroke-width=\"1\" stroke=\"black\" d=\"M 370 95 420 95\"/>\n",
       "<path stroke-width=\"1\" stroke=\"black\" d=\"M 370 95 370 57\"/>\n",
       "<path stroke-width=\"1\" stroke=\"black\" d=\"M 370 20 320 20\"/>\n",
       "<path stroke-width=\"1\" stroke=\"black\" d=\"M 370 95 370 132\"/>\n",
       "<path stroke-width=\"1\" stroke=\"black\" d=\"M 420 245 420 282\"/>\n",
       "<path stroke-width=\"1\" stroke=\"black\" d=\"M 420 207 370 207\"/>\n",
       "<path stroke-width=\"1\" stroke=\"black\" d=\"M 420 57 420 20\"/>\n",
       "<path stroke-width=\"1\" stroke=\"black\" d=\"M 420 57 420 95\"/>\n",
       "<path stroke-width=\"1\" stroke=\"black\" d=\"M 420 57 370 57\"/>\n",
       "<path stroke-width=\"1\" stroke=\"black\" d=\"M 420 95 420 57\"/>\n",
       "<path stroke-width=\"1\" stroke=\"black\" d=\"M 420 95 420 132\"/>\n",
       "<path stroke-width=\"1\" stroke=\"black\" d=\"M 420 95 370 95\"/>\n",
       "<path stroke-width=\"1\" stroke=\"black\" d=\"M 420 245 420 207\"/>\n",
       "<path stroke-width=\"1\" stroke=\"black\" d=\"M 420 132 420 95\"/>\n",
       "<path stroke-width=\"1\" stroke=\"black\" d=\"M 420 132 370 132\"/>\n",
       "<path stroke-width=\"1\" stroke=\"black\" d=\"M 420 170 420 132\"/>\n",
       "<path stroke-width=\"1\" stroke=\"black\" d=\"M 420 170 420 207\"/>\n",
       "<path stroke-width=\"1\" stroke=\"black\" d=\"M 420 170 370 170\"/>\n",
       "<path stroke-width=\"1\" stroke=\"black\" d=\"M 420 207 420 170\"/>\n",
       "<path stroke-width=\"1\" stroke=\"black\" d=\"M 420 207 420 245\"/>\n",
       "<path stroke-width=\"1\" stroke=\"black\" d=\"M 420 132 420 170\"/>\n",
       "<path stroke-width=\"1\" stroke=\"black\" d=\"M 320 132 320 95\"/>\n",
       "<path stroke-width=\"1\" stroke=\"black\" d=\"M 370 95 320 95\"/>\n",
       "<path stroke-width=\"1\" stroke=\"black\" d=\"M 370 132 370 95\"/>\n",
       "<path stroke-width=\"1\" stroke=\"black\" d=\"M 370 320 420 320\"/>\n",
       "<path stroke-width=\"1\" stroke=\"black\" d=\"M 370 320 370 282\"/>\n",
       "<path stroke-width=\"1\" stroke=\"black\" d=\"M 370 320 320 320\"/>\n",
       "<path stroke-width=\"1\" stroke=\"black\" d=\"M 320 20 370 20\"/>\n",
       "<path stroke-width=\"1\" stroke=\"black\" d=\"M 320 20 320 57\"/>\n",
       "<path stroke-width=\"1\" stroke=\"black\" d=\"M 320 20 270 20\"/>\n",
       "<path stroke-width=\"1\" stroke=\"black\" d=\"M 370 282 320 282\"/>\n",
       "<path stroke-width=\"1\" stroke=\"black\" d=\"M 320 57 370 57\"/>\n",
       "<path stroke-width=\"1\" stroke=\"black\" d=\"M 320 57 320 95\"/>\n",
       "<path stroke-width=\"1\" stroke=\"black\" d=\"M 320 57 270 57\"/>\n",
       "<path stroke-width=\"1\" stroke=\"black\" d=\"M 320 95 370 95\"/>\n",
       "<path stroke-width=\"1\" stroke=\"black\" d=\"M 320 95 320 57\"/>\n",
       "<path stroke-width=\"1\" stroke=\"black\" d=\"M 320 95 320 132\"/>\n",
       "<path stroke-width=\"1\" stroke=\"black\" d=\"M 320 95 270 95\"/>\n",
       "<path stroke-width=\"1\" stroke=\"black\" d=\"M 320 57 320 20\"/>\n",
       "<path stroke-width=\"1\" stroke=\"black\" d=\"M 370 132 420 132\"/>\n",
       "<path stroke-width=\"1\" stroke=\"black\" d=\"M 370 282 370 320\"/>\n",
       "<path stroke-width=\"1\" stroke=\"black\" d=\"M 370 282 420 282\"/>\n",
       "<path stroke-width=\"1\" stroke=\"black\" d=\"M 370 132 370 170\"/>\n",
       "<path stroke-width=\"1\" stroke=\"black\" d=\"M 370 132 320 132\"/>\n",
       "<path stroke-width=\"1\" stroke=\"black\" d=\"M 370 170 420 170\"/>\n",
       "<path stroke-width=\"1\" stroke=\"black\" d=\"M 370 170 370 132\"/>\n",
       "<path stroke-width=\"1\" stroke=\"black\" d=\"M 370 170 370 207\"/>\n",
       "<path stroke-width=\"1\" stroke=\"black\" d=\"M 370 170 320 170\"/>\n",
       "<path stroke-width=\"1\" stroke=\"black\" d=\"M 370 282 370 245\"/>\n",
       "<path stroke-width=\"1\" stroke=\"black\" d=\"M 370 207 420 207\"/>\n",
       "<path stroke-width=\"1\" stroke=\"black\" d=\"M 370 207 370 245\"/>\n",
       "<path stroke-width=\"1\" stroke=\"black\" d=\"M 370 207 320 207\"/>\n",
       "<path stroke-width=\"1\" stroke=\"black\" d=\"M 370 245 420 245\"/>\n",
       "<path stroke-width=\"1\" stroke=\"black\" d=\"M 370 245 370 207\"/>\n",
       "<path stroke-width=\"1\" stroke=\"black\" d=\"M 370 245 370 282\"/>\n",
       "<path stroke-width=\"1\" stroke=\"black\" d=\"M 370 245 320 245\"/>\n",
       "<path stroke-width=\"1\" stroke=\"black\" d=\"M 370 207 370 170\"/>\n",
       "<path stroke-width=\"1\" stroke=\"black\" d=\"M 220 170 220 132\"/>\n",
       "<path stroke-width=\"1\" stroke=\"black\" d=\"M 220 170 220 207\"/>\n",
       "<path stroke-width=\"1\" stroke=\"black\" d=\"M 220 170 170 170\"/>\n",
       "<path stroke-width=\"1\" stroke=\"black\" d=\"M 70 95 70 57\"/>\n",
       "<path stroke-width=\"1\" stroke=\"black\" d=\"M 70 95 70 132\"/>\n",
       "<path stroke-width=\"1\" stroke=\"black\" d=\"M 70 95 20 95\"/>\n",
       "<path stroke-width=\"1\" stroke=\"black\" d=\"M 70 132 120 132\"/>\n",
       "<path stroke-width=\"1\" stroke=\"black\" d=\"M 70 132 70 95\"/>\n",
       "<path stroke-width=\"1\" stroke=\"black\" d=\"M 70 132 70 170\"/>\n",
       "<path stroke-width=\"1\" stroke=\"black\" d=\"M 70 95 120 95\"/>\n",
       "<path stroke-width=\"1\" stroke=\"black\" d=\"M 70 132 20 132\"/>\n",
       "<path stroke-width=\"1\" stroke=\"black\" d=\"M 70 170 70 132\"/>\n",
       "<path stroke-width=\"1\" stroke=\"black\" d=\"M 70 170 70 207\"/>\n",
       "<path stroke-width=\"1\" stroke=\"black\" d=\"M 70 170 20 170\"/>\n",
       "<path stroke-width=\"1\" stroke=\"black\" d=\"M 70 207 120 207\"/>\n",
       "<path stroke-width=\"1\" stroke=\"black\" d=\"M 70 207 70 170\"/>\n",
       "<path stroke-width=\"1\" stroke=\"black\" d=\"M 70 207 70 245\"/>\n",
       "<path stroke-width=\"1\" stroke=\"black\" d=\"M 70 170 120 170\"/>\n",
       "<path stroke-width=\"1\" stroke=\"black\" d=\"M 70 207 20 207\"/>\n",
       "<path stroke-width=\"1\" stroke=\"black\" d=\"M 70 57 20 57\"/>\n",
       "<path stroke-width=\"1\" stroke=\"black\" d=\"M 70 57 70 20\"/>\n",
       "<path stroke-width=\"1\" stroke=\"black\" d=\"M 120 245 120 207\"/>\n",
       "<path stroke-width=\"1\" stroke=\"black\" d=\"M 120 245 120 282\"/>\n",
       "<path stroke-width=\"1\" stroke=\"black\" d=\"M 120 245 70 245\"/>\n",
       "<path stroke-width=\"1\" stroke=\"black\" d=\"M 120 282 170 282\"/>\n",
       "<path stroke-width=\"1\" stroke=\"black\" d=\"M 120 282 120 245\"/>\n",
       "<path stroke-width=\"1\" stroke=\"black\" d=\"M 120 282 120 320\"/>\n",
       "<path stroke-width=\"1\" stroke=\"black\" d=\"M 70 57 70 95\"/>\n",
       "<path stroke-width=\"1\" stroke=\"black\" d=\"M 120 282 70 282\"/>\n",
       "<path stroke-width=\"1\" stroke=\"black\" d=\"M 120 320 120 282\"/>\n",
       "<path stroke-width=\"1\" stroke=\"black\" d=\"M 120 320 70 320\"/>\n",
       "<path stroke-width=\"1\" stroke=\"black\" d=\"M 70 20 120 20\"/>\n",
       "<path stroke-width=\"1\" stroke=\"black\" d=\"M 70 20 70 57\"/>\n",
       "<path stroke-width=\"1\" stroke=\"black\" d=\"M 70 20 20 20\"/>\n",
       "<path stroke-width=\"1\" stroke=\"black\" d=\"M 70 57 120 57\"/>\n",
       "<path stroke-width=\"1\" stroke=\"black\" d=\"M 120 320 170 320\"/>\n",
       "<path stroke-width=\"1\" stroke=\"black\" d=\"M 120 245 170 245\"/>\n",
       "<path stroke-width=\"1\" stroke=\"black\" d=\"M 70 245 120 245\"/>\n",
       "<path stroke-width=\"1\" stroke=\"black\" d=\"M 70 245 70 282\"/>\n",
       "<path stroke-width=\"1\" stroke=\"black\" d=\"M 20 132 20 170\"/>\n",
       "<path stroke-width=\"1\" stroke=\"black\" d=\"M 20 170 70 170\"/>\n",
       "<path stroke-width=\"1\" stroke=\"black\" d=\"M 20 170 20 132\"/>\n",
       "<path stroke-width=\"1\" stroke=\"black\" d=\"M 20 170 20 207\"/>\n",
       "<path stroke-width=\"1\" stroke=\"black\" d=\"M 20 207 70 207\"/>\n",
       "<path stroke-width=\"1\" stroke=\"black\" d=\"M 20 207 20 170\"/>\n",
       "<path stroke-width=\"1\" stroke=\"black\" d=\"M 20 132 20 95\"/>\n",
       "<path stroke-width=\"1\" stroke=\"black\" d=\"M 20 207 20 245\"/>\n",
       "<path stroke-width=\"1\" stroke=\"black\" d=\"M 20 245 20 207\"/>\n",
       "<path stroke-width=\"1\" stroke=\"black\" d=\"M 20 245 20 282\"/>\n",
       "<path stroke-width=\"1\" stroke=\"black\" d=\"M 20 282 70 282\"/>\n",
       "<path stroke-width=\"1\" stroke=\"black\" d=\"M 20 282 20 245\"/>\n",
       "<path stroke-width=\"1\" stroke=\"black\" d=\"M 20 282 20 320\"/>\n",
       "<path stroke-width=\"1\" stroke=\"black\" d=\"M 20 320 70 320\"/>\n",
       "<path stroke-width=\"1\" stroke=\"black\" d=\"M 20 245 70 245\"/>\n",
       "<path stroke-width=\"1\" stroke=\"black\" d=\"M 70 245 70 207\"/>\n",
       "<path stroke-width=\"1\" stroke=\"black\" d=\"M 20 132 70 132\"/>\n",
       "<path stroke-width=\"1\" stroke=\"black\" d=\"M 20 95 20 57\"/>\n",
       "<path stroke-width=\"1\" stroke=\"black\" d=\"M 70 245 20 245\"/>\n",
       "<path stroke-width=\"1\" stroke=\"black\" d=\"M 70 282 120 282\"/>\n",
       "<path stroke-width=\"1\" stroke=\"black\" d=\"M 70 282 70 245\"/>\n",
       "<path stroke-width=\"1\" stroke=\"black\" d=\"M 70 282 70 320\"/>\n",
       "<path stroke-width=\"1\" stroke=\"black\" d=\"M 70 282 20 282\"/>\n",
       "<path stroke-width=\"1\" stroke=\"black\" d=\"M 70 320 120 320\"/>\n",
       "<path stroke-width=\"1\" stroke=\"black\" d=\"M 20 95 20 132\"/>\n",
       "<path stroke-width=\"1\" stroke=\"black\" d=\"M 70 320 70 282\"/>\n",
       "<path stroke-width=\"1\" stroke=\"black\" d=\"M 20 20 70 20\"/>\n",
       "<path stroke-width=\"1\" stroke=\"black\" d=\"M 20 20 20 57\"/>\n",
       "<path stroke-width=\"1\" stroke=\"black\" d=\"M 20 57 70 57\"/>\n",
       "<path stroke-width=\"1\" stroke=\"black\" d=\"M 20 57 20 20\"/>\n",
       "<path stroke-width=\"1\" stroke=\"black\" d=\"M 20 57 20 95\"/>\n",
       "<path stroke-width=\"1\" stroke=\"black\" d=\"M 20 95 70 95\"/>\n",
       "<path stroke-width=\"1\" stroke=\"black\" d=\"M 70 320 20 320\"/>\n",
       "<path stroke-width=\"1\" stroke=\"black\" d=\"M 120 207 70 207\"/>\n",
       "<path stroke-width=\"1\" stroke=\"black\" d=\"M 120 207 120 245\"/>\n",
       "<path stroke-width=\"1\" stroke=\"black\" d=\"M 120 207 120 170\"/>\n",
       "<path stroke-width=\"1\" stroke=\"black\" d=\"M 170 57 220 57\"/>\n",
       "<path stroke-width=\"1\" stroke=\"black\" d=\"M 170 57 170 20\"/>\n",
       "<path stroke-width=\"1\" stroke=\"black\" d=\"M 170 57 170 95\"/>\n",
       "<path stroke-width=\"1\" stroke=\"black\" d=\"M 170 57 120 57\"/>\n",
       "<path stroke-width=\"1\" stroke=\"black\" d=\"M 170 95 220 95\"/>\n",
       "<path stroke-width=\"1\" stroke=\"black\" d=\"M 170 95 170 57\"/>\n",
       "<path stroke-width=\"1\" stroke=\"black\" d=\"M 170 20 120 20\"/>\n",
       "<path stroke-width=\"1\" stroke=\"black\" d=\"M 170 95 170 132\"/>\n",
       "<path stroke-width=\"1\" stroke=\"black\" d=\"M 170 132 220 132\"/>\n",
       "<path stroke-width=\"1\" stroke=\"black\" d=\"M 170 132 170 95\"/>\n",
       "<path stroke-width=\"1\" stroke=\"black\" d=\"M 170 132 170 170\"/>\n",
       "<path stroke-width=\"1\" stroke=\"black\" d=\"M 170 132 120 132\"/>\n",
       "<path stroke-width=\"1\" stroke=\"black\" d=\"M 170 170 220 170\"/>\n",
       "<path stroke-width=\"1\" stroke=\"black\" d=\"M 170 170 170 132\"/>\n",
       "<path stroke-width=\"1\" stroke=\"black\" d=\"M 170 95 120 95\"/>\n",
       "<path stroke-width=\"1\" stroke=\"black\" d=\"M 170 170 170 207\"/>\n",
       "<path stroke-width=\"1\" stroke=\"black\" d=\"M 170 20 170 57\"/>\n",
       "<path stroke-width=\"1\" stroke=\"black\" d=\"M 220 320 170 320\"/>\n",
       "<path stroke-width=\"1\" stroke=\"black\" d=\"M 220 207 270 207\"/>\n",
       "<path stroke-width=\"1\" stroke=\"black\" d=\"M 220 207 220 170\"/>\n",
       "<path stroke-width=\"1\" stroke=\"black\" d=\"M 220 207 220 245\"/>\n",
       "<path stroke-width=\"1\" stroke=\"black\" d=\"M 220 207 170 207\"/>\n",
       "<path stroke-width=\"1\" stroke=\"black\" d=\"M 220 245 270 245\"/>\n",
       "<path stroke-width=\"1\" stroke=\"black\" d=\"M 220 245 220 207\"/>\n",
       "<path stroke-width=\"1\" stroke=\"black\" d=\"M 170 20 220 20\"/>\n",
       "<path stroke-width=\"1\" stroke=\"black\" d=\"M 220 245 220 282\"/>\n",
       "<path stroke-width=\"1\" stroke=\"black\" d=\"M 220 282 270 282\"/>\n",
       "<path stroke-width=\"1\" stroke=\"black\" d=\"M 220 282 220 245\"/>\n",
       "<path stroke-width=\"1\" stroke=\"black\" d=\"M 220 282 220 320\"/>\n",
       "<path stroke-width=\"1\" stroke=\"black\" d=\"M 220 282 170 282\"/>\n",
       "<path stroke-width=\"1\" stroke=\"black\" d=\"M 220 320 270 320\"/>\n",
       "<path stroke-width=\"1\" stroke=\"black\" d=\"M 220 320 220 282\"/>\n",
       "<path stroke-width=\"1\" stroke=\"black\" d=\"M 220 245 170 245\"/>\n",
       "<path stroke-width=\"1\" stroke=\"black\" d=\"M 170 170 120 170\"/>\n",
       "<path stroke-width=\"1\" stroke=\"black\" d=\"M 170 207 220 207\"/>\n",
       "<path stroke-width=\"1\" stroke=\"black\" d=\"M 170 207 170 170\"/>\n",
       "<path stroke-width=\"1\" stroke=\"black\" d=\"M 120 57 70 57\"/>\n",
       "<path stroke-width=\"1\" stroke=\"black\" d=\"M 120 95 170 95\"/>\n",
       "<path stroke-width=\"1\" stroke=\"black\" d=\"M 120 95 120 57\"/>\n",
       "<path stroke-width=\"1\" stroke=\"black\" d=\"M 120 95 120 132\"/>\n",
       "<path stroke-width=\"1\" stroke=\"black\" d=\"M 120 95 70 95\"/>\n",
       "<path stroke-width=\"1\" stroke=\"black\" d=\"M 120 132 170 132\"/>\n",
       "<path stroke-width=\"1\" stroke=\"black\" d=\"M 120 57 120 95\"/>\n",
       "<path stroke-width=\"1\" stroke=\"black\" d=\"M 120 132 120 95\"/>\n",
       "<path stroke-width=\"1\" stroke=\"black\" d=\"M 120 132 70 132\"/>\n",
       "<path stroke-width=\"1\" stroke=\"black\" d=\"M 120 170 170 170\"/>\n",
       "<path stroke-width=\"1\" stroke=\"black\" d=\"M 120 170 120 132\"/>\n",
       "<path stroke-width=\"1\" stroke=\"black\" d=\"M 120 170 120 207\"/>\n",
       "<path stroke-width=\"1\" stroke=\"black\" d=\"M 120 170 70 170\"/>\n",
       "<path stroke-width=\"1\" stroke=\"black\" d=\"M 120 207 170 207\"/>\n",
       "<path stroke-width=\"1\" stroke=\"black\" d=\"M 120 132 120 170\"/>\n",
       "<path stroke-width=\"1\" stroke=\"black\" d=\"M 120 57 120 20\"/>\n",
       "<path stroke-width=\"1\" stroke=\"black\" d=\"M 120 57 170 57\"/>\n",
       "<path stroke-width=\"1\" stroke=\"black\" d=\"M 120 20 70 20\"/>\n",
       "<path stroke-width=\"1\" stroke=\"black\" d=\"M 170 207 170 245\"/>\n",
       "<path stroke-width=\"1\" stroke=\"black\" d=\"M 170 207 120 207\"/>\n",
       "<path stroke-width=\"1\" stroke=\"black\" d=\"M 170 245 220 245\"/>\n",
       "<path stroke-width=\"1\" stroke=\"black\" d=\"M 170 245 170 207\"/>\n",
       "<path stroke-width=\"1\" stroke=\"black\" d=\"M 170 245 170 282\"/>\n",
       "<path stroke-width=\"1\" stroke=\"black\" d=\"M 170 245 120 245\"/>\n",
       "<path stroke-width=\"1\" stroke=\"black\" d=\"M 170 282 220 282\"/>\n",
       "<path stroke-width=\"1\" stroke=\"black\" d=\"M 170 282 170 245\"/>\n",
       "<path stroke-width=\"1\" stroke=\"black\" d=\"M 170 282 170 320\"/>\n",
       "<path stroke-width=\"1\" stroke=\"black\" d=\"M 170 282 120 282\"/>\n",
       "<path stroke-width=\"1\" stroke=\"black\" d=\"M 170 320 220 320\"/>\n",
       "<path stroke-width=\"1\" stroke=\"black\" d=\"M 170 320 170 282\"/>\n",
       "<path stroke-width=\"1\" stroke=\"black\" d=\"M 170 320 120 320\"/>\n",
       "<path stroke-width=\"1\" stroke=\"black\" d=\"M 120 20 170 20\"/>\n",
       "<path stroke-width=\"1\" stroke=\"black\" d=\"M 120 20 120 57\"/>\n",
       "<path stroke-width=\"1\" stroke=\"black\" d=\"M 420 20 370 20\"/>\n",
       "<path stroke-width=\"1\" stroke=\"black\" d=\"M 420 20 420 57\"/>\n",
       "<circle cx=\"20\" cy=\"320\" r=\"7.0\" style=\"fill:green;stroke:black;stroke-width:1.0\"/>\n",
       "<circle cx=\"20\" cy=\"282\" r=\"7.0\" style=\"fill:green;stroke:black;stroke-width:1.0\"/>\n",
       "<circle cx=\"20\" cy=\"245\" r=\"7.0\" style=\"fill:green;stroke:black;stroke-width:1.0\"/>\n",
       "<circle cx=\"20\" cy=\"207\" r=\"7.0\" style=\"fill:green;stroke:black;stroke-width:1.0\"/>\n",
       "<circle cx=\"20\" cy=\"170\" r=\"7.0\" style=\"fill:purple;stroke:black;stroke-width:1.0\"/>\n",
       "<circle cx=\"20\" cy=\"132\" r=\"7.0\" style=\"fill:purple;stroke:black;stroke-width:1.0\"/>\n",
       "<circle cx=\"20\" cy=\"95\" r=\"7.0\" style=\"fill:red;stroke:black;stroke-width:1.0\"/>\n",
       "<circle cx=\"20\" cy=\"57\" r=\"7.0\" style=\"fill:red;stroke:black;stroke-width:1.0\"/>\n",
       "<circle cx=\"20\" cy=\"20\" r=\"7.0\" style=\"fill:red;stroke:black;stroke-width:1.0\"/>\n",
       "<circle cx=\"70\" cy=\"320\" r=\"7.0\" style=\"fill:green;stroke:black;stroke-width:1.0\"/>\n",
       "<circle cx=\"70\" cy=\"282\" r=\"7.0\" style=\"fill:green;stroke:black;stroke-width:1.0\"/>\n",
       "<circle cx=\"70\" cy=\"245\" r=\"7.0\" style=\"fill:green;stroke:black;stroke-width:1.0\"/>\n",
       "<circle cx=\"70\" cy=\"207\" r=\"7.0\" style=\"fill:purple;stroke:black;stroke-width:1.0\"/>\n",
       "<circle cx=\"70\" cy=\"170\" r=\"7.0\" style=\"fill:purple;stroke:black;stroke-width:1.0\"/>\n",
       "<circle cx=\"70\" cy=\"132\" r=\"7.0\" style=\"fill:purple;stroke:black;stroke-width:1.0\"/>\n",
       "<circle cx=\"70\" cy=\"95\" r=\"7.0\" style=\"fill:red;stroke:black;stroke-width:1.0\"/>\n",
       "<circle cx=\"70\" cy=\"57\" r=\"7.0\" style=\"fill:red;stroke:black;stroke-width:1.0\"/>\n",
       "<circle cx=\"70\" cy=\"20\" r=\"7.0\" style=\"fill:red;stroke:black;stroke-width:1.0\"/>\n",
       "<circle cx=\"120\" cy=\"320\" r=\"7.0\" style=\"fill:green;stroke:black;stroke-width:1.0\"/>\n",
       "<circle cx=\"120\" cy=\"282\" r=\"7.0\" style=\"fill:green;stroke:black;stroke-width:1.0\"/>\n",
       "<circle cx=\"120\" cy=\"245\" r=\"7.0\" style=\"fill:green;stroke:black;stroke-width:1.0\"/>\n",
       "<circle cx=\"120\" cy=\"207\" r=\"7.0\" style=\"fill:purple;stroke:black;stroke-width:1.0\"/>\n",
       "<circle cx=\"120\" cy=\"170\" r=\"7.0\" style=\"fill:purple;stroke:black;stroke-width:1.0\"/>\n",
       "<circle cx=\"120\" cy=\"132\" r=\"7.0\" style=\"fill:purple;stroke:black;stroke-width:1.0\"/>\n",
       "<circle cx=\"120\" cy=\"95\" r=\"7.0\" style=\"fill:red;stroke:black;stroke-width:1.0\"/>\n",
       "<circle cx=\"120\" cy=\"57\" r=\"7.0\" style=\"fill:red;stroke:black;stroke-width:1.0\"/>\n",
       "<circle cx=\"120\" cy=\"20\" r=\"7.0\" style=\"fill:red;stroke:black;stroke-width:1.0\"/>\n",
       "<circle cx=\"170\" cy=\"320\" r=\"7.0\" style=\"fill:green;stroke:black;stroke-width:1.0\"/>\n",
       "<circle cx=\"170\" cy=\"282\" r=\"7.0\" style=\"fill:green;stroke:black;stroke-width:1.0\"/>\n",
       "<circle cx=\"170\" cy=\"245\" r=\"7.0\" style=\"fill:green;stroke:black;stroke-width:1.0\"/>\n",
       "<circle cx=\"170\" cy=\"207\" r=\"7.0\" style=\"fill:purple;stroke:black;stroke-width:1.0\"/>\n",
       "<circle cx=\"170\" cy=\"170\" r=\"7.0\" style=\"fill:purple;stroke:black;stroke-width:1.0\"/>\n",
       "<circle cx=\"170\" cy=\"132\" r=\"7.0\" style=\"fill:red;stroke:black;stroke-width:1.0\"/>\n",
       "<circle cx=\"170\" cy=\"95\" r=\"7.0\" style=\"fill:red;stroke:black;stroke-width:1.0\"/>\n",
       "<circle cx=\"170\" cy=\"57\" r=\"7.0\" style=\"fill:red;stroke:black;stroke-width:1.0\"/>\n",
       "<circle cx=\"170\" cy=\"20\" r=\"7.0\" style=\"fill:red;stroke:black;stroke-width:1.0\"/>\n",
       "<circle cx=\"220\" cy=\"320\" r=\"7.0\" style=\"fill:green;stroke:black;stroke-width:1.0\"/>\n",
       "<circle cx=\"220\" cy=\"282\" r=\"7.0\" style=\"fill:green;stroke:black;stroke-width:1.0\"/>\n",
       "<circle cx=\"220\" cy=\"245\" r=\"7.0\" style=\"fill:green;stroke:black;stroke-width:1.0\"/>\n",
       "<circle cx=\"220\" cy=\"207\" r=\"7.0\" style=\"fill:purple;stroke:black;stroke-width:1.0\"/>\n",
       "<circle cx=\"220\" cy=\"170\" r=\"7.0\" style=\"fill:purple;stroke:black;stroke-width:1.0\"/>\n",
       "<circle cx=\"220\" cy=\"132\" r=\"7.0\" style=\"fill:red;stroke:black;stroke-width:1.0\"/>\n",
       "<circle cx=\"220\" cy=\"95\" r=\"7.0\" style=\"fill:red;stroke:black;stroke-width:1.0\"/>\n",
       "<circle cx=\"220\" cy=\"57\" r=\"7.0\" style=\"fill:red;stroke:black;stroke-width:1.0\"/>\n",
       "<circle cx=\"220\" cy=\"20\" r=\"7.0\" style=\"fill:red;stroke:black;stroke-width:1.0\"/>\n",
       "<circle cx=\"270\" cy=\"320\" r=\"7.0\" style=\"fill:blue;stroke:black;stroke-width:1.0\"/>\n",
       "<circle cx=\"270\" cy=\"282\" r=\"7.0\" style=\"fill:blue;stroke:black;stroke-width:1.0\"/>\n",
       "<circle cx=\"270\" cy=\"245\" r=\"7.0\" style=\"fill:blue;stroke:black;stroke-width:1.0\"/>\n",
       "<circle cx=\"270\" cy=\"207\" r=\"7.0\" style=\"fill:blue;stroke:black;stroke-width:1.0\"/>\n",
       "<circle cx=\"270\" cy=\"170\" r=\"7.0\" style=\"fill:blue;stroke:black;stroke-width:1.0\"/>\n",
       "<circle cx=\"270\" cy=\"132\" r=\"7.0\" style=\"fill:red;stroke:black;stroke-width:1.0\"/>\n",
       "<circle cx=\"270\" cy=\"95\" r=\"7.0\" style=\"fill:red;stroke:black;stroke-width:1.0\"/>\n",
       "<circle cx=\"270\" cy=\"57\" r=\"7.0\" style=\"fill:orange;stroke:black;stroke-width:1.0\"/>\n",
       "<circle cx=\"270\" cy=\"20\" r=\"7.0\" style=\"fill:orange;stroke:black;stroke-width:1.0\"/>\n",
       "<circle cx=\"320\" cy=\"320\" r=\"7.0\" style=\"fill:blue;stroke:black;stroke-width:1.0\"/>\n",
       "<circle cx=\"320\" cy=\"282\" r=\"7.0\" style=\"fill:blue;stroke:black;stroke-width:1.0\"/>\n",
       "<circle cx=\"320\" cy=\"245\" r=\"7.0\" style=\"fill:blue;stroke:black;stroke-width:1.0\"/>\n",
       "<circle cx=\"320\" cy=\"207\" r=\"7.0\" style=\"fill:blue;stroke:black;stroke-width:1.0\"/>\n",
       "<circle cx=\"320\" cy=\"170\" r=\"7.0\" style=\"fill:blue;stroke:black;stroke-width:1.0\"/>\n",
       "<circle cx=\"320\" cy=\"132\" r=\"7.0\" style=\"fill:red;stroke:black;stroke-width:1.0\"/>\n",
       "<circle cx=\"320\" cy=\"95\" r=\"7.0\" style=\"fill:orange;stroke:black;stroke-width:1.0\"/>\n",
       "<circle cx=\"320\" cy=\"57\" r=\"7.0\" style=\"fill:orange;stroke:black;stroke-width:1.0\"/>\n",
       "<circle cx=\"320\" cy=\"20\" r=\"7.0\" style=\"fill:orange;stroke:black;stroke-width:1.0\"/>\n",
       "<circle cx=\"370\" cy=\"320\" r=\"7.0\" style=\"fill:blue;stroke:black;stroke-width:1.0\"/>\n",
       "<circle cx=\"370\" cy=\"282\" r=\"7.0\" style=\"fill:blue;stroke:black;stroke-width:1.0\"/>\n",
       "<circle cx=\"370\" cy=\"245\" r=\"7.0\" style=\"fill:blue;stroke:black;stroke-width:1.0\"/>\n",
       "<circle cx=\"370\" cy=\"207\" r=\"7.0\" style=\"fill:blue;stroke:black;stroke-width:1.0\"/>\n",
       "<circle cx=\"370\" cy=\"170\" r=\"7.0\" style=\"fill:blue;stroke:black;stroke-width:1.0\"/>\n",
       "<circle cx=\"370\" cy=\"132\" r=\"7.0\" style=\"fill:orange;stroke:black;stroke-width:1.0\"/>\n",
       "<circle cx=\"370\" cy=\"95\" r=\"7.0\" style=\"fill:orange;stroke:black;stroke-width:1.0\"/>\n",
       "<circle cx=\"370\" cy=\"57\" r=\"7.0\" style=\"fill:orange;stroke:black;stroke-width:1.0\"/>\n",
       "<circle cx=\"370\" cy=\"20\" r=\"7.0\" style=\"fill:orange;stroke:black;stroke-width:1.0\"/>\n",
       "<circle cx=\"420\" cy=\"320\" r=\"7.0\" style=\"fill:blue;stroke:black;stroke-width:1.0\"/>\n",
       "<circle cx=\"420\" cy=\"282\" r=\"7.0\" style=\"fill:blue;stroke:black;stroke-width:1.0\"/>\n",
       "<circle cx=\"420\" cy=\"245\" r=\"7.0\" style=\"fill:blue;stroke:black;stroke-width:1.0\"/>\n",
       "<circle cx=\"420\" cy=\"207\" r=\"7.0\" style=\"fill:blue;stroke:black;stroke-width:1.0\"/>\n",
       "<circle cx=\"420\" cy=\"170\" r=\"7.0\" style=\"fill:blue;stroke:black;stroke-width:1.0\"/>\n",
       "<circle cx=\"420\" cy=\"132\" r=\"7.0\" style=\"fill:orange;stroke:black;stroke-width:1.0\"/>\n",
       "<circle cx=\"420\" cy=\"95\" r=\"7.0\" style=\"fill:orange;stroke:black;stroke-width:1.0\"/>\n",
       "<circle cx=\"420\" cy=\"57\" r=\"7.0\" style=\"fill:orange;stroke:black;stroke-width:1.0\"/>\n",
       "<circle cx=\"420\" cy=\"20\" r=\"7.0\" style=\"fill:orange;stroke:black;stroke-width:1.0\"/>\n",
       "</svg>"
      ],
      "text/plain": [
       "<IPython.core.display.SVG object>"
      ]
     },
     "execution_count": 31,
     "metadata": {},
     "output_type": "execute_result"
    }
   ],
   "source": [
    "SVG(svg_graph(adjacency, position, labels=labels))"
   ]
  },
  {
   "cell_type": "markdown",
   "metadata": {},
   "source": [
    "# quotient graph"
   ]
  },
  {
   "cell_type": "code",
   "execution_count": 32,
   "metadata": {},
   "outputs": [],
   "source": [
    "node_label = dict(zip(G_st.nodes(), labels))"
   ]
  },
  {
   "cell_type": "code",
   "execution_count": 33,
   "metadata": {},
   "outputs": [],
   "source": [
    "same_component = lambda u, v: node_label[u] == node_label[v]"
   ]
  },
  {
   "cell_type": "code",
   "execution_count": 34,
   "metadata": {},
   "outputs": [],
   "source": [
    "G_q = nx.quotient_graph(G_st, same_component)"
   ]
  },
  {
   "cell_type": "markdown",
   "metadata": {},
   "source": [
    "## vertices and edges in the resulting quotient graph"
   ]
  },
  {
   "cell_type": "code",
   "execution_count": 35,
   "metadata": {},
   "outputs": [],
   "source": [
    "from pprint import pprint"
   ]
  },
  {
   "cell_type": "code",
   "execution_count": 36,
   "metadata": {},
   "outputs": [
    {
     "name": "stdout",
     "output_type": "stream",
     "text": [
      "[(frozenset({(1, 1),\n",
      "             (2, 1),\n",
      "             (2, 2),\n",
      "             (2, 4),\n",
      "             (3, 2),\n",
      "             (3, 4),\n",
      "             (4, 3),\n",
      "             (6, 5),\n",
      "             (7, 6),\n",
      "             (8, 1)}),\n",
      "  {'density': 0.08888888888888889,\n",
      "   'graph': <networkx.classes.graph.Graph object at 0x7f914b22a2e0>,\n",
      "   'nedges': 4,\n",
      "   'nnodes': 10}),\n",
      " (frozenset({(4, 4),\n",
      "             (5, 1),\n",
      "             (5, 4),\n",
      "             (6, 4),\n",
      "             (6, 6),\n",
      "             (7, 1),\n",
      "             (7, 7),\n",
      "             (7, 8),\n",
      "             (8, 2)}),\n",
      "  {'density': 0.08333333333333333,\n",
      "   'graph': <networkx.classes.graph.Graph object at 0x7f914b22a8e0>,\n",
      "   'nedges': 3,\n",
      "   'nnodes': 9}),\n",
      " (frozenset({(2, 7), (6, 1), (4, 2), (3, 3), (2, 6), (2, 5), (4, 1), (2, 8)}),\n",
      "  {'density': 0.14285714285714285,\n",
      "   'graph': <networkx.classes.graph.Graph object at 0x7f914b22a3d0>,\n",
      "   'nedges': 4,\n",
      "   'nnodes': 8})]\n"
     ]
    }
   ],
   "source": [
    "pprint([e for e in G_q.nodes(data=True)])"
   ]
  },
  {
   "cell_type": "code",
   "execution_count": 37,
   "metadata": {},
   "outputs": [
    {
     "name": "stdout",
     "output_type": "stream",
     "text": [
      "[(frozenset({(1, 1),\n",
      "             (2, 1),\n",
      "             (2, 2),\n",
      "             (2, 4),\n",
      "             (3, 2),\n",
      "             (3, 4),\n",
      "             (4, 3),\n",
      "             (6, 5),\n",
      "             (7, 6),\n",
      "             (8, 1)}),\n",
      "  frozenset({(4, 4),\n",
      "             (5, 1),\n",
      "             (5, 4),\n",
      "             (6, 4),\n",
      "             (6, 6),\n",
      "             (7, 1),\n",
      "             (7, 7),\n",
      "             (7, 8),\n",
      "             (8, 2)}),\n",
      "  {'weight': 7}),\n",
      " (frozenset({(1, 1),\n",
      "             (2, 1),\n",
      "             (2, 2),\n",
      "             (2, 4),\n",
      "             (3, 2),\n",
      "             (3, 4),\n",
      "             (4, 3),\n",
      "             (6, 5),\n",
      "             (7, 6),\n",
      "             (8, 1)}),\n",
      "  frozenset({(2, 7), (6, 1), (4, 2), (3, 3), (2, 6), (2, 5), (4, 1), (2, 8)}),\n",
      "  {'weight': 5}),\n",
      " (frozenset({(4, 4),\n",
      "             (5, 1),\n",
      "             (5, 4),\n",
      "             (6, 4),\n",
      "             (6, 6),\n",
      "             (7, 1),\n",
      "             (7, 7),\n",
      "             (7, 8),\n",
      "             (8, 2)}),\n",
      "  frozenset({(2, 7), (6, 1), (4, 2), (3, 3), (2, 6), (2, 5), (4, 1), (2, 8)}),\n",
      "  {'weight': 3})]\n"
     ]
    }
   ],
   "source": [
    "pprint([e for e in G_q.edges(data=True)])"
   ]
  },
  {
   "cell_type": "code",
   "execution_count": 38,
   "metadata": {},
   "outputs": [],
   "source": [
    "def centroid(node_set):\n",
    "    # TODO: refactor\n",
    "    x_values, y_values = zip(*list(node_set))\n",
    "    return (np.mean(x_values), np.mean(y_values))"
   ]
  },
  {
   "cell_type": "code",
   "execution_count": 39,
   "metadata": {},
   "outputs": [],
   "source": [
    "node_pos = {n: centroid(n) for n in list(G_q.nodes())}\n",
    "node_color = {n: node_label[list(n)[0]] for n in G_q.nodes()}"
   ]
  },
  {
   "cell_type": "code",
   "execution_count": 40,
   "metadata": {},
   "outputs": [
    {
     "data": {
      "image/png": "[encoded data removed]",
      "text/plain": [
       "<Figure size 432x288 with 1 Axes>"
      ]
     },
     "metadata": {},
     "output_type": "display_data"
    }
   ],
   "source": [
    "nx.draw(G_q, \n",
    "        pos=node_pos, \n",
    "        with_labels=True,\n",
    "        node_color=list(node_color.values()),\n",
    "       )"
   ]
  },
  {
   "cell_type": "markdown",
   "metadata": {},
   "source": [
    "## quotient graph with new node labels"
   ]
  },
  {
   "cell_type": "code",
   "execution_count": 41,
   "metadata": {},
   "outputs": [],
   "source": [
    "G_relabel = nx.quotient_graph(G_st, same_component, relabel=True)"
   ]
  },
  {
   "cell_type": "code",
   "execution_count": 42,
   "metadata": {},
   "outputs": [
    {
     "data": {
      "text/plain": [
       "NodeView((0, 1, 2))"
      ]
     },
     "execution_count": 42,
     "metadata": {},
     "output_type": "execute_result"
    }
   ],
   "source": [
    "G_relabel.nodes()"
   ]
  },
  {
   "cell_type": "code",
   "execution_count": 43,
   "metadata": {},
   "outputs": [
    {
     "data": {
      "text/plain": [
       "EdgeView([(0, 1), (0, 2), (1, 2)])"
      ]
     },
     "execution_count": 43,
     "metadata": {},
     "output_type": "execute_result"
    }
   ],
   "source": [
    "G_relabel.edges()"
   ]
  },
  {
   "cell_type": "code",
   "execution_count": 44,
   "metadata": {},
   "outputs": [
    {
     "data": {
      "image/png": "[encoded data removed]",
      "text/plain": [
       "<Figure size 432x288 with 1 Axes>"
      ]
     },
     "metadata": {},
     "output_type": "display_data"
    }
   ],
   "source": [
    "nx.draw(G_relabel, with_labels=True)"
   ]
  },
  {
   "cell_type": "markdown",
   "metadata": {},
   "source": [
    "# Watermark"
   ]
  },
  {
   "cell_type": "code",
   "execution_count": 45,
   "metadata": {},
   "outputs": [],
   "source": [
    "%load_ext watermark"
   ]
  },
  {
   "cell_type": "code",
   "execution_count": 46,
   "metadata": {},
   "outputs": [
    {
     "name": "stdout",
     "output_type": "stream",
     "text": [
      "Patricio Reyes \n",
      "last updated: 2020-10-20 12:14:42 \n",
      "\n",
      "CPython 3.8.6\n",
      "IPython 7.18.1\n",
      "\n",
      "compiler   : GCC 7.5.0\n",
      "system     : Linux\n",
      "release    : 4.4.0-193-generic\n",
      "machine    : x86_64\n",
      "processor  : x86_64\n",
      "CPU cores  : 40\n",
      "interpreter: 64bit\n",
      "Git hash   : f028298827dfc0bc82e5941882a6bd14491dc9b3\n",
      "Git branch : master\n",
      "watermark 2.0.2\n"
     ]
    }
   ],
   "source": [
    "# NBVAL_IGNORE_OUTPUT\n",
    "%watermark -a \"Patricio Reyes\" -u -d -t -v -m -g -wb"
   ]
  },
  {
   "cell_type": "code",
   "execution_count": 47,
   "metadata": {},
   "outputs": [
    {
     "name": "stdout",
     "output_type": "stream",
     "text": [
      "numpy    1.19.2\n",
      "pandas   1.1.3\n",
      "networkx 2.5\n",
      "json     2.0.9\n",
      "\n"
     ]
    }
   ],
   "source": [
    "# NBVAL_IGNORE_OUTPUT\n",
    "%watermark -iv"
   ]
  }
 ],
 "metadata": {
  "kernelspec": {
   "display_name": "Python (landscape_steiner)",
   "language": "python",
   "name": "landscape_steiner"
  },
  "language_info": {
   "codemirror_mode": {
    "name": "ipython",
    "version": 3
   },
   "file_extension": ".py",
   "mimetype": "text/x-python",
   "name": "python",
   "nbconvert_exporter": "python",
   "pygments_lexer": "ipython3",
   "version": "3.8.6"
  },
  "toc-autonumbering": true
 },
 "nbformat": 4,
 "nbformat_minor": 4
}
