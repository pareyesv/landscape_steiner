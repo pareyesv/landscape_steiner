{
 "cells": [
  {
   "cell_type": "code",
   "execution_count": 1,
   "metadata": {},
   "outputs": [],
   "source": [
    "%load_ext autoreload\n",
    "%autoreload 2"
   ]
  },
  {
   "cell_type": "code",
   "execution_count": 70,
   "metadata": {},
   "outputs": [],
   "source": [
    "import numpy as np\n",
    "import matplotlib.pyplot as plt\n",
    "from scipy import interpolate, stats\n",
    "\n",
    "import time\n",
    "\n",
    "import networkx as nx\n",
    "from networkx.algorithms import approximation as apx\n",
    "\n",
    "import pandas as pd\n",
    "import random\n",
    "\n",
    "import landscape as ld\n",
    "import steiner_utils as su"
   ]
  },
  {
   "cell_type": "code",
   "execution_count": 3,
   "metadata": {},
   "outputs": [],
   "source": [
    "def get_pos(g):\n",
    "    '''returns dictionary with nodes physical location'''\n",
    "    return dict( (n, n) for n in g.nodes() )"
   ]
  },
  {
   "cell_type": "markdown",
   "metadata": {},
   "source": [
    "# Example 1"
   ]
  },
  {
   "cell_type": "markdown",
   "metadata": {},
   "source": [
    "## Naive Steiner"
   ]
  },
  {
   "cell_type": "code",
   "execution_count": 5,
   "metadata": {},
   "outputs": [],
   "source": [
    "terminals_1 = [(1, 1), (2, 2), (3, 4), (5, 1), (5, 4), (8, 2), (7, 8), (6,  6), (2,8), (4,3)]\n",
    "G_1 = su.create_graph(box_size = 10, terminals = terminals_1)"
   ]
  },
  {
   "cell_type": "code",
   "execution_count": 6,
   "metadata": {},
   "outputs": [
    {
     "name": "stdout",
     "output_type": "stream",
     "text": [
      "Number of clusters: 1; Number of nodes: 81; Number of edges: 144; Number of terminals: 10\n"
     ]
    },
    {
     "data": {
      "text/plain": [
       "(1, 81, 144, 10)"
      ]
     },
     "execution_count": 6,
     "metadata": {},
     "output_type": "execute_result"
    }
   ],
   "source": [
    "su.graph_info(G_1, verbosity = True)"
   ]
  },
  {
   "cell_type": "code",
   "execution_count": 7,
   "metadata": {},
   "outputs": [
    {
     "data": {
      "image/png": "[encoded data removed]",
      "text/plain": [
       "<Figure size 432x432 with 1 Axes>"
      ]
     },
     "metadata": {
      "needs_background": "light"
     },
     "output_type": "display_data"
    }
   ],
   "source": [
    "su.plot_graph_on_grid(G_1, box_size = 10)"
   ]
  },
  {
   "cell_type": "code",
   "execution_count": 8,
   "metadata": {},
   "outputs": [
    {
     "data": {
      "image/png": "[encoded data removed]",
      "text/plain": [
       "<Figure size 432x432 with 1 Axes>"
      ]
     },
     "metadata": {},
     "output_type": "display_data"
    }
   ],
   "source": [
    "steiner_1 = su.naive_steiner(G_1)\n",
    "su.plot_graph_on_grid(G_1, box_size = 10, tree = steiner_1)"
   ]
  },
  {
   "cell_type": "markdown",
   "metadata": {},
   "source": [
    "## Improved Steiner"
   ]
  },
  {
   "cell_type": "code",
   "execution_count": 9,
   "metadata": {},
   "outputs": [],
   "source": [
    "# create graph with terminals\n",
    "terminals_1 = [(1, 1), (2, 2), (3, 4), (5, 1), (5, 4), (8, 2), (7, 8), (6,  6), (2,8), (4,3)]\n",
    "G_1 = su.create_graph(box_size = 10, terminals = terminals_1)"
   ]
  },
  {
   "cell_type": "code",
   "execution_count": 10,
   "metadata": {},
   "outputs": [
    {
     "name": "stdout",
     "output_type": "stream",
     "text": [
      "Properties of the original graph: \n",
      "Number of clusters: 1; Number of nodes: 81; Number of edges: 144; Number of terminals: 10\n",
      "\n",
      "\n",
      "For alpha =  0.5\n",
      "Number of clusters: 6; Number of nodes: 45; Number of edges: 45; Number of terminals: 10\n",
      "For alpha =  0.55\n",
      "Number of clusters: 5; Number of nodes: 46; Number of edges: 50; Number of terminals: 10\n",
      "For alpha =  0.6\n",
      "Number of clusters: 5; Number of nodes: 47; Number of edges: 52; Number of terminals: 10\n",
      "For alpha =  0.65\n",
      "Number of clusters: 5; Number of nodes: 50; Number of edges: 55; Number of terminals: 10\n",
      "For alpha =  0.7\n",
      "Number of clusters: 5; Number of nodes: 52; Number of edges: 59; Number of terminals: 10\n",
      "For alpha =  0.75\n",
      "Number of clusters: 2; Number of nodes: 53; Number of edges: 64; Number of terminals: 10\n"
     ]
    }
   ],
   "source": [
    "# obtain clusters by using landscape and condition on subgraphs \n",
    "clusters_1 = su.trim_graph_landscape(G_1, box_size = 10, condition = 'n_clusters <= 2')"
   ]
  },
  {
   "cell_type": "code",
   "execution_count": 11,
   "metadata": {},
   "outputs": [],
   "source": [
    "# compute partial steiners\n",
    "partial_steiners = list(map(su.naive_steiner, clusters_1))\n",
    "\n",
    "#join steiners\n",
    "full_steiner_1 = su.join_all_trees(G_1, partial_steiners)"
   ]
  },
  {
   "cell_type": "code",
   "execution_count": 12,
   "metadata": {},
   "outputs": [
    {
     "data": {
      "image/png": "[encoded data removed]",
      "text/plain": [
       "<Figure size 432x432 with 1 Axes>"
      ]
     },
     "metadata": {},
     "output_type": "display_data"
    }
   ],
   "source": [
    "su.plot_graph_on_grid(G_1, box_size = 10, tree = full_steiner_1)"
   ]
  },
  {
   "cell_type": "markdown",
   "metadata": {},
   "source": [
    "# Example 2\n",
    "Points selected at random. \n",
    "\n",
    "boundary effects:\n",
    "- spurious paths along boundary"
   ]
  },
  {
   "cell_type": "code",
   "execution_count": 65,
   "metadata": {},
   "outputs": [
    {
     "data": {
      "text/plain": [
       "(1, 2401, 4704, 321)"
      ]
     },
     "execution_count": 65,
     "metadata": {},
     "output_type": "execute_result"
    }
   ],
   "source": [
    "L0 = 50; Nterm = 350\n",
    "terminals_2 = su.make_random_terminals(box_size = L0, Nterminals = Nterm)\n",
    "G_2 = su.create_graph(box_size = L0, terminals = terminals_2)\n",
    "su.graph_info(G_2, verbosity = False)"
   ]
  },
  {
   "cell_type": "code",
   "execution_count": 75,
   "metadata": {},
   "outputs": [
    {
     "name": "stdout",
     "output_type": "stream",
     "text": [
      "Calculation took 61.4937539100647 sec\n"
     ]
    }
   ],
   "source": [
    "tic = time.time()\n",
    "steiner_2 = su.naive_steiner(G_2)\n",
    "\n",
    "toc = time.time()\n",
    "print('Calculation took {} sec'.format(toc-tic))"
   ]
  },
  {
   "cell_type": "code",
   "execution_count": 78,
   "metadata": {},
   "outputs": [
    {
     "data": {
      "text/plain": [
       "692"
      ]
     },
     "execution_count": 78,
     "metadata": {},
     "output_type": "execute_result"
    }
   ],
   "source": [
    "len(steiner_2)"
   ]
  },
  {
   "cell_type": "code",
   "execution_count": 58,
   "metadata": {},
   "outputs": [
    {
     "data": {
      "image/png": "[encoded data removed]",
      "text/plain": [
       "<Figure size 432x432 with 1 Axes>"
      ]
     },
     "metadata": {},
     "output_type": "display_data"
    }
   ],
   "source": [
    "su.plot_graph_on_grid(G_2, box_size = L0, tree = steiner_2)"
   ]
  },
  {
   "cell_type": "code",
   "execution_count": 68,
   "metadata": {},
   "outputs": [],
   "source": [
    "def improved_steiner(G, box_size, condition):\n",
    "    \n",
    "    clusters = su.trim_graph_landscape(G, box_size = L0, condition = condition)\n",
    "    \n",
    "    #print('Computing Steiners in {} clusters'.format(len(clusters)) )\n",
    "    \n",
    "    partial_steiners = list(map(su.naive_steiner, clusters))\n",
    "    \n",
    "    full_steiner = su.join_all_trees(G, partial_steiners)\n",
    "    \n",
    "    return full_steiner"
   ]
  },
  {
   "cell_type": "code",
   "execution_count": 76,
   "metadata": {},
   "outputs": [
    {
     "name": "stdout",
     "output_type": "stream",
     "text": [
      "Calculation took 53.362611293792725 sec\n"
     ]
    }
   ],
   "source": [
    "tic = time.time()\n",
    "full_steiner_2 = improved_steiner(G_2, box_size = L0, condition = 'n_clusters <= 6')\n",
    "\n",
    "toc = time.time()\n",
    "print('Calculation took {} sec'.format(toc-tic))"
   ]
  },
  {
   "cell_type": "code",
   "execution_count": 77,
   "metadata": {},
   "outputs": [
    {
     "data": {
      "image/png": "[encoded data removed]",
      "text/plain": [
       "<Figure size 432x432 with 1 Axes>"
      ]
     },
     "metadata": {},
     "output_type": "display_data"
    }
   ],
   "source": [
    "su.plot_graph_on_grid(G_2, box_size = L0, tree = full_steiner_2)"
   ]
  },
  {
   "cell_type": "code",
   "execution_count": null,
   "metadata": {},
   "outputs": [],
   "source": []
  }
 ],
 "metadata": {
  "kernelspec": {
   "display_name": "Python [conda env:networks]",
   "language": "python",
   "name": "conda-env-networks-py"
  },
  "language_info": {
   "codemirror_mode": {
    "name": "ipython",
    "version": 3
   },
   "file_extension": ".py",
   "mimetype": "text/x-python",
   "name": "python",
   "nbconvert_exporter": "python",
   "pygments_lexer": "ipython3",
   "version": "3.7.7"
  }
 },
 "nbformat": 4,
 "nbformat_minor": 2
}
