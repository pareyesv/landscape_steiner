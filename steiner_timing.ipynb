{
 "cells": [
  {
   "cell_type": "code",
   "execution_count": 1,
   "metadata": {},
   "outputs": [],
   "source": [
    "%load_ext autoreload\n",
    "%autoreload 2"
   ]
  },
  {
   "cell_type": "code",
   "execution_count": 2,
   "metadata": {},
   "outputs": [],
   "source": [
    "import numpy as np\n",
    "import matplotlib.pyplot as plt\n",
    "#from scipy import interpolate, stats\n",
    "import itertools \n",
    "\n",
    "import time\n",
    "\n",
    "import networkx as nx\n",
    "from networkx.algorithms import approximation as apx\n",
    "\n",
    "#import pandas as pd\n",
    "#import random\n",
    "\n",
    "import landscape as ld\n",
    "import steiner_utils as su"
   ]
  },
  {
   "cell_type": "code",
   "execution_count": 3,
   "metadata": {},
   "outputs": [],
   "source": [
    "def get_pos(g):\n",
    "    '''returns dictionary with nodes physical location'''\n",
    "    return dict( (n, n) for n in g.nodes() )"
   ]
  },
  {
   "cell_type": "markdown",
   "metadata": {},
   "source": [
    "# Compute timing\n",
    "Points selected at random. "
   ]
  },
  {
   "cell_type": "code",
   "execution_count": 4,
   "metadata": {},
   "outputs": [
    {
     "data": {
      "text/plain": [
       "(1, 81, 144, 7)"
      ]
     },
     "execution_count": 4,
     "metadata": {},
     "output_type": "execute_result"
    }
   ],
   "source": [
    "L0 = 10; Nterm = 10\n",
    "terminals_2 = su.make_random_terminals(box_size = L0, Nterminals = Nterm)\n",
    "G_2 = su.create_graph(box_size = L0, terminals = terminals_2)\n",
    "su.graph_info(G_2, verbosity = False)"
   ]
  },
  {
   "cell_type": "code",
   "execution_count": 11,
   "metadata": {},
   "outputs": [
    {
     "name": "stdout",
     "output_type": "stream",
     "text": [
      "Calculation took 0.028564929962158203 sec\n",
      "Length of Steiner tree 21\n"
     ]
    }
   ],
   "source": [
    "tic = time.time()\n",
    "steiner_2 = su.naive_steiner(G_2)\n",
    "\n",
    "toc = time.time()\n",
    "print('Calculation took {} sec'.format(toc-tic))\n",
    "print('Length of Steiner tree {}'.format(len(steiner_2)))  "
   ]
  },
  {
   "cell_type": "code",
   "execution_count": 6,
   "metadata": {},
   "outputs": [],
   "source": [
    "def time_steiner(L0, Nterm):\n",
    "    terminals = su.make_random_terminals(box_size = L0, Nterminals = Nterm)\n",
    "    G = su.create_graph(box_size = L0, terminals = terminals)\n",
    "    \n",
    "    info = su.graph_info(G, verbosity = False)\n",
    "    \n",
    "    tic = time.time()\n",
    "    steiner = su.naive_steiner(G)\n",
    "\n",
    "    toc = time.time()\n",
    "    \n",
    "    return (info, (toc-tic))"
   ]
  },
  {
   "cell_type": "markdown",
   "metadata": {},
   "source": [
    "## Vary L0"
   ]
  },
  {
   "cell_type": "code",
   "execution_count": 59,
   "metadata": {},
   "outputs": [],
   "source": [
    "varyL0 = [time_steiner(L0, 20) for L0 in range(10,41,2)]"
   ]
  },
  {
   "cell_type": "code",
   "execution_count": 60,
   "metadata": {},
   "outputs": [
    {
     "data": {
      "text/plain": [
       "[((1, 81, 144, 2), 0.03021693229675293),\n",
       " ((1, 121, 220, 2), 0.06158924102783203),\n",
       " ((1, 169, 312, 2), 0.12273669242858887),\n",
       " ((1, 225, 420, 2), 0.25523900985717773),\n",
       " ((1, 289, 544, 2), 0.49970388412475586),\n",
       " ((1, 361, 684, 2), 0.6802310943603516),\n",
       " ((1, 441, 840, 2), 1.1548058986663818),\n",
       " ((1, 529, 1012, 2), 1.8995640277862549),\n",
       " ((1, 625, 1200, 2), 2.2401950359344482),\n",
       " ((1, 729, 1404, 2), 4.693856954574585),\n",
       " ((1, 841, 1624, 2), 5.688822031021118),\n",
       " ((1, 961, 1860, 2), 6.841279029846191),\n",
       " ((1, 1089, 2112, 2), 10.754734992980957),\n",
       " ((1, 1225, 2380, 2), 17.72525191307068),\n",
       " ((1, 1369, 2664, 2), 21.699496030807495),\n",
       " ((1, 1521, 2964, 2), 20.495218992233276)]"
      ]
     },
     "execution_count": 60,
     "metadata": {},
     "output_type": "execute_result"
    }
   ],
   "source": [
    "varyL0"
   ]
  },
  {
   "cell_type": "code",
   "execution_count": 61,
   "metadata": {},
   "outputs": [],
   "source": [
    "X, Y = [x[-2] for x,y in varyL0], [y for x,y in varyL0]"
   ]
  },
  {
   "cell_type": "code",
   "execution_count": 62,
   "metadata": {},
   "outputs": [
    {
     "data": {
      "image/png": "[encoded data removed]",
      "text/plain": [
       "<Figure size 432x288 with 1 Axes>"
      ]
     },
     "metadata": {
      "needs_background": "light"
     },
     "output_type": "display_data"
    }
   ],
   "source": [
    "fig = plt.figure()\n",
    "ax = fig.add_subplot(1, 1, 1)\n",
    "line = ax.plot(X, Y, 'o', color='blue')"
   ]
  },
  {
   "cell_type": "markdown",
   "metadata": {},
   "source": [
    "## vary Nterm"
   ]
  },
  {
   "cell_type": "code",
   "execution_count": 85,
   "metadata": {},
   "outputs": [],
   "source": [
    "varyNterm = [(Nterm, time_steiner(30, Nterm)) for Nterm in range(10,61,4)]"
   ]
  },
  {
   "cell_type": "code",
   "execution_count": 86,
   "metadata": {},
   "outputs": [],
   "source": [
    "X, Y = [x for x,y in varyNterm], [y for x,y in varyNterm]"
   ]
  },
  {
   "cell_type": "code",
   "execution_count": 87,
   "metadata": {},
   "outputs": [
    {
     "data": {
      "text/plain": [
       "[<matplotlib.lines.Line2D at 0xd19b71610>]"
      ]
     },
     "execution_count": 87,
     "metadata": {},
     "output_type": "execute_result"
    },
    {
     "data": {
      "image/png": "[encoded data removed]",
      "text/plain": [
       "<Figure size 432x288 with 1 Axes>"
      ]
     },
     "metadata": {
      "needs_background": "light"
     },
     "output_type": "display_data"
    }
   ],
   "source": [
    "plt.plot(X,Y,'o')"
   ]
  },
  {
   "cell_type": "markdown",
   "metadata": {},
   "source": [
    "# Shortest path"
   ]
  },
  {
   "cell_type": "code",
   "execution_count": 76,
   "metadata": {},
   "outputs": [
    {
     "data": {
      "text/plain": [
       "(1, 1521, 2964, 2)"
      ]
     },
     "execution_count": 76,
     "metadata": {},
     "output_type": "execute_result"
    }
   ],
   "source": [
    "L0 = 40; Nterm = 2\n",
    "terminals_3 = su.make_random_terminals(box_size = L0, Nterminals = Nterm)\n",
    "G_3 = su.create_graph(box_size = L0, terminals = terminals_3)\n",
    "su.graph_info(G_3, verbosity = False)"
   ]
  },
  {
   "cell_type": "code",
   "execution_count": 92,
   "metadata": {},
   "outputs": [],
   "source": [
    "def time_shortest_path(L0):\n",
    "    \n",
    "    terminals = su.make_random_terminals(box_size = L0, Nterminals = 2)\n",
    "    G = su.create_graph(box_size = L0, terminals = terminals)\n",
    "    info = su.graph_info(G, verbosity = False)\n",
    "    \n",
    "    s, t = terminals\n",
    "    \n",
    "    tic = time.time()\n",
    "    nx.algorithms.shortest_path(G, source = s, target = t)\n",
    "    toc = time.time()\n",
    "    \n",
    "    return (info, (toc-tic))"
   ]
  },
  {
   "cell_type": "code",
   "execution_count": 164,
   "metadata": {},
   "outputs": [],
   "source": [
    "allY = []\n",
    "for i in range(30):\n",
    "    TimingsShortestPath = [time_shortest_path(L0) for L0 in range(10,61,2)]\n",
    "    X = [x[2] for x,y in TimingsShortestPath]\n",
    "    Y = np.array([y for x,y in TimingsShortestPath])\n",
    "    allY.append(Y)"
   ]
  },
  {
   "cell_type": "code",
   "execution_count": 165,
   "metadata": {},
   "outputs": [],
   "source": [
    "meanY = np.mean(allY, axis= 0)"
   ]
  },
  {
   "cell_type": "code",
   "execution_count": 166,
   "metadata": {},
   "outputs": [
    {
     "data": {
      "image/png": "[encoded data removed]",
      "text/plain": [
       "<Figure size 432x288 with 1 Axes>"
      ]
     },
     "metadata": {
      "needs_background": "light"
     },
     "output_type": "display_data"
    }
   ],
   "source": [
    "plt.plot(X,meanY,'o');"
   ]
  },
  {
   "cell_type": "code",
   "execution_count": 163,
   "metadata": {},
   "outputs": [
    {
     "data": {
      "image/png": "[encoded data removed]",
      "text/plain": [
       "<Figure size 432x288 with 1 Axes>"
      ]
     },
     "metadata": {
      "needs_background": "light"
     },
     "output_type": "display_data"
    }
   ],
   "source": [
    "plt.plot(X,meanY,'o');"
   ]
  },
  {
   "cell_type": "code",
   "execution_count": null,
   "metadata": {},
   "outputs": [],
   "source": []
  }
 ],
 "metadata": {
  "kernelspec": {
   "display_name": "Python [conda env:networks]",
   "language": "python",
   "name": "conda-env-networks-py"
  },
  "language_info": {
   "codemirror_mode": {
    "name": "ipython",
    "version": 3
   },
   "file_extension": ".py",
   "mimetype": "text/x-python",
   "name": "python",
   "nbconvert_exporter": "python",
   "pygments_lexer": "ipython3",
   "version": "3.7.7"
  }
 },
 "nbformat": 4,
 "nbformat_minor": 2
}
